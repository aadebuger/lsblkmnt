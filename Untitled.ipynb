{
 "cells": [
  {
   "cell_type": "code",
   "execution_count": 1,
   "id": "dd5246c7",
   "metadata": {},
   "outputs": [],
   "source": [
    "import csv"
   ]
  },
  {
   "cell_type": "code",
   "execution_count": 2,
   "id": "80fa76c9",
   "metadata": {},
   "outputs": [
    {
     "name": "stdout",
     "output_type": "stream",
     "text": [
      "PATH, , , , , , , , , , SIZE, RO, TYPE, MOUNTPOINT, , , , , , , , , , , , , , , , , , , UUID, , , , , , , , , , , , , , , , , , , , , , , , , , , , , , , , , MODEL\n",
      "/dev/loop0, , , , 219M, , 1, loop, /snap/gnome-3-34-1804/66, , , , , , , , , , , , , , , , , , , , , , , , , , , , , , , , , , , , , , , , , , \n",
      "/dev/loop1, , , 55.5M, , 1, loop, /snap/core18/2074, , , , , , , , , , , , , , , , , , , , , , , , , , , , , , , , , , , , , , , , , , , , , , , , , \n",
      "/dev/loop2, , , 55.4M, , 1, loop, /snap/core18/2128, , , , , , , , , , , , , , , , , , , , , , , , , , , , , , , , , , , , , , , , , , , , , , , , , \n",
      "/dev/loop3, , , , 219M, , 1, loop, /snap/gnome-3-34-1804/72, , , , , , , , , , , , , , , , , , , , , , , , , , , , , , , , , , , , , , , , , , \n",
      "/dev/loop4, , , 64.8M, , 1, loop, /snap/gtk-common-themes/1514, , , , , , , , , , , , , , , , , , , , , , , , , , , , , , , , , , , , , , \n",
      "/dev/loop5, , , 65.1M, , 1, loop, /snap/gtk-common-themes/1515, , , , , , , , , , , , , , , , , , , , , , , , , , , , , , , , , , , , , , \n",
      "/dev/loop6, , 182.8M, , 1, loop, /snap/microk8s/2346, , , , , , , , , , , , , , , , , , , , , , , , , , , , , , , , , , , , , , , , , , , , , , , \n",
      "/dev/loop7, , , , , 51M, , 1, loop, /snap/snap-store/518, , , , , , , , , , , , , , , , , , , , , , , , , , , , , , , , , , , , , , , , , , , , , , \n",
      "/dev/loop8, , , , , 51M, , 1, loop, /snap/snap-store/547, , , , , , , , , , , , , , , , , , , , , , , , , , , , , , , , , , , , , , , , , , , , , , \n",
      "/dev/loop9, , , 32.3M, , 1, loop, /snap/snapd/12704, , , , , , , , , , , , , , , , , , , , , , , , , , , , , , , , , , , , , , , , , , , , , , , , , \n",
      "/dev/loop10, , 32.3M, , 1, loop, /snap/snapd/12883, , , , , , , , , , , , , , , , , , , , , , , , , , , , , , , , , , , , , , , , , , , , , , , , , \n",
      "/dev/sda, , , , 119.2G, , 0, disk, , , , , , , , , , , , , , , , , , , , , , , , , , , , , , , , , , , , , , , , , , , , , , , , , , , , , , , , , , , , , , , , , , , Teclast_128GB_A850\n",
      "/dev/sda1, , , , , 512M, , 0, part, /boot/efi, , , , , , , , , , , , , , , , , , , , 2E66-7F6A, , , , , , , , , , , , , , , , , , , , , , , , , , , , \n",
      "/dev/sda2, , , 118.8G, , 0, part, /, , , , , , , , , , , , , , , , , , , , , , , , , , , , 602123de-d0fd-4238-abbb-2526abc3f678, \n",
      "/dev/sdb, , , , , , 4.6T, , 0, disk, , , , , , , , , , , , , , , , , , , , , , , , , , , , , , bc77a4b1-9fd0-479f-aa4d-eb538bf1f00f, Expansion\n",
      "/dev/sdc, , , , , , 4.6T, , 0, disk, , , , , , , , , , , , , , , , , , , , , , , , , , , , , , de548148-0ea0-4ce8-9969-a56118e23ff0, Expansion\n",
      "/dev/sdd, , , , , , 4.6T, , 0, disk, , , , , , , , , , , , , , , , , , , , , , , , , , , , , , 379b5bc9-c95f-4b62-87e5-029be3474745, Expansion\n",
      "/dev/sde, , , , , , 4.6T, , 0, disk, , , , , , , , , , , , , , , , , , , , , , , , , , , , , , 7d48164c-fdaa-4529-a732-93c14173ef3d, Elements_SE_2622\n",
      "/dev/sdf, , , , , , 4.6T, , 0, disk, , , , , , , , , , , , , , , , , , , , , , , , , , , , , , 6ef6e756-2506-4d91-ae2d-1521def0f5f3, Elements_SE_2622\n"
     ]
    }
   ],
   "source": [
    "with open('disk.txt', newline='') as csvfile:\n",
    "    spamreader = csv.reader(csvfile, delimiter=' ', quotechar='|')\n",
    "    for row in spamreader:\n",
    "        print(', '.join(row))"
   ]
  },
  {
   "cell_type": "code",
   "execution_count": 3,
   "id": "351ffdfa",
   "metadata": {},
   "outputs": [
    {
     "name": "stdout",
     "output_type": "stream",
     "text": [
      "Looking in indexes: https://pypi.douban.com/simple\n",
      "Collecting pandas\n",
      "  Downloading https://pypi.doubanio.com/packages/a2/9b/c4879904ed1706883eb0b126f1f4baa0992dfd61ad2aac7a7af82f01b256/pandas-1.3.5-cp38-cp38-manylinux_2_17_x86_64.manylinux2014_x86_64.whl (11.5 MB)\n",
      "\u001b[K     |████████████████████████████████| 11.5 MB 14.0 MB/s eta 0:00:01   |█████▋                          | 2.0 MB 2.5 MB/s eta 0:00:04     |████████████▏                   | 4.4 MB 2.5 MB/s eta 0:00:03     |█████████████▊                  | 4.9 MB 2.5 MB/s eta 0:00:03\n",
      "\u001b[?25hRequirement already satisfied: python-dateutil>=2.7.3 in /usr/lib/python3/dist-packages (from pandas) (2.7.3)\n",
      "Collecting numpy>=1.17.3; platform_machine != \"aarch64\" and platform_machine != \"arm64\" and python_version < \"3.10\"\n",
      "  Downloading https://pypi.doubanio.com/packages/c1/fd/4648328a72f44fc9a463236448ad33a0674b0fc9045814b31b642f72b9e8/numpy-1.22.1-cp38-cp38-manylinux_2_17_x86_64.manylinux2014_x86_64.whl (16.8 MB)\n",
      "\u001b[K     |████████████████████████████████| 16.8 MB 49 kB/s s eta 0:00:01   |██████                          | 3.1 MB 1.5 MB/s eta 0:00:10     |███████████████████████▌        | 12.4 MB 12.1 MB/s eta 0:00:01     |█████████████████████████████▊  | 15.6 MB 12.1 MB/s eta 0:00:01     |██████████████████████████████▋ | 16.1 MB 12.1 MB/s eta 0:00:01\n",
      "\u001b[?25hRequirement already satisfied: pytz>=2017.3 in /usr/lib/python3/dist-packages (from pandas) (2019.3)\n",
      "Installing collected packages: numpy, pandas\n",
      "Successfully installed numpy-1.22.1 pandas-1.3.5\n"
     ]
    }
   ],
   "source": [
    "!pip install pandas -i https://pypi.douban.com/simple\n",
    "    "
   ]
  },
  {
   "cell_type": "code",
   "execution_count": 4,
   "id": "040873f8",
   "metadata": {},
   "outputs": [],
   "source": [
    "import pandas"
   ]
  },
  {
   "cell_type": "code",
   "execution_count": 5,
   "id": "93f52b96",
   "metadata": {},
   "outputs": [],
   "source": [
    "import pandas as pd"
   ]
  },
  {
   "cell_type": "code",
   "execution_count": 16,
   "id": "2badedc5",
   "metadata": {},
   "outputs": [],
   "source": [
    "pd1=pd.read_csv(\"disk.txt\",sep='\\t')"
   ]
  },
  {
   "cell_type": "code",
   "execution_count": 17,
   "id": "2a0dd5c8",
   "metadata": {},
   "outputs": [
    {
     "name": "stdout",
     "output_type": "stream",
     "text": [
      "   PATH          SIZE RO TYPE MOUNTPOINT                   UUID                                 MODEL\n",
      "0   /dev/loop0    219M  1 loop /snap/gnome-3-34-18...                                                \n",
      "1   /dev/loop1   55.5M  1 loop /snap/core18/2074  ...                                                \n",
      "2   /dev/loop2   55.4M  1 loop /snap/core18/2128  ...                                                \n",
      "3   /dev/loop3    219M  1 loop /snap/gnome-3-34-18...                                                \n",
      "4   /dev/loop4   64.8M  1 loop /snap/gtk-common-th...                                                \n",
      "5   /dev/loop5   65.1M  1 loop /snap/gtk-common-th...                                                \n",
      "6   /dev/loop6  182.8M  1 loop /snap/microk8s/2346...                                                \n",
      "7   /dev/loop7     51M  1 loop /snap/snap-store/51...                                                \n",
      "8   /dev/loop8     51M  1 loop /snap/snap-store/54...                                                \n",
      "9   /dev/loop9   32.3M  1 loop /snap/snapd/12704  ...                                                \n",
      "10  /dev/loop10  32.3M  1 loop /snap/snapd/12883  ...                                                \n",
      "11  /dev/sda    119.2G  0 disk                    ...                                                \n",
      "12  /dev/sda1     512M  0 part /boot/efi          ...                                                \n",
      "13  /dev/sda2   118.8G  0 part /                  ...                                                \n",
      "14  /dev/sdb      4.6T  0 disk                    ...                                                \n",
      "15  /dev/sdc      4.6T  0 disk                    ...                                                \n",
      "16  /dev/sdd      4.6T  0 disk                    ...                                                \n",
      "17  /dev/sde      4.6T  0 disk                    ...                                                \n",
      "18  /dev/sdf      4.6T  0 disk                    ...                                                \n"
     ]
    }
   ],
   "source": [
    "print(pd1)"
   ]
  },
  {
   "cell_type": "code",
   "execution_count": 11,
   "id": "603a01c7",
   "metadata": {},
   "outputs": [
    {
     "ename": "KeyError",
     "evalue": "'UUID'",
     "output_type": "error",
     "traceback": [
      "\u001b[0;31m---------------------------------------------------------------------------\u001b[0m",
      "\u001b[0;31mKeyError\u001b[0m                                  Traceback (most recent call last)",
      "File \u001b[0;32m~/.local/lib/python3.8/site-packages/pandas/core/indexes/base.py:3361\u001b[0m, in \u001b[0;36mIndex.get_loc\u001b[0;34m(self, key, method, tolerance)\u001b[0m\n\u001b[1;32m   3360\u001b[0m \u001b[38;5;28;01mtry\u001b[39;00m:\n\u001b[0;32m-> 3361\u001b[0m     \u001b[38;5;28;01mreturn\u001b[39;00m \u001b[38;5;28;43mself\u001b[39;49m\u001b[38;5;241;43m.\u001b[39;49m\u001b[43m_engine\u001b[49m\u001b[38;5;241;43m.\u001b[39;49m\u001b[43mget_loc\u001b[49m\u001b[43m(\u001b[49m\u001b[43mcasted_key\u001b[49m\u001b[43m)\u001b[49m\n\u001b[1;32m   3362\u001b[0m \u001b[38;5;28;01mexcept\u001b[39;00m \u001b[38;5;167;01mKeyError\u001b[39;00m \u001b[38;5;28;01mas\u001b[39;00m err:\n",
      "File \u001b[0;32m~/.local/lib/python3.8/site-packages/pandas/_libs/index.pyx:76\u001b[0m, in \u001b[0;36mpandas._libs.index.IndexEngine.get_loc\u001b[0;34m()\u001b[0m\n",
      "File \u001b[0;32m~/.local/lib/python3.8/site-packages/pandas/_libs/index.pyx:108\u001b[0m, in \u001b[0;36mpandas._libs.index.IndexEngine.get_loc\u001b[0;34m()\u001b[0m\n",
      "File \u001b[0;32mpandas/_libs/hashtable_class_helper.pxi:5198\u001b[0m, in \u001b[0;36mpandas._libs.hashtable.PyObjectHashTable.get_item\u001b[0;34m()\u001b[0m\n",
      "File \u001b[0;32mpandas/_libs/hashtable_class_helper.pxi:5206\u001b[0m, in \u001b[0;36mpandas._libs.hashtable.PyObjectHashTable.get_item\u001b[0;34m()\u001b[0m\n",
      "\u001b[0;31mKeyError\u001b[0m: 'UUID'",
      "\nThe above exception was the direct cause of the following exception:\n",
      "\u001b[0;31mKeyError\u001b[0m                                  Traceback (most recent call last)",
      "Input \u001b[0;32mIn [11]\u001b[0m, in \u001b[0;36m<module>\u001b[0;34m\u001b[0m\n\u001b[0;32m----> 1\u001b[0m \u001b[38;5;28mprint\u001b[39m(\u001b[43mpd1\u001b[49m\u001b[43m[\u001b[49m\u001b[38;5;124;43m\"\u001b[39;49m\u001b[38;5;124;43mUUID\u001b[39;49m\u001b[38;5;124;43m\"\u001b[39;49m\u001b[43m]\u001b[49m)\n",
      "File \u001b[0;32m~/.local/lib/python3.8/site-packages/pandas/core/frame.py:3458\u001b[0m, in \u001b[0;36mDataFrame.__getitem__\u001b[0;34m(self, key)\u001b[0m\n\u001b[1;32m   3456\u001b[0m \u001b[38;5;28;01mif\u001b[39;00m \u001b[38;5;28mself\u001b[39m\u001b[38;5;241m.\u001b[39mcolumns\u001b[38;5;241m.\u001b[39mnlevels \u001b[38;5;241m>\u001b[39m \u001b[38;5;241m1\u001b[39m:\n\u001b[1;32m   3457\u001b[0m     \u001b[38;5;28;01mreturn\u001b[39;00m \u001b[38;5;28mself\u001b[39m\u001b[38;5;241m.\u001b[39m_getitem_multilevel(key)\n\u001b[0;32m-> 3458\u001b[0m indexer \u001b[38;5;241m=\u001b[39m \u001b[38;5;28;43mself\u001b[39;49m\u001b[38;5;241;43m.\u001b[39;49m\u001b[43mcolumns\u001b[49m\u001b[38;5;241;43m.\u001b[39;49m\u001b[43mget_loc\u001b[49m\u001b[43m(\u001b[49m\u001b[43mkey\u001b[49m\u001b[43m)\u001b[49m\n\u001b[1;32m   3459\u001b[0m \u001b[38;5;28;01mif\u001b[39;00m is_integer(indexer):\n\u001b[1;32m   3460\u001b[0m     indexer \u001b[38;5;241m=\u001b[39m [indexer]\n",
      "File \u001b[0;32m~/.local/lib/python3.8/site-packages/pandas/core/indexes/base.py:3363\u001b[0m, in \u001b[0;36mIndex.get_loc\u001b[0;34m(self, key, method, tolerance)\u001b[0m\n\u001b[1;32m   3361\u001b[0m         \u001b[38;5;28;01mreturn\u001b[39;00m \u001b[38;5;28mself\u001b[39m\u001b[38;5;241m.\u001b[39m_engine\u001b[38;5;241m.\u001b[39mget_loc(casted_key)\n\u001b[1;32m   3362\u001b[0m     \u001b[38;5;28;01mexcept\u001b[39;00m \u001b[38;5;167;01mKeyError\u001b[39;00m \u001b[38;5;28;01mas\u001b[39;00m err:\n\u001b[0;32m-> 3363\u001b[0m         \u001b[38;5;28;01mraise\u001b[39;00m \u001b[38;5;167;01mKeyError\u001b[39;00m(key) \u001b[38;5;28;01mfrom\u001b[39;00m \u001b[38;5;21;01merr\u001b[39;00m\n\u001b[1;32m   3365\u001b[0m \u001b[38;5;28;01mif\u001b[39;00m is_scalar(key) \u001b[38;5;129;01mand\u001b[39;00m isna(key) \u001b[38;5;129;01mand\u001b[39;00m \u001b[38;5;129;01mnot\u001b[39;00m \u001b[38;5;28mself\u001b[39m\u001b[38;5;241m.\u001b[39mhasnans:\n\u001b[1;32m   3366\u001b[0m     \u001b[38;5;28;01mraise\u001b[39;00m \u001b[38;5;167;01mKeyError\u001b[39;00m(key)\n",
      "\u001b[0;31mKeyError\u001b[0m: 'UUID'"
     ]
    }
   ],
   "source": [
    "print(pd1[\"UUID\"])"
   ]
  },
  {
   "cell_type": "code",
   "execution_count": 12,
   "id": "2ea44953",
   "metadata": {},
   "outputs": [
    {
     "name": "stdout",
     "output_type": "stream",
     "text": [
      "PATH          SIZE RO TYPE MOUNTPOINT                   UUID                                 MODEL\r\n",
      "/dev/loop0    219M  1 loop /snap/gnome-3-34-1804/66                                          \r\n",
      "/dev/loop1   55.5M  1 loop /snap/core18/2074                                                 \r\n",
      "/dev/loop2   55.4M  1 loop /snap/core18/2128                                                 \r\n",
      "/dev/loop3    219M  1 loop /snap/gnome-3-34-1804/72                                          \r\n",
      "/dev/loop4   64.8M  1 loop /snap/gtk-common-themes/1514                                      \r\n",
      "/dev/loop5   65.1M  1 loop /snap/gtk-common-themes/1515                                      \r\n",
      "/dev/loop6  182.8M  1 loop /snap/microk8s/2346                                               \r\n",
      "/dev/loop7     51M  1 loop /snap/snap-store/518                                              \r\n",
      "/dev/loop8     51M  1 loop /snap/snap-store/547                                              \r\n",
      "/dev/loop9   32.3M  1 loop /snap/snapd/12704                                                 \r\n",
      "/dev/loop10  32.3M  1 loop /snap/snapd/12883                                                 \r\n",
      "/dev/sda    119.2G  0 disk                                                                   Teclast_128GB_A850\r\n",
      "/dev/sda1     512M  0 part /boot/efi                    2E66-7F6A                            \r\n",
      "/dev/sda2   118.8G  0 part /                            602123de-d0fd-4238-abbb-2526abc3f678 \r\n",
      "/dev/sdb      4.6T  0 disk                              bc77a4b1-9fd0-479f-aa4d-eb538bf1f00f Expansion\r\n",
      "/dev/sdc      4.6T  0 disk                              de548148-0ea0-4ce8-9969-a56118e23ff0 Expansion\r\n",
      "/dev/sdd      4.6T  0 disk                              379b5bc9-c95f-4b62-87e5-029be3474745 Expansion\r\n",
      "/dev/sde      4.6T  0 disk                              7d48164c-fdaa-4529-a732-93c14173ef3d Elements_SE_2622\r\n",
      "/dev/sdf      4.6T  0 disk                              6ef6e756-2506-4d91-ae2d-1521def0f5f3 Elements_SE_2622\r\n"
     ]
    }
   ],
   "source": [
    "!cat disk.txt"
   ]
  },
  {
   "cell_type": "code",
   "execution_count": 13,
   "id": "5624019c",
   "metadata": {},
   "outputs": [
    {
     "data": {
      "text/html": [
       "<div>\n",
       "<style scoped>\n",
       "    .dataframe tbody tr th:only-of-type {\n",
       "        vertical-align: middle;\n",
       "    }\n",
       "\n",
       "    .dataframe tbody tr th {\n",
       "        vertical-align: top;\n",
       "    }\n",
       "\n",
       "    .dataframe thead th {\n",
       "        text-align: right;\n",
       "    }\n",
       "</style>\n",
       "<table border=\"1\" class=\"dataframe\">\n",
       "  <thead>\n",
       "    <tr style=\"text-align: right;\">\n",
       "      <th></th>\n",
       "      <th>PATH          SIZE RO TYPE MOUNTPOINT                   UUID                                 MODEL</th>\n",
       "    </tr>\n",
       "  </thead>\n",
       "  <tbody>\n",
       "    <tr>\n",
       "      <th>0</th>\n",
       "      <td>/dev/loop0    219M  1 loop /snap/gnome-3-34-18...</td>\n",
       "    </tr>\n",
       "    <tr>\n",
       "      <th>1</th>\n",
       "      <td>/dev/loop1   55.5M  1 loop /snap/core18/2074  ...</td>\n",
       "    </tr>\n",
       "    <tr>\n",
       "      <th>2</th>\n",
       "      <td>/dev/loop2   55.4M  1 loop /snap/core18/2128  ...</td>\n",
       "    </tr>\n",
       "    <tr>\n",
       "      <th>3</th>\n",
       "      <td>/dev/loop3    219M  1 loop /snap/gnome-3-34-18...</td>\n",
       "    </tr>\n",
       "    <tr>\n",
       "      <th>4</th>\n",
       "      <td>/dev/loop4   64.8M  1 loop /snap/gtk-common-th...</td>\n",
       "    </tr>\n",
       "    <tr>\n",
       "      <th>5</th>\n",
       "      <td>/dev/loop5   65.1M  1 loop /snap/gtk-common-th...</td>\n",
       "    </tr>\n",
       "    <tr>\n",
       "      <th>6</th>\n",
       "      <td>/dev/loop6  182.8M  1 loop /snap/microk8s/2346...</td>\n",
       "    </tr>\n",
       "    <tr>\n",
       "      <th>7</th>\n",
       "      <td>/dev/loop7     51M  1 loop /snap/snap-store/51...</td>\n",
       "    </tr>\n",
       "    <tr>\n",
       "      <th>8</th>\n",
       "      <td>/dev/loop8     51M  1 loop /snap/snap-store/54...</td>\n",
       "    </tr>\n",
       "    <tr>\n",
       "      <th>9</th>\n",
       "      <td>/dev/loop9   32.3M  1 loop /snap/snapd/12704  ...</td>\n",
       "    </tr>\n",
       "    <tr>\n",
       "      <th>10</th>\n",
       "      <td>/dev/loop10  32.3M  1 loop /snap/snapd/12883  ...</td>\n",
       "    </tr>\n",
       "    <tr>\n",
       "      <th>11</th>\n",
       "      <td>/dev/sda    119.2G  0 disk                    ...</td>\n",
       "    </tr>\n",
       "    <tr>\n",
       "      <th>12</th>\n",
       "      <td>/dev/sda1     512M  0 part /boot/efi          ...</td>\n",
       "    </tr>\n",
       "    <tr>\n",
       "      <th>13</th>\n",
       "      <td>/dev/sda2   118.8G  0 part /                  ...</td>\n",
       "    </tr>\n",
       "    <tr>\n",
       "      <th>14</th>\n",
       "      <td>/dev/sdb      4.6T  0 disk                    ...</td>\n",
       "    </tr>\n",
       "    <tr>\n",
       "      <th>15</th>\n",
       "      <td>/dev/sdc      4.6T  0 disk                    ...</td>\n",
       "    </tr>\n",
       "    <tr>\n",
       "      <th>16</th>\n",
       "      <td>/dev/sdd      4.6T  0 disk                    ...</td>\n",
       "    </tr>\n",
       "    <tr>\n",
       "      <th>17</th>\n",
       "      <td>/dev/sde      4.6T  0 disk                    ...</td>\n",
       "    </tr>\n",
       "    <tr>\n",
       "      <th>18</th>\n",
       "      <td>/dev/sdf      4.6T  0 disk                    ...</td>\n",
       "    </tr>\n",
       "  </tbody>\n",
       "</table>\n",
       "</div>"
      ],
      "text/plain": [
       "   PATH          SIZE RO TYPE MOUNTPOINT                   UUID                                 MODEL\n",
       "0   /dev/loop0    219M  1 loop /snap/gnome-3-34-18...                                                \n",
       "1   /dev/loop1   55.5M  1 loop /snap/core18/2074  ...                                                \n",
       "2   /dev/loop2   55.4M  1 loop /snap/core18/2128  ...                                                \n",
       "3   /dev/loop3    219M  1 loop /snap/gnome-3-34-18...                                                \n",
       "4   /dev/loop4   64.8M  1 loop /snap/gtk-common-th...                                                \n",
       "5   /dev/loop5   65.1M  1 loop /snap/gtk-common-th...                                                \n",
       "6   /dev/loop6  182.8M  1 loop /snap/microk8s/2346...                                                \n",
       "7   /dev/loop7     51M  1 loop /snap/snap-store/51...                                                \n",
       "8   /dev/loop8     51M  1 loop /snap/snap-store/54...                                                \n",
       "9   /dev/loop9   32.3M  1 loop /snap/snapd/12704  ...                                                \n",
       "10  /dev/loop10  32.3M  1 loop /snap/snapd/12883  ...                                                \n",
       "11  /dev/sda    119.2G  0 disk                    ...                                                \n",
       "12  /dev/sda1     512M  0 part /boot/efi          ...                                                \n",
       "13  /dev/sda2   118.8G  0 part /                  ...                                                \n",
       "14  /dev/sdb      4.6T  0 disk                    ...                                                \n",
       "15  /dev/sdc      4.6T  0 disk                    ...                                                \n",
       "16  /dev/sdd      4.6T  0 disk                    ...                                                \n",
       "17  /dev/sde      4.6T  0 disk                    ...                                                \n",
       "18  /dev/sdf      4.6T  0 disk                    ...                                                "
      ]
     },
     "execution_count": 13,
     "metadata": {},
     "output_type": "execute_result"
    }
   ],
   "source": [
    "pd1"
   ]
  },
  {
   "cell_type": "code",
   "execution_count": 18,
   "id": "8cb66f59",
   "metadata": {},
   "outputs": [
    {
     "name": "stdout",
     "output_type": "stream",
     "text": [
      "Index(['PATH          SIZE RO TYPE MOUNTPOINT                   UUID                                 MODEL'], dtype='object')\n"
     ]
    }
   ],
   "source": [
    "print(pd1.columns)"
   ]
  },
  {
   "cell_type": "code",
   "execution_count": 19,
   "id": "e121dd80",
   "metadata": {},
   "outputs": [
    {
     "ename": "ParserError",
     "evalue": "Error tokenizing data. C error: Expected 64 fields in line 13, saw 72\n",
     "output_type": "error",
     "traceback": [
      "\u001b[0;31m---------------------------------------------------------------------------\u001b[0m",
      "\u001b[0;31mParserError\u001b[0m                               Traceback (most recent call last)",
      "Input \u001b[0;32mIn [19]\u001b[0m, in \u001b[0;36m<module>\u001b[0;34m\u001b[0m\n\u001b[0;32m----> 1\u001b[0m pd1\u001b[38;5;241m=\u001b[39m\u001b[43mpd\u001b[49m\u001b[38;5;241;43m.\u001b[39;49m\u001b[43mread_csv\u001b[49m\u001b[43m(\u001b[49m\u001b[38;5;124;43m\"\u001b[39;49m\u001b[38;5;124;43mdisk1.txt\u001b[39;49m\u001b[38;5;124;43m\"\u001b[39;49m\u001b[43m,\u001b[49m\u001b[43msep\u001b[49m\u001b[38;5;241;43m=\u001b[39;49m\u001b[38;5;124;43m'\u001b[39;49m\u001b[38;5;124;43m \u001b[39;49m\u001b[38;5;124;43m'\u001b[39;49m\u001b[43m)\u001b[49m\n",
      "File \u001b[0;32m~/.local/lib/python3.8/site-packages/pandas/util/_decorators.py:311\u001b[0m, in \u001b[0;36mdeprecate_nonkeyword_arguments.<locals>.decorate.<locals>.wrapper\u001b[0;34m(*args, **kwargs)\u001b[0m\n\u001b[1;32m    305\u001b[0m \u001b[38;5;28;01mif\u001b[39;00m \u001b[38;5;28mlen\u001b[39m(args) \u001b[38;5;241m>\u001b[39m num_allow_args:\n\u001b[1;32m    306\u001b[0m     warnings\u001b[38;5;241m.\u001b[39mwarn(\n\u001b[1;32m    307\u001b[0m         msg\u001b[38;5;241m.\u001b[39mformat(arguments\u001b[38;5;241m=\u001b[39marguments),\n\u001b[1;32m    308\u001b[0m         \u001b[38;5;167;01mFutureWarning\u001b[39;00m,\n\u001b[1;32m    309\u001b[0m         stacklevel\u001b[38;5;241m=\u001b[39mstacklevel,\n\u001b[1;32m    310\u001b[0m     )\n\u001b[0;32m--> 311\u001b[0m \u001b[38;5;28;01mreturn\u001b[39;00m \u001b[43mfunc\u001b[49m\u001b[43m(\u001b[49m\u001b[38;5;241;43m*\u001b[39;49m\u001b[43margs\u001b[49m\u001b[43m,\u001b[49m\u001b[43m \u001b[49m\u001b[38;5;241;43m*\u001b[39;49m\u001b[38;5;241;43m*\u001b[39;49m\u001b[43mkwargs\u001b[49m\u001b[43m)\u001b[49m\n",
      "File \u001b[0;32m~/.local/lib/python3.8/site-packages/pandas/io/parsers/readers.py:586\u001b[0m, in \u001b[0;36mread_csv\u001b[0;34m(filepath_or_buffer, sep, delimiter, header, names, index_col, usecols, squeeze, prefix, mangle_dupe_cols, dtype, engine, converters, true_values, false_values, skipinitialspace, skiprows, skipfooter, nrows, na_values, keep_default_na, na_filter, verbose, skip_blank_lines, parse_dates, infer_datetime_format, keep_date_col, date_parser, dayfirst, cache_dates, iterator, chunksize, compression, thousands, decimal, lineterminator, quotechar, quoting, doublequote, escapechar, comment, encoding, encoding_errors, dialect, error_bad_lines, warn_bad_lines, on_bad_lines, delim_whitespace, low_memory, memory_map, float_precision, storage_options)\u001b[0m\n\u001b[1;32m    571\u001b[0m kwds_defaults \u001b[38;5;241m=\u001b[39m _refine_defaults_read(\n\u001b[1;32m    572\u001b[0m     dialect,\n\u001b[1;32m    573\u001b[0m     delimiter,\n\u001b[0;32m   (...)\u001b[0m\n\u001b[1;32m    582\u001b[0m     defaults\u001b[38;5;241m=\u001b[39m{\u001b[38;5;124m\"\u001b[39m\u001b[38;5;124mdelimiter\u001b[39m\u001b[38;5;124m\"\u001b[39m: \u001b[38;5;124m\"\u001b[39m\u001b[38;5;124m,\u001b[39m\u001b[38;5;124m\"\u001b[39m},\n\u001b[1;32m    583\u001b[0m )\n\u001b[1;32m    584\u001b[0m kwds\u001b[38;5;241m.\u001b[39mupdate(kwds_defaults)\n\u001b[0;32m--> 586\u001b[0m \u001b[38;5;28;01mreturn\u001b[39;00m \u001b[43m_read\u001b[49m\u001b[43m(\u001b[49m\u001b[43mfilepath_or_buffer\u001b[49m\u001b[43m,\u001b[49m\u001b[43m \u001b[49m\u001b[43mkwds\u001b[49m\u001b[43m)\u001b[49m\n",
      "File \u001b[0;32m~/.local/lib/python3.8/site-packages/pandas/io/parsers/readers.py:488\u001b[0m, in \u001b[0;36m_read\u001b[0;34m(filepath_or_buffer, kwds)\u001b[0m\n\u001b[1;32m    485\u001b[0m     \u001b[38;5;28;01mreturn\u001b[39;00m parser\n\u001b[1;32m    487\u001b[0m \u001b[38;5;28;01mwith\u001b[39;00m parser:\n\u001b[0;32m--> 488\u001b[0m     \u001b[38;5;28;01mreturn\u001b[39;00m \u001b[43mparser\u001b[49m\u001b[38;5;241;43m.\u001b[39;49m\u001b[43mread\u001b[49m\u001b[43m(\u001b[49m\u001b[43mnrows\u001b[49m\u001b[43m)\u001b[49m\n",
      "File \u001b[0;32m~/.local/lib/python3.8/site-packages/pandas/io/parsers/readers.py:1047\u001b[0m, in \u001b[0;36mTextFileReader.read\u001b[0;34m(self, nrows)\u001b[0m\n\u001b[1;32m   1045\u001b[0m \u001b[38;5;28;01mdef\u001b[39;00m \u001b[38;5;21mread\u001b[39m(\u001b[38;5;28mself\u001b[39m, nrows\u001b[38;5;241m=\u001b[39m\u001b[38;5;28;01mNone\u001b[39;00m):\n\u001b[1;32m   1046\u001b[0m     nrows \u001b[38;5;241m=\u001b[39m validate_integer(\u001b[38;5;124m\"\u001b[39m\u001b[38;5;124mnrows\u001b[39m\u001b[38;5;124m\"\u001b[39m, nrows)\n\u001b[0;32m-> 1047\u001b[0m     index, columns, col_dict \u001b[38;5;241m=\u001b[39m \u001b[38;5;28;43mself\u001b[39;49m\u001b[38;5;241;43m.\u001b[39;49m\u001b[43m_engine\u001b[49m\u001b[38;5;241;43m.\u001b[39;49m\u001b[43mread\u001b[49m\u001b[43m(\u001b[49m\u001b[43mnrows\u001b[49m\u001b[43m)\u001b[49m\n\u001b[1;32m   1049\u001b[0m     \u001b[38;5;28;01mif\u001b[39;00m index \u001b[38;5;129;01mis\u001b[39;00m \u001b[38;5;28;01mNone\u001b[39;00m:\n\u001b[1;32m   1050\u001b[0m         \u001b[38;5;28;01mif\u001b[39;00m col_dict:\n\u001b[1;32m   1051\u001b[0m             \u001b[38;5;66;03m# Any column is actually fine:\u001b[39;00m\n",
      "File \u001b[0;32m~/.local/lib/python3.8/site-packages/pandas/io/parsers/c_parser_wrapper.py:224\u001b[0m, in \u001b[0;36mCParserWrapper.read\u001b[0;34m(self, nrows)\u001b[0m\n\u001b[1;32m    222\u001b[0m \u001b[38;5;28;01mtry\u001b[39;00m:\n\u001b[1;32m    223\u001b[0m     \u001b[38;5;28;01mif\u001b[39;00m \u001b[38;5;28mself\u001b[39m\u001b[38;5;241m.\u001b[39mlow_memory:\n\u001b[0;32m--> 224\u001b[0m         chunks \u001b[38;5;241m=\u001b[39m \u001b[38;5;28;43mself\u001b[39;49m\u001b[38;5;241;43m.\u001b[39;49m\u001b[43m_reader\u001b[49m\u001b[38;5;241;43m.\u001b[39;49m\u001b[43mread_low_memory\u001b[49m\u001b[43m(\u001b[49m\u001b[43mnrows\u001b[49m\u001b[43m)\u001b[49m\n\u001b[1;32m    225\u001b[0m         \u001b[38;5;66;03m# destructive to chunks\u001b[39;00m\n\u001b[1;32m    226\u001b[0m         data \u001b[38;5;241m=\u001b[39m _concatenate_chunks(chunks)\n",
      "File \u001b[0;32m~/.local/lib/python3.8/site-packages/pandas/_libs/parsers.pyx:801\u001b[0m, in \u001b[0;36mpandas._libs.parsers.TextReader.read_low_memory\u001b[0;34m()\u001b[0m\n",
      "File \u001b[0;32m~/.local/lib/python3.8/site-packages/pandas/_libs/parsers.pyx:857\u001b[0m, in \u001b[0;36mpandas._libs.parsers.TextReader._read_rows\u001b[0;34m()\u001b[0m\n",
      "File \u001b[0;32m~/.local/lib/python3.8/site-packages/pandas/_libs/parsers.pyx:843\u001b[0m, in \u001b[0;36mpandas._libs.parsers.TextReader._tokenize_rows\u001b[0;34m()\u001b[0m\n",
      "File \u001b[0;32m~/.local/lib/python3.8/site-packages/pandas/_libs/parsers.pyx:1925\u001b[0m, in \u001b[0;36mpandas._libs.parsers.raise_parser_error\u001b[0;34m()\u001b[0m\n",
      "\u001b[0;31mParserError\u001b[0m: Error tokenizing data. C error: Expected 64 fields in line 13, saw 72\n"
     ]
    }
   ],
   "source": [
    "col_names = [\"PATH\", \"SIZE\", \"MOUNTPOINT\"]\n",
    "pd1=pd.read_csv(\"disk1.txt\",sep=' ')"
   ]
  },
  {
   "cell_type": "code",
   "execution_count": 20,
   "id": "8e7830e4",
   "metadata": {},
   "outputs": [
    {
     "name": "stdout",
     "output_type": "stream",
     "text": [
      "PATH          SIZE MOUNTPOINT                   UUID                                 MODEL\r\n",
      "/dev/loop0    219M /snap/gnome-3-34-1804/66                                          \r\n",
      "/dev/loop1   55.5M /snap/core18/2074                                                 \r\n",
      "/dev/loop2   55.4M /snap/core18/2128                                                 \r\n",
      "/dev/loop3    219M /snap/gnome-3-34-1804/72                                          \r\n",
      "/dev/loop4   64.8M /snap/gtk-common-themes/1514                                      \r\n",
      "/dev/loop5   65.1M /snap/gtk-common-themes/1515                                      \r\n",
      "/dev/loop6  182.8M /snap/microk8s/2346                                               \r\n",
      "/dev/loop7     51M /snap/snap-store/518                                              \r\n",
      "/dev/loop8     51M /snap/snap-store/547                                              \r\n",
      "/dev/loop9   32.3M /snap/snapd/12704                                                 \r\n",
      "/dev/loop10  32.3M /snap/snapd/12883                                                 \r\n",
      "/dev/sda    119.2G                                                                   Teclast_128GB_A850\r\n",
      "/dev/sda1     512M /boot/efi                    2E66-7F6A                            \r\n",
      "/dev/sda2   118.8G /                            602123de-d0fd-4238-abbb-2526abc3f678 \r\n",
      "/dev/sdb      4.6T                              bc77a4b1-9fd0-479f-aa4d-eb538bf1f00f Expansion\r\n",
      "/dev/sdc      4.6T                              de548148-0ea0-4ce8-9969-a56118e23ff0 Expansion\r\n",
      "/dev/sdd      4.6T                              379b5bc9-c95f-4b62-87e5-029be3474745 Expansion\r\n",
      "/dev/sde      4.6T                              7d48164c-fdaa-4529-a732-93c14173ef3d Elements_SE_2622\r\n",
      "/dev/sdf      4.6T                              6ef6e756-2506-4d91-ae2d-1521def0f5f3 Elements_SE_2622\r\n"
     ]
    }
   ],
   "source": [
    "!cat disk1.txt\n"
   ]
  },
  {
   "cell_type": "code",
   "execution_count": 22,
   "id": "4fee19d4",
   "metadata": {},
   "outputs": [],
   "source": [
    "col_names = [\"PATH\", \"SIZE\", \"MOUNTPOINT\"]\n",
    "pd1=pd.read_csv(\"disk1.txt\",sep=' ',names=col_names)"
   ]
  },
  {
   "cell_type": "code",
   "execution_count": 23,
   "id": "846b1b06",
   "metadata": {},
   "outputs": [
    {
     "name": "stdout",
     "output_type": "stream",
     "text": [
      "                                                                                                                                                                                                                                                                                                                                                                                                                                             PATH  \\\n",
      "PATH        NaN NaN    NaN                 NaN                          NaN                      NaN                  NaN NaN NaN SIZE MOUNTPOINT NaN NaN NaN NaN NaN NaN NaN NaN NaN NaN NaN NaN NaN NaN NaN       NaN NaN NaN UUID NaN NaN                                  NaN NaN NaN NaN                                  NaN              NaN NaN NaN NaN NaN NaN NaN NaN NaN NaN NaN NaN NaN NaN NaN NaN NaN NaN NaN NaN NaN NaN NaN   NaN   \n",
      "/dev/loop0  NaN NaN    NaN                 219M                         /snap/gnome-3-34-1804/66 NaN                  NaN NaN NaN NaN  NaN        NaN NaN NaN NaN NaN NaN NaN NaN NaN NaN NaN NaN NaN NaN NaN       NaN NaN NaN NaN  NaN NaN                                  NaN NaN NaN NaN                                  NaN              NaN NaN NaN NaN NaN NaN NaN NaN NaN NaN NaN NaN NaN NaN NaN NaN NaN NaN NaN NaN NaN NaN NaN   NaN   \n",
      "/dev/loop1  NaN NaN    55.5M               /snap/core18/2074            NaN                      NaN                  NaN NaN NaN NaN  NaN        NaN NaN NaN NaN NaN NaN NaN NaN NaN NaN NaN NaN NaN NaN NaN       NaN NaN NaN NaN  NaN NaN                                  NaN NaN NaN NaN                                  NaN              NaN NaN NaN NaN NaN NaN NaN NaN NaN NaN NaN NaN NaN NaN NaN NaN NaN NaN NaN NaN NaN NaN NaN   NaN   \n",
      "/dev/loop2  NaN NaN    55.4M               /snap/core18/2128            NaN                      NaN                  NaN NaN NaN NaN  NaN        NaN NaN NaN NaN NaN NaN NaN NaN NaN NaN NaN NaN NaN NaN NaN       NaN NaN NaN NaN  NaN NaN                                  NaN NaN NaN NaN                                  NaN              NaN NaN NaN NaN NaN NaN NaN NaN NaN NaN NaN NaN NaN NaN NaN NaN NaN NaN NaN NaN NaN NaN NaN   NaN   \n",
      "/dev/loop3  NaN NaN    NaN                 219M                         /snap/gnome-3-34-1804/72 NaN                  NaN NaN NaN NaN  NaN        NaN NaN NaN NaN NaN NaN NaN NaN NaN NaN NaN NaN NaN NaN NaN       NaN NaN NaN NaN  NaN NaN                                  NaN NaN NaN NaN                                  NaN              NaN NaN NaN NaN NaN NaN NaN NaN NaN NaN NaN NaN NaN NaN NaN NaN NaN NaN NaN NaN NaN NaN NaN   NaN   \n",
      "/dev/loop4  NaN NaN    64.8M               /snap/gtk-common-themes/1514 NaN                      NaN                  NaN NaN NaN NaN  NaN        NaN NaN NaN NaN NaN NaN NaN NaN NaN NaN NaN NaN NaN NaN NaN       NaN NaN NaN NaN  NaN NaN                                  NaN NaN NaN NaN                                  NaN              NaN NaN NaN NaN NaN NaN NaN NaN NaN NaN NaN NaN NaN NaN NaN NaN NaN NaN NaN NaN NaN NaN NaN   NaN   \n",
      "/dev/loop5  NaN NaN    65.1M               /snap/gtk-common-themes/1515 NaN                      NaN                  NaN NaN NaN NaN  NaN        NaN NaN NaN NaN NaN NaN NaN NaN NaN NaN NaN NaN NaN NaN NaN       NaN NaN NaN NaN  NaN NaN                                  NaN NaN NaN NaN                                  NaN              NaN NaN NaN NaN NaN NaN NaN NaN NaN NaN NaN NaN NaN NaN NaN NaN NaN NaN NaN NaN NaN NaN NaN   NaN   \n",
      "/dev/loop6  NaN 182.8M /snap/microk8s/2346 NaN                          NaN                      NaN                  NaN NaN NaN NaN  NaN        NaN NaN NaN NaN NaN NaN NaN NaN NaN NaN NaN NaN NaN NaN NaN       NaN NaN NaN NaN  NaN NaN                                  NaN NaN NaN NaN                                  NaN              NaN NaN NaN NaN NaN NaN NaN NaN NaN NaN NaN NaN NaN NaN NaN NaN NaN NaN NaN NaN NaN NaN NaN   NaN   \n",
      "/dev/loop7  NaN NaN    NaN                 NaN                          51M                      /snap/snap-store/518 NaN NaN NaN NaN  NaN        NaN NaN NaN NaN NaN NaN NaN NaN NaN NaN NaN NaN NaN NaN NaN       NaN NaN NaN NaN  NaN NaN                                  NaN NaN NaN NaN                                  NaN              NaN NaN NaN NaN NaN NaN NaN NaN NaN NaN NaN NaN NaN NaN NaN NaN NaN NaN NaN NaN NaN NaN NaN   NaN   \n",
      "/dev/loop8  NaN NaN    NaN                 NaN                          51M                      /snap/snap-store/547 NaN NaN NaN NaN  NaN        NaN NaN NaN NaN NaN NaN NaN NaN NaN NaN NaN NaN NaN NaN NaN       NaN NaN NaN NaN  NaN NaN                                  NaN NaN NaN NaN                                  NaN              NaN NaN NaN NaN NaN NaN NaN NaN NaN NaN NaN NaN NaN NaN NaN NaN NaN NaN NaN NaN NaN NaN NaN   NaN   \n",
      "/dev/loop9  NaN NaN    32.3M               /snap/snapd/12704            NaN                      NaN                  NaN NaN NaN NaN  NaN        NaN NaN NaN NaN NaN NaN NaN NaN NaN NaN NaN NaN NaN NaN NaN       NaN NaN NaN NaN  NaN NaN                                  NaN NaN NaN NaN                                  NaN              NaN NaN NaN NaN NaN NaN NaN NaN NaN NaN NaN NaN NaN NaN NaN NaN NaN NaN NaN NaN NaN NaN NaN   NaN   \n",
      "/dev/loop10 NaN 32.3M  /snap/snapd/12883   NaN                          NaN                      NaN                  NaN NaN NaN NaN  NaN        NaN NaN NaN NaN NaN NaN NaN NaN NaN NaN NaN NaN NaN NaN NaN       NaN NaN NaN NaN  NaN NaN                                  NaN NaN NaN NaN                                  NaN              NaN NaN NaN NaN NaN NaN NaN NaN NaN NaN NaN NaN NaN NaN NaN NaN NaN NaN NaN NaN NaN NaN NaN   NaN   \n",
      "/dev/sda    NaN NaN    NaN                 119.2G                       NaN                      NaN                  NaN NaN NaN NaN  NaN        NaN NaN NaN NaN NaN NaN NaN NaN NaN NaN NaN NaN NaN NaN NaN       NaN NaN NaN NaN  NaN NaN                                  NaN NaN NaN NaN                                  NaN              NaN NaN NaN NaN NaN NaN NaN NaN NaN NaN NaN NaN NaN NaN NaN NaN NaN NaN NaN NaN NaN NaN NaN   NaN   \n",
      "/dev/sda1   NaN NaN    NaN                 NaN                          512M                     /boot/efi            NaN NaN NaN NaN  NaN        NaN NaN NaN NaN NaN NaN NaN NaN NaN NaN NaN NaN NaN NaN 2E66-7F6A NaN NaN NaN NaN  NaN NaN                                  NaN NaN NaN NaN                                  NaN              NaN NaN NaN NaN NaN NaN NaN NaN NaN NaN NaN NaN NaN NaN NaN NaN NaN NaN NaN NaN NaN NaN NaN   NaN   \n",
      "/dev/sda2   NaN NaN    118.8G              /                            NaN                      NaN                  NaN NaN NaN NaN  NaN        NaN NaN NaN NaN NaN NaN NaN NaN NaN NaN NaN NaN NaN NaN NaN       NaN NaN NaN NaN  NaN 602123de-d0fd-4238-abbb-2526abc3f678 NaN NaN NaN NaN                                  NaN              NaN NaN NaN NaN NaN NaN NaN NaN NaN NaN NaN NaN NaN NaN NaN NaN NaN NaN NaN NaN NaN NaN NaN   NaN   \n",
      "/dev/sdb    NaN NaN    NaN                 NaN                          NaN                      4.6T                 NaN NaN NaN NaN  NaN        NaN NaN NaN NaN NaN NaN NaN NaN NaN NaN NaN NaN NaN NaN NaN       NaN NaN NaN NaN  NaN NaN                                  NaN NaN NaN bc77a4b1-9fd0-479f-aa4d-eb538bf1f00f Expansion        NaN NaN NaN NaN NaN NaN NaN NaN NaN NaN NaN NaN NaN NaN NaN NaN NaN NaN NaN NaN NaN NaN NaN   NaN   \n",
      "/dev/sdc    NaN NaN    NaN                 NaN                          NaN                      4.6T                 NaN NaN NaN NaN  NaN        NaN NaN NaN NaN NaN NaN NaN NaN NaN NaN NaN NaN NaN NaN NaN       NaN NaN NaN NaN  NaN NaN                                  NaN NaN NaN de548148-0ea0-4ce8-9969-a56118e23ff0 Expansion        NaN NaN NaN NaN NaN NaN NaN NaN NaN NaN NaN NaN NaN NaN NaN NaN NaN NaN NaN NaN NaN NaN NaN   NaN   \n",
      "/dev/sdd    NaN NaN    NaN                 NaN                          NaN                      4.6T                 NaN NaN NaN NaN  NaN        NaN NaN NaN NaN NaN NaN NaN NaN NaN NaN NaN NaN NaN NaN NaN       NaN NaN NaN NaN  NaN NaN                                  NaN NaN NaN 379b5bc9-c95f-4b62-87e5-029be3474745 Expansion        NaN NaN NaN NaN NaN NaN NaN NaN NaN NaN NaN NaN NaN NaN NaN NaN NaN NaN NaN NaN NaN NaN NaN   NaN   \n",
      "/dev/sde    NaN NaN    NaN                 NaN                          NaN                      4.6T                 NaN NaN NaN NaN  NaN        NaN NaN NaN NaN NaN NaN NaN NaN NaN NaN NaN NaN NaN NaN NaN       NaN NaN NaN NaN  NaN NaN                                  NaN NaN NaN 7d48164c-fdaa-4529-a732-93c14173ef3d Elements_SE_2622 NaN NaN NaN NaN NaN NaN NaN NaN NaN NaN NaN NaN NaN NaN NaN NaN NaN NaN NaN NaN NaN NaN NaN   NaN   \n",
      "/dev/sdf    NaN NaN    NaN                 NaN                          NaN                      4.6T                 NaN NaN NaN NaN  NaN        NaN NaN NaN NaN NaN NaN NaN NaN NaN NaN NaN NaN NaN NaN NaN       NaN NaN NaN NaN  NaN NaN                                  NaN NaN NaN 6ef6e756-2506-4d91-ae2d-1521def0f5f3 Elements_SE_2622 NaN NaN NaN NaN NaN NaN NaN NaN NaN NaN NaN NaN NaN NaN NaN NaN NaN NaN NaN NaN NaN NaN NaN   NaN   \n",
      "\n",
      "                                                                                                                                                                                                                                                                                                                                                                                                                                             SIZE  \\\n",
      "PATH        NaN NaN    NaN                 NaN                          NaN                      NaN                  NaN NaN NaN SIZE MOUNTPOINT NaN NaN NaN NaN NaN NaN NaN NaN NaN NaN NaN NaN NaN NaN NaN       NaN NaN NaN UUID NaN NaN                                  NaN NaN NaN NaN                                  NaN              NaN NaN NaN NaN NaN NaN NaN NaN NaN NaN NaN NaN NaN NaN NaN NaN NaN NaN NaN NaN NaN NaN NaN   NaN   \n",
      "/dev/loop0  NaN NaN    NaN                 219M                         /snap/gnome-3-34-1804/66 NaN                  NaN NaN NaN NaN  NaN        NaN NaN NaN NaN NaN NaN NaN NaN NaN NaN NaN NaN NaN NaN NaN       NaN NaN NaN NaN  NaN NaN                                  NaN NaN NaN NaN                                  NaN              NaN NaN NaN NaN NaN NaN NaN NaN NaN NaN NaN NaN NaN NaN NaN NaN NaN NaN NaN NaN NaN NaN NaN   NaN   \n",
      "/dev/loop1  NaN NaN    55.5M               /snap/core18/2074            NaN                      NaN                  NaN NaN NaN NaN  NaN        NaN NaN NaN NaN NaN NaN NaN NaN NaN NaN NaN NaN NaN NaN NaN       NaN NaN NaN NaN  NaN NaN                                  NaN NaN NaN NaN                                  NaN              NaN NaN NaN NaN NaN NaN NaN NaN NaN NaN NaN NaN NaN NaN NaN NaN NaN NaN NaN NaN NaN NaN NaN   NaN   \n",
      "/dev/loop2  NaN NaN    55.4M               /snap/core18/2128            NaN                      NaN                  NaN NaN NaN NaN  NaN        NaN NaN NaN NaN NaN NaN NaN NaN NaN NaN NaN NaN NaN NaN NaN       NaN NaN NaN NaN  NaN NaN                                  NaN NaN NaN NaN                                  NaN              NaN NaN NaN NaN NaN NaN NaN NaN NaN NaN NaN NaN NaN NaN NaN NaN NaN NaN NaN NaN NaN NaN NaN   NaN   \n",
      "/dev/loop3  NaN NaN    NaN                 219M                         /snap/gnome-3-34-1804/72 NaN                  NaN NaN NaN NaN  NaN        NaN NaN NaN NaN NaN NaN NaN NaN NaN NaN NaN NaN NaN NaN NaN       NaN NaN NaN NaN  NaN NaN                                  NaN NaN NaN NaN                                  NaN              NaN NaN NaN NaN NaN NaN NaN NaN NaN NaN NaN NaN NaN NaN NaN NaN NaN NaN NaN NaN NaN NaN NaN   NaN   \n",
      "/dev/loop4  NaN NaN    64.8M               /snap/gtk-common-themes/1514 NaN                      NaN                  NaN NaN NaN NaN  NaN        NaN NaN NaN NaN NaN NaN NaN NaN NaN NaN NaN NaN NaN NaN NaN       NaN NaN NaN NaN  NaN NaN                                  NaN NaN NaN NaN                                  NaN              NaN NaN NaN NaN NaN NaN NaN NaN NaN NaN NaN NaN NaN NaN NaN NaN NaN NaN NaN NaN NaN NaN NaN   NaN   \n",
      "/dev/loop5  NaN NaN    65.1M               /snap/gtk-common-themes/1515 NaN                      NaN                  NaN NaN NaN NaN  NaN        NaN NaN NaN NaN NaN NaN NaN NaN NaN NaN NaN NaN NaN NaN NaN       NaN NaN NaN NaN  NaN NaN                                  NaN NaN NaN NaN                                  NaN              NaN NaN NaN NaN NaN NaN NaN NaN NaN NaN NaN NaN NaN NaN NaN NaN NaN NaN NaN NaN NaN NaN NaN   NaN   \n",
      "/dev/loop6  NaN 182.8M /snap/microk8s/2346 NaN                          NaN                      NaN                  NaN NaN NaN NaN  NaN        NaN NaN NaN NaN NaN NaN NaN NaN NaN NaN NaN NaN NaN NaN NaN       NaN NaN NaN NaN  NaN NaN                                  NaN NaN NaN NaN                                  NaN              NaN NaN NaN NaN NaN NaN NaN NaN NaN NaN NaN NaN NaN NaN NaN NaN NaN NaN NaN NaN NaN NaN NaN   NaN   \n",
      "/dev/loop7  NaN NaN    NaN                 NaN                          51M                      /snap/snap-store/518 NaN NaN NaN NaN  NaN        NaN NaN NaN NaN NaN NaN NaN NaN NaN NaN NaN NaN NaN NaN NaN       NaN NaN NaN NaN  NaN NaN                                  NaN NaN NaN NaN                                  NaN              NaN NaN NaN NaN NaN NaN NaN NaN NaN NaN NaN NaN NaN NaN NaN NaN NaN NaN NaN NaN NaN NaN NaN   NaN   \n",
      "/dev/loop8  NaN NaN    NaN                 NaN                          51M                      /snap/snap-store/547 NaN NaN NaN NaN  NaN        NaN NaN NaN NaN NaN NaN NaN NaN NaN NaN NaN NaN NaN NaN NaN       NaN NaN NaN NaN  NaN NaN                                  NaN NaN NaN NaN                                  NaN              NaN NaN NaN NaN NaN NaN NaN NaN NaN NaN NaN NaN NaN NaN NaN NaN NaN NaN NaN NaN NaN NaN NaN   NaN   \n",
      "/dev/loop9  NaN NaN    32.3M               /snap/snapd/12704            NaN                      NaN                  NaN NaN NaN NaN  NaN        NaN NaN NaN NaN NaN NaN NaN NaN NaN NaN NaN NaN NaN NaN NaN       NaN NaN NaN NaN  NaN NaN                                  NaN NaN NaN NaN                                  NaN              NaN NaN NaN NaN NaN NaN NaN NaN NaN NaN NaN NaN NaN NaN NaN NaN NaN NaN NaN NaN NaN NaN NaN   NaN   \n",
      "/dev/loop10 NaN 32.3M  /snap/snapd/12883   NaN                          NaN                      NaN                  NaN NaN NaN NaN  NaN        NaN NaN NaN NaN NaN NaN NaN NaN NaN NaN NaN NaN NaN NaN NaN       NaN NaN NaN NaN  NaN NaN                                  NaN NaN NaN NaN                                  NaN              NaN NaN NaN NaN NaN NaN NaN NaN NaN NaN NaN NaN NaN NaN NaN NaN NaN NaN NaN NaN NaN NaN NaN   NaN   \n",
      "/dev/sda    NaN NaN    NaN                 119.2G                       NaN                      NaN                  NaN NaN NaN NaN  NaN        NaN NaN NaN NaN NaN NaN NaN NaN NaN NaN NaN NaN NaN NaN NaN       NaN NaN NaN NaN  NaN NaN                                  NaN NaN NaN NaN                                  NaN              NaN NaN NaN NaN NaN NaN NaN NaN NaN NaN NaN NaN NaN NaN NaN NaN NaN NaN NaN NaN NaN NaN NaN   NaN   \n",
      "/dev/sda1   NaN NaN    NaN                 NaN                          512M                     /boot/efi            NaN NaN NaN NaN  NaN        NaN NaN NaN NaN NaN NaN NaN NaN NaN NaN NaN NaN NaN NaN 2E66-7F6A NaN NaN NaN NaN  NaN NaN                                  NaN NaN NaN NaN                                  NaN              NaN NaN NaN NaN NaN NaN NaN NaN NaN NaN NaN NaN NaN NaN NaN NaN NaN NaN NaN NaN NaN NaN NaN   NaN   \n",
      "/dev/sda2   NaN NaN    118.8G              /                            NaN                      NaN                  NaN NaN NaN NaN  NaN        NaN NaN NaN NaN NaN NaN NaN NaN NaN NaN NaN NaN NaN NaN NaN       NaN NaN NaN NaN  NaN 602123de-d0fd-4238-abbb-2526abc3f678 NaN NaN NaN NaN                                  NaN              NaN NaN NaN NaN NaN NaN NaN NaN NaN NaN NaN NaN NaN NaN NaN NaN NaN NaN NaN NaN NaN NaN NaN   NaN   \n",
      "/dev/sdb    NaN NaN    NaN                 NaN                          NaN                      4.6T                 NaN NaN NaN NaN  NaN        NaN NaN NaN NaN NaN NaN NaN NaN NaN NaN NaN NaN NaN NaN NaN       NaN NaN NaN NaN  NaN NaN                                  NaN NaN NaN bc77a4b1-9fd0-479f-aa4d-eb538bf1f00f Expansion        NaN NaN NaN NaN NaN NaN NaN NaN NaN NaN NaN NaN NaN NaN NaN NaN NaN NaN NaN NaN NaN NaN NaN   NaN   \n",
      "/dev/sdc    NaN NaN    NaN                 NaN                          NaN                      4.6T                 NaN NaN NaN NaN  NaN        NaN NaN NaN NaN NaN NaN NaN NaN NaN NaN NaN NaN NaN NaN NaN       NaN NaN NaN NaN  NaN NaN                                  NaN NaN NaN de548148-0ea0-4ce8-9969-a56118e23ff0 Expansion        NaN NaN NaN NaN NaN NaN NaN NaN NaN NaN NaN NaN NaN NaN NaN NaN NaN NaN NaN NaN NaN NaN NaN   NaN   \n",
      "/dev/sdd    NaN NaN    NaN                 NaN                          NaN                      4.6T                 NaN NaN NaN NaN  NaN        NaN NaN NaN NaN NaN NaN NaN NaN NaN NaN NaN NaN NaN NaN NaN       NaN NaN NaN NaN  NaN NaN                                  NaN NaN NaN 379b5bc9-c95f-4b62-87e5-029be3474745 Expansion        NaN NaN NaN NaN NaN NaN NaN NaN NaN NaN NaN NaN NaN NaN NaN NaN NaN NaN NaN NaN NaN NaN NaN   NaN   \n",
      "/dev/sde    NaN NaN    NaN                 NaN                          NaN                      4.6T                 NaN NaN NaN NaN  NaN        NaN NaN NaN NaN NaN NaN NaN NaN NaN NaN NaN NaN NaN NaN NaN       NaN NaN NaN NaN  NaN NaN                                  NaN NaN NaN 7d48164c-fdaa-4529-a732-93c14173ef3d Elements_SE_2622 NaN NaN NaN NaN NaN NaN NaN NaN NaN NaN NaN NaN NaN NaN NaN NaN NaN NaN NaN NaN NaN NaN NaN   NaN   \n",
      "/dev/sdf    NaN NaN    NaN                 NaN                          NaN                      4.6T                 NaN NaN NaN NaN  NaN        NaN NaN NaN NaN NaN NaN NaN NaN NaN NaN NaN NaN NaN NaN NaN       NaN NaN NaN NaN  NaN NaN                                  NaN NaN NaN 6ef6e756-2506-4d91-ae2d-1521def0f5f3 Elements_SE_2622 NaN NaN NaN NaN NaN NaN NaN NaN NaN NaN NaN NaN NaN NaN NaN NaN NaN NaN NaN NaN NaN NaN NaN   NaN   \n",
      "\n",
      "                                                                                                                                                                                                                                                                                                                                                                                                                                            MOUNTPOINT  \n",
      "PATH        NaN NaN    NaN                 NaN                          NaN                      NaN                  NaN NaN NaN SIZE MOUNTPOINT NaN NaN NaN NaN NaN NaN NaN NaN NaN NaN NaN NaN NaN NaN NaN       NaN NaN NaN UUID NaN NaN                                  NaN NaN NaN NaN                                  NaN              NaN NaN NaN NaN NaN NaN NaN NaN NaN NaN NaN NaN NaN NaN NaN NaN NaN NaN NaN NaN NaN NaN NaN      MODEL  \n",
      "/dev/loop0  NaN NaN    NaN                 219M                         /snap/gnome-3-34-1804/66 NaN                  NaN NaN NaN NaN  NaN        NaN NaN NaN NaN NaN NaN NaN NaN NaN NaN NaN NaN NaN NaN NaN       NaN NaN NaN NaN  NaN NaN                                  NaN NaN NaN NaN                                  NaN              NaN NaN NaN NaN NaN NaN NaN NaN NaN NaN NaN NaN NaN NaN NaN NaN NaN NaN NaN NaN NaN NaN NaN        NaN  \n",
      "/dev/loop1  NaN NaN    55.5M               /snap/core18/2074            NaN                      NaN                  NaN NaN NaN NaN  NaN        NaN NaN NaN NaN NaN NaN NaN NaN NaN NaN NaN NaN NaN NaN NaN       NaN NaN NaN NaN  NaN NaN                                  NaN NaN NaN NaN                                  NaN              NaN NaN NaN NaN NaN NaN NaN NaN NaN NaN NaN NaN NaN NaN NaN NaN NaN NaN NaN NaN NaN NaN NaN        NaN  \n",
      "/dev/loop2  NaN NaN    55.4M               /snap/core18/2128            NaN                      NaN                  NaN NaN NaN NaN  NaN        NaN NaN NaN NaN NaN NaN NaN NaN NaN NaN NaN NaN NaN NaN NaN       NaN NaN NaN NaN  NaN NaN                                  NaN NaN NaN NaN                                  NaN              NaN NaN NaN NaN NaN NaN NaN NaN NaN NaN NaN NaN NaN NaN NaN NaN NaN NaN NaN NaN NaN NaN NaN        NaN  \n",
      "/dev/loop3  NaN NaN    NaN                 219M                         /snap/gnome-3-34-1804/72 NaN                  NaN NaN NaN NaN  NaN        NaN NaN NaN NaN NaN NaN NaN NaN NaN NaN NaN NaN NaN NaN NaN       NaN NaN NaN NaN  NaN NaN                                  NaN NaN NaN NaN                                  NaN              NaN NaN NaN NaN NaN NaN NaN NaN NaN NaN NaN NaN NaN NaN NaN NaN NaN NaN NaN NaN NaN NaN NaN        NaN  \n",
      "/dev/loop4  NaN NaN    64.8M               /snap/gtk-common-themes/1514 NaN                      NaN                  NaN NaN NaN NaN  NaN        NaN NaN NaN NaN NaN NaN NaN NaN NaN NaN NaN NaN NaN NaN NaN       NaN NaN NaN NaN  NaN NaN                                  NaN NaN NaN NaN                                  NaN              NaN NaN NaN NaN NaN NaN NaN NaN NaN NaN NaN NaN NaN NaN NaN NaN NaN NaN NaN NaN NaN NaN NaN        NaN  \n",
      "/dev/loop5  NaN NaN    65.1M               /snap/gtk-common-themes/1515 NaN                      NaN                  NaN NaN NaN NaN  NaN        NaN NaN NaN NaN NaN NaN NaN NaN NaN NaN NaN NaN NaN NaN NaN       NaN NaN NaN NaN  NaN NaN                                  NaN NaN NaN NaN                                  NaN              NaN NaN NaN NaN NaN NaN NaN NaN NaN NaN NaN NaN NaN NaN NaN NaN NaN NaN NaN NaN NaN NaN NaN        NaN  \n",
      "/dev/loop6  NaN 182.8M /snap/microk8s/2346 NaN                          NaN                      NaN                  NaN NaN NaN NaN  NaN        NaN NaN NaN NaN NaN NaN NaN NaN NaN NaN NaN NaN NaN NaN NaN       NaN NaN NaN NaN  NaN NaN                                  NaN NaN NaN NaN                                  NaN              NaN NaN NaN NaN NaN NaN NaN NaN NaN NaN NaN NaN NaN NaN NaN NaN NaN NaN NaN NaN NaN NaN NaN        NaN  \n",
      "/dev/loop7  NaN NaN    NaN                 NaN                          51M                      /snap/snap-store/518 NaN NaN NaN NaN  NaN        NaN NaN NaN NaN NaN NaN NaN NaN NaN NaN NaN NaN NaN NaN NaN       NaN NaN NaN NaN  NaN NaN                                  NaN NaN NaN NaN                                  NaN              NaN NaN NaN NaN NaN NaN NaN NaN NaN NaN NaN NaN NaN NaN NaN NaN NaN NaN NaN NaN NaN NaN NaN        NaN  \n",
      "/dev/loop8  NaN NaN    NaN                 NaN                          51M                      /snap/snap-store/547 NaN NaN NaN NaN  NaN        NaN NaN NaN NaN NaN NaN NaN NaN NaN NaN NaN NaN NaN NaN NaN       NaN NaN NaN NaN  NaN NaN                                  NaN NaN NaN NaN                                  NaN              NaN NaN NaN NaN NaN NaN NaN NaN NaN NaN NaN NaN NaN NaN NaN NaN NaN NaN NaN NaN NaN NaN NaN        NaN  \n",
      "/dev/loop9  NaN NaN    32.3M               /snap/snapd/12704            NaN                      NaN                  NaN NaN NaN NaN  NaN        NaN NaN NaN NaN NaN NaN NaN NaN NaN NaN NaN NaN NaN NaN NaN       NaN NaN NaN NaN  NaN NaN                                  NaN NaN NaN NaN                                  NaN              NaN NaN NaN NaN NaN NaN NaN NaN NaN NaN NaN NaN NaN NaN NaN NaN NaN NaN NaN NaN NaN NaN NaN        NaN  \n",
      "/dev/loop10 NaN 32.3M  /snap/snapd/12883   NaN                          NaN                      NaN                  NaN NaN NaN NaN  NaN        NaN NaN NaN NaN NaN NaN NaN NaN NaN NaN NaN NaN NaN NaN NaN       NaN NaN NaN NaN  NaN NaN                                  NaN NaN NaN NaN                                  NaN              NaN NaN NaN NaN NaN NaN NaN NaN NaN NaN NaN NaN NaN NaN NaN NaN NaN NaN NaN NaN NaN NaN NaN        NaN  \n",
      "/dev/sda    NaN NaN    NaN                 119.2G                       NaN                      NaN                  NaN NaN NaN NaN  NaN        NaN NaN NaN NaN NaN NaN NaN NaN NaN NaN NaN NaN NaN NaN NaN       NaN NaN NaN NaN  NaN NaN                                  NaN NaN NaN NaN                                  NaN              NaN NaN NaN NaN NaN NaN NaN NaN NaN NaN NaN NaN NaN NaN NaN NaN NaN NaN NaN NaN NaN NaN NaN        NaN  \n",
      "/dev/sda1   NaN NaN    NaN                 NaN                          512M                     /boot/efi            NaN NaN NaN NaN  NaN        NaN NaN NaN NaN NaN NaN NaN NaN NaN NaN NaN NaN NaN NaN 2E66-7F6A NaN NaN NaN NaN  NaN NaN                                  NaN NaN NaN NaN                                  NaN              NaN NaN NaN NaN NaN NaN NaN NaN NaN NaN NaN NaN NaN NaN NaN NaN NaN NaN NaN NaN NaN NaN NaN        NaN  \n",
      "/dev/sda2   NaN NaN    118.8G              /                            NaN                      NaN                  NaN NaN NaN NaN  NaN        NaN NaN NaN NaN NaN NaN NaN NaN NaN NaN NaN NaN NaN NaN NaN       NaN NaN NaN NaN  NaN 602123de-d0fd-4238-abbb-2526abc3f678 NaN NaN NaN NaN                                  NaN              NaN NaN NaN NaN NaN NaN NaN NaN NaN NaN NaN NaN NaN NaN NaN NaN NaN NaN NaN NaN NaN NaN NaN        NaN  \n",
      "/dev/sdb    NaN NaN    NaN                 NaN                          NaN                      4.6T                 NaN NaN NaN NaN  NaN        NaN NaN NaN NaN NaN NaN NaN NaN NaN NaN NaN NaN NaN NaN NaN       NaN NaN NaN NaN  NaN NaN                                  NaN NaN NaN bc77a4b1-9fd0-479f-aa4d-eb538bf1f00f Expansion        NaN NaN NaN NaN NaN NaN NaN NaN NaN NaN NaN NaN NaN NaN NaN NaN NaN NaN NaN NaN NaN NaN NaN        NaN  \n",
      "/dev/sdc    NaN NaN    NaN                 NaN                          NaN                      4.6T                 NaN NaN NaN NaN  NaN        NaN NaN NaN NaN NaN NaN NaN NaN NaN NaN NaN NaN NaN NaN NaN       NaN NaN NaN NaN  NaN NaN                                  NaN NaN NaN de548148-0ea0-4ce8-9969-a56118e23ff0 Expansion        NaN NaN NaN NaN NaN NaN NaN NaN NaN NaN NaN NaN NaN NaN NaN NaN NaN NaN NaN NaN NaN NaN NaN        NaN  \n",
      "/dev/sdd    NaN NaN    NaN                 NaN                          NaN                      4.6T                 NaN NaN NaN NaN  NaN        NaN NaN NaN NaN NaN NaN NaN NaN NaN NaN NaN NaN NaN NaN NaN       NaN NaN NaN NaN  NaN NaN                                  NaN NaN NaN 379b5bc9-c95f-4b62-87e5-029be3474745 Expansion        NaN NaN NaN NaN NaN NaN NaN NaN NaN NaN NaN NaN NaN NaN NaN NaN NaN NaN NaN NaN NaN NaN NaN        NaN  \n",
      "/dev/sde    NaN NaN    NaN                 NaN                          NaN                      4.6T                 NaN NaN NaN NaN  NaN        NaN NaN NaN NaN NaN NaN NaN NaN NaN NaN NaN NaN NaN NaN NaN       NaN NaN NaN NaN  NaN NaN                                  NaN NaN NaN 7d48164c-fdaa-4529-a732-93c14173ef3d Elements_SE_2622 NaN NaN NaN NaN NaN NaN NaN NaN NaN NaN NaN NaN NaN NaN NaN NaN NaN NaN NaN NaN NaN NaN NaN        NaN  \n",
      "/dev/sdf    NaN NaN    NaN                 NaN                          NaN                      4.6T                 NaN NaN NaN NaN  NaN        NaN NaN NaN NaN NaN NaN NaN NaN NaN NaN NaN NaN NaN NaN NaN       NaN NaN NaN NaN  NaN NaN                                  NaN NaN NaN 6ef6e756-2506-4d91-ae2d-1521def0f5f3 Elements_SE_2622 NaN NaN NaN NaN NaN NaN NaN NaN NaN NaN NaN NaN NaN NaN NaN NaN NaN NaN NaN NaN NaN NaN NaN        NaN  \n"
     ]
    }
   ],
   "source": [
    "print(pd1)"
   ]
  },
  {
   "cell_type": "code",
   "execution_count": 24,
   "id": "75e69913",
   "metadata": {},
   "outputs": [
    {
     "name": "stdout",
     "output_type": "stream",
     "text": [
      "PATH         NaN  NaN     NaN                  NaN                           NaN                       NaN                   NaN  NaN  NaN  SIZE  MOUNTPOINT  NaN  NaN  NaN  NaN  NaN  NaN  NaN  NaN  NaN  NaN  NaN  NaN  NaN  NaN  NaN        NaN  NaN  NaN  UUID  NaN  NaN                                   NaN  NaN  NaN  NaN                                   NaN               NaN  NaN  NaN  NaN  NaN  NaN  NaN  NaN  NaN  NaN  NaN  NaN  NaN  NaN  NaN  NaN  NaN  NaN  NaN  NaN  NaN  NaN  NaN   NaN\n",
      "/dev/loop0   NaN  NaN     NaN                  219M                          /snap/gnome-3-34-1804/66  NaN                   NaN  NaN  NaN  NaN   NaN         NaN  NaN  NaN  NaN  NaN  NaN  NaN  NaN  NaN  NaN  NaN  NaN  NaN  NaN  NaN        NaN  NaN  NaN  NaN   NaN  NaN                                   NaN  NaN  NaN  NaN                                   NaN               NaN  NaN  NaN  NaN  NaN  NaN  NaN  NaN  NaN  NaN  NaN  NaN  NaN  NaN  NaN  NaN  NaN  NaN  NaN  NaN  NaN  NaN  NaN   NaN\n",
      "/dev/loop1   NaN  NaN     55.5M                /snap/core18/2074             NaN                       NaN                   NaN  NaN  NaN  NaN   NaN         NaN  NaN  NaN  NaN  NaN  NaN  NaN  NaN  NaN  NaN  NaN  NaN  NaN  NaN  NaN        NaN  NaN  NaN  NaN   NaN  NaN                                   NaN  NaN  NaN  NaN                                   NaN               NaN  NaN  NaN  NaN  NaN  NaN  NaN  NaN  NaN  NaN  NaN  NaN  NaN  NaN  NaN  NaN  NaN  NaN  NaN  NaN  NaN  NaN  NaN   NaN\n",
      "/dev/loop2   NaN  NaN     55.4M                /snap/core18/2128             NaN                       NaN                   NaN  NaN  NaN  NaN   NaN         NaN  NaN  NaN  NaN  NaN  NaN  NaN  NaN  NaN  NaN  NaN  NaN  NaN  NaN  NaN        NaN  NaN  NaN  NaN   NaN  NaN                                   NaN  NaN  NaN  NaN                                   NaN               NaN  NaN  NaN  NaN  NaN  NaN  NaN  NaN  NaN  NaN  NaN  NaN  NaN  NaN  NaN  NaN  NaN  NaN  NaN  NaN  NaN  NaN  NaN   NaN\n",
      "/dev/loop3   NaN  NaN     NaN                  219M                          /snap/gnome-3-34-1804/72  NaN                   NaN  NaN  NaN  NaN   NaN         NaN  NaN  NaN  NaN  NaN  NaN  NaN  NaN  NaN  NaN  NaN  NaN  NaN  NaN  NaN        NaN  NaN  NaN  NaN   NaN  NaN                                   NaN  NaN  NaN  NaN                                   NaN               NaN  NaN  NaN  NaN  NaN  NaN  NaN  NaN  NaN  NaN  NaN  NaN  NaN  NaN  NaN  NaN  NaN  NaN  NaN  NaN  NaN  NaN  NaN   NaN\n",
      "/dev/loop4   NaN  NaN     64.8M                /snap/gtk-common-themes/1514  NaN                       NaN                   NaN  NaN  NaN  NaN   NaN         NaN  NaN  NaN  NaN  NaN  NaN  NaN  NaN  NaN  NaN  NaN  NaN  NaN  NaN  NaN        NaN  NaN  NaN  NaN   NaN  NaN                                   NaN  NaN  NaN  NaN                                   NaN               NaN  NaN  NaN  NaN  NaN  NaN  NaN  NaN  NaN  NaN  NaN  NaN  NaN  NaN  NaN  NaN  NaN  NaN  NaN  NaN  NaN  NaN  NaN   NaN\n",
      "/dev/loop5   NaN  NaN     65.1M                /snap/gtk-common-themes/1515  NaN                       NaN                   NaN  NaN  NaN  NaN   NaN         NaN  NaN  NaN  NaN  NaN  NaN  NaN  NaN  NaN  NaN  NaN  NaN  NaN  NaN  NaN        NaN  NaN  NaN  NaN   NaN  NaN                                   NaN  NaN  NaN  NaN                                   NaN               NaN  NaN  NaN  NaN  NaN  NaN  NaN  NaN  NaN  NaN  NaN  NaN  NaN  NaN  NaN  NaN  NaN  NaN  NaN  NaN  NaN  NaN  NaN   NaN\n",
      "/dev/loop6   NaN  182.8M  /snap/microk8s/2346  NaN                           NaN                       NaN                   NaN  NaN  NaN  NaN   NaN         NaN  NaN  NaN  NaN  NaN  NaN  NaN  NaN  NaN  NaN  NaN  NaN  NaN  NaN  NaN        NaN  NaN  NaN  NaN   NaN  NaN                                   NaN  NaN  NaN  NaN                                   NaN               NaN  NaN  NaN  NaN  NaN  NaN  NaN  NaN  NaN  NaN  NaN  NaN  NaN  NaN  NaN  NaN  NaN  NaN  NaN  NaN  NaN  NaN  NaN   NaN\n",
      "/dev/loop7   NaN  NaN     NaN                  NaN                           51M                       /snap/snap-store/518  NaN  NaN  NaN  NaN   NaN         NaN  NaN  NaN  NaN  NaN  NaN  NaN  NaN  NaN  NaN  NaN  NaN  NaN  NaN  NaN        NaN  NaN  NaN  NaN   NaN  NaN                                   NaN  NaN  NaN  NaN                                   NaN               NaN  NaN  NaN  NaN  NaN  NaN  NaN  NaN  NaN  NaN  NaN  NaN  NaN  NaN  NaN  NaN  NaN  NaN  NaN  NaN  NaN  NaN  NaN   NaN\n",
      "/dev/loop8   NaN  NaN     NaN                  NaN                           51M                       /snap/snap-store/547  NaN  NaN  NaN  NaN   NaN         NaN  NaN  NaN  NaN  NaN  NaN  NaN  NaN  NaN  NaN  NaN  NaN  NaN  NaN  NaN        NaN  NaN  NaN  NaN   NaN  NaN                                   NaN  NaN  NaN  NaN                                   NaN               NaN  NaN  NaN  NaN  NaN  NaN  NaN  NaN  NaN  NaN  NaN  NaN  NaN  NaN  NaN  NaN  NaN  NaN  NaN  NaN  NaN  NaN  NaN   NaN\n",
      "/dev/loop9   NaN  NaN     32.3M                /snap/snapd/12704             NaN                       NaN                   NaN  NaN  NaN  NaN   NaN         NaN  NaN  NaN  NaN  NaN  NaN  NaN  NaN  NaN  NaN  NaN  NaN  NaN  NaN  NaN        NaN  NaN  NaN  NaN   NaN  NaN                                   NaN  NaN  NaN  NaN                                   NaN               NaN  NaN  NaN  NaN  NaN  NaN  NaN  NaN  NaN  NaN  NaN  NaN  NaN  NaN  NaN  NaN  NaN  NaN  NaN  NaN  NaN  NaN  NaN   NaN\n",
      "/dev/loop10  NaN  32.3M   /snap/snapd/12883    NaN                           NaN                       NaN                   NaN  NaN  NaN  NaN   NaN         NaN  NaN  NaN  NaN  NaN  NaN  NaN  NaN  NaN  NaN  NaN  NaN  NaN  NaN  NaN        NaN  NaN  NaN  NaN   NaN  NaN                                   NaN  NaN  NaN  NaN                                   NaN               NaN  NaN  NaN  NaN  NaN  NaN  NaN  NaN  NaN  NaN  NaN  NaN  NaN  NaN  NaN  NaN  NaN  NaN  NaN  NaN  NaN  NaN  NaN   NaN\n",
      "/dev/sda     NaN  NaN     NaN                  119.2G                        NaN                       NaN                   NaN  NaN  NaN  NaN   NaN         NaN  NaN  NaN  NaN  NaN  NaN  NaN  NaN  NaN  NaN  NaN  NaN  NaN  NaN  NaN        NaN  NaN  NaN  NaN   NaN  NaN                                   NaN  NaN  NaN  NaN                                   NaN               NaN  NaN  NaN  NaN  NaN  NaN  NaN  NaN  NaN  NaN  NaN  NaN  NaN  NaN  NaN  NaN  NaN  NaN  NaN  NaN  NaN  NaN  NaN   NaN\n",
      "/dev/sda1    NaN  NaN     NaN                  NaN                           512M                      /boot/efi             NaN  NaN  NaN  NaN   NaN         NaN  NaN  NaN  NaN  NaN  NaN  NaN  NaN  NaN  NaN  NaN  NaN  NaN  NaN  2E66-7F6A  NaN  NaN  NaN  NaN   NaN  NaN                                   NaN  NaN  NaN  NaN                                   NaN               NaN  NaN  NaN  NaN  NaN  NaN  NaN  NaN  NaN  NaN  NaN  NaN  NaN  NaN  NaN  NaN  NaN  NaN  NaN  NaN  NaN  NaN  NaN   NaN\n",
      "/dev/sda2    NaN  NaN     118.8G               /                             NaN                       NaN                   NaN  NaN  NaN  NaN   NaN         NaN  NaN  NaN  NaN  NaN  NaN  NaN  NaN  NaN  NaN  NaN  NaN  NaN  NaN  NaN        NaN  NaN  NaN  NaN   NaN  602123de-d0fd-4238-abbb-2526abc3f678  NaN  NaN  NaN  NaN                                   NaN               NaN  NaN  NaN  NaN  NaN  NaN  NaN  NaN  NaN  NaN  NaN  NaN  NaN  NaN  NaN  NaN  NaN  NaN  NaN  NaN  NaN  NaN  NaN   NaN\n",
      "/dev/sdb     NaN  NaN     NaN                  NaN                           NaN                       4.6T                  NaN  NaN  NaN  NaN   NaN         NaN  NaN  NaN  NaN  NaN  NaN  NaN  NaN  NaN  NaN  NaN  NaN  NaN  NaN  NaN        NaN  NaN  NaN  NaN   NaN  NaN                                   NaN  NaN  NaN  bc77a4b1-9fd0-479f-aa4d-eb538bf1f00f  Expansion         NaN  NaN  NaN  NaN  NaN  NaN  NaN  NaN  NaN  NaN  NaN  NaN  NaN  NaN  NaN  NaN  NaN  NaN  NaN  NaN  NaN  NaN  NaN   NaN\n",
      "/dev/sdc     NaN  NaN     NaN                  NaN                           NaN                       4.6T                  NaN  NaN  NaN  NaN   NaN         NaN  NaN  NaN  NaN  NaN  NaN  NaN  NaN  NaN  NaN  NaN  NaN  NaN  NaN  NaN        NaN  NaN  NaN  NaN   NaN  NaN                                   NaN  NaN  NaN  de548148-0ea0-4ce8-9969-a56118e23ff0  Expansion         NaN  NaN  NaN  NaN  NaN  NaN  NaN  NaN  NaN  NaN  NaN  NaN  NaN  NaN  NaN  NaN  NaN  NaN  NaN  NaN  NaN  NaN  NaN   NaN\n",
      "/dev/sdd     NaN  NaN     NaN                  NaN                           NaN                       4.6T                  NaN  NaN  NaN  NaN   NaN         NaN  NaN  NaN  NaN  NaN  NaN  NaN  NaN  NaN  NaN  NaN  NaN  NaN  NaN  NaN        NaN  NaN  NaN  NaN   NaN  NaN                                   NaN  NaN  NaN  379b5bc9-c95f-4b62-87e5-029be3474745  Expansion         NaN  NaN  NaN  NaN  NaN  NaN  NaN  NaN  NaN  NaN  NaN  NaN  NaN  NaN  NaN  NaN  NaN  NaN  NaN  NaN  NaN  NaN  NaN   NaN\n",
      "/dev/sde     NaN  NaN     NaN                  NaN                           NaN                       4.6T                  NaN  NaN  NaN  NaN   NaN         NaN  NaN  NaN  NaN  NaN  NaN  NaN  NaN  NaN  NaN  NaN  NaN  NaN  NaN  NaN        NaN  NaN  NaN  NaN   NaN  NaN                                   NaN  NaN  NaN  7d48164c-fdaa-4529-a732-93c14173ef3d  Elements_SE_2622  NaN  NaN  NaN  NaN  NaN  NaN  NaN  NaN  NaN  NaN  NaN  NaN  NaN  NaN  NaN  NaN  NaN  NaN  NaN  NaN  NaN  NaN  NaN   NaN\n",
      "/dev/sdf     NaN  NaN     NaN                  NaN                           NaN                       4.6T                  NaN  NaN  NaN  NaN   NaN         NaN  NaN  NaN  NaN  NaN  NaN  NaN  NaN  NaN  NaN  NaN  NaN  NaN  NaN  NaN        NaN  NaN  NaN  NaN   NaN  NaN                                   NaN  NaN  NaN  6ef6e756-2506-4d91-ae2d-1521def0f5f3  Elements_SE_2622  NaN  NaN  NaN  NaN  NaN  NaN  NaN  NaN  NaN  NaN  NaN  NaN  NaN  NaN  NaN  NaN  NaN  NaN  NaN  NaN  NaN  NaN  NaN   NaN\n",
      "Name: PATH, dtype: float64\n"
     ]
    }
   ],
   "source": [
    "print(pd1['PATH'])"
   ]
  },
  {
   "cell_type": "code",
   "execution_count": 25,
   "id": "d4fea6d7",
   "metadata": {},
   "outputs": [],
   "source": [
    "pd1=pd.read_csv(\"disksize.txt\",)"
   ]
  },
  {
   "cell_type": "code",
   "execution_count": 26,
   "id": "a026eddb",
   "metadata": {},
   "outputs": [
    {
     "name": "stdout",
     "output_type": "stream",
     "text": [
      "           PATH  Unnamed: 1 Unnamed: 2 Unnamed: 3 Unnamed: 4 Unnamed: 5  \\\n",
      "0    /dev/loop0         NaN        NaN        NaN       219M        NaN   \n",
      "1    /dev/loop1         NaN        NaN      55.5M        NaN        NaN   \n",
      "2    /dev/loop2         NaN        NaN      55.4M        NaN        NaN   \n",
      "3    /dev/loop3         NaN        NaN        NaN       219M        NaN   \n",
      "4    /dev/loop4         NaN        NaN      64.8M        NaN        NaN   \n",
      "5    /dev/loop5         NaN        NaN      65.1M        NaN        NaN   \n",
      "6    /dev/loop6         NaN     182.8M        NaN        NaN        NaN   \n",
      "7    /dev/loop7         NaN        NaN        NaN        NaN        51M   \n",
      "8    /dev/loop8         NaN        NaN        NaN        NaN        51M   \n",
      "9    /dev/loop9         NaN        NaN      32.3M        NaN        NaN   \n",
      "10  /dev/loop10         NaN      32.3M        NaN        NaN        NaN   \n",
      "11     /dev/sda         NaN        NaN        NaN     119.2G        NaN   \n",
      "12    /dev/sda1         NaN        NaN        NaN        NaN       512M   \n",
      "13    /dev/sda2         NaN        NaN     118.8G        NaN        NaN   \n",
      "14     /dev/sdb         NaN        NaN        NaN        NaN        NaN   \n",
      "15     /dev/sdc         NaN        NaN        NaN        NaN        NaN   \n",
      "16     /dev/sdd         NaN        NaN        NaN        NaN        NaN   \n",
      "17     /dev/sde         NaN        NaN        NaN        NaN        NaN   \n",
      "18     /dev/sdf         NaN        NaN        NaN        NaN        NaN   \n",
      "\n",
      "   Unnamed: 6  Unnamed: 7  Unnamed: 8  Unnamed: 9  SIZE  \n",
      "0         NaN         NaN         NaN         NaN   NaN  \n",
      "1         NaN         NaN         NaN         NaN   NaN  \n",
      "2         NaN         NaN         NaN         NaN   NaN  \n",
      "3         NaN         NaN         NaN         NaN   NaN  \n",
      "4         NaN         NaN         NaN         NaN   NaN  \n",
      "5         NaN         NaN         NaN         NaN   NaN  \n",
      "6         NaN         NaN         NaN         NaN   NaN  \n",
      "7         NaN         NaN         NaN         NaN   NaN  \n",
      "8         NaN         NaN         NaN         NaN   NaN  \n",
      "9         NaN         NaN         NaN         NaN   NaN  \n",
      "10        NaN         NaN         NaN         NaN   NaN  \n",
      "11        NaN         NaN         NaN         NaN   NaN  \n",
      "12        NaN         NaN         NaN         NaN   NaN  \n",
      "13        NaN         NaN         NaN         NaN   NaN  \n",
      "14       4.6T         NaN         NaN         NaN   NaN  \n",
      "15       4.6T         NaN         NaN         NaN   NaN  \n",
      "16       4.6T         NaN         NaN         NaN   NaN  \n",
      "17       4.6T         NaN         NaN         NaN   NaN  \n",
      "18       4.6T         NaN         NaN         NaN   NaN  \n"
     ]
    }
   ],
   "source": [
    "print(pd1)"
   ]
  },
  {
   "cell_type": "code",
   "execution_count": 27,
   "id": "2e2b7733",
   "metadata": {},
   "outputs": [
    {
     "name": "stdout",
     "output_type": "stream",
     "text": [
      "0      /dev/loop0\n",
      "1      /dev/loop1\n",
      "2      /dev/loop2\n",
      "3      /dev/loop3\n",
      "4      /dev/loop4\n",
      "5      /dev/loop5\n",
      "6      /dev/loop6\n",
      "7      /dev/loop7\n",
      "8      /dev/loop8\n",
      "9      /dev/loop9\n",
      "10    /dev/loop10\n",
      "11       /dev/sda\n",
      "12      /dev/sda1\n",
      "13      /dev/sda2\n",
      "14       /dev/sdb\n",
      "15       /dev/sdc\n",
      "16       /dev/sdd\n",
      "17       /dev/sde\n",
      "18       /dev/sdf\n",
      "Name: PATH, dtype: object\n"
     ]
    }
   ],
   "source": [
    "print(pd1['PATH'])"
   ]
  },
  {
   "cell_type": "code",
   "execution_count": 28,
   "id": "73e3a0fc",
   "metadata": {},
   "outputs": [
    {
     "name": "stdout",
     "output_type": "stream",
     "text": [
      "0    NaN\n",
      "1    NaN\n",
      "2    NaN\n",
      "3    NaN\n",
      "4    NaN\n",
      "5    NaN\n",
      "6    NaN\n",
      "7    NaN\n",
      "8    NaN\n",
      "9    NaN\n",
      "10   NaN\n",
      "11   NaN\n",
      "12   NaN\n",
      "13   NaN\n",
      "14   NaN\n",
      "15   NaN\n",
      "16   NaN\n",
      "17   NaN\n",
      "18   NaN\n",
      "Name: SIZE, dtype: float64\n"
     ]
    }
   ],
   "source": [
    "print(pd1['SIZE'])"
   ]
  },
  {
   "cell_type": "code",
   "execution_count": 32,
   "id": "39b12a00",
   "metadata": {},
   "outputs": [
    {
     "name": "stdout",
     "output_type": "stream",
     "text": [
      "{'blockdevices': [{'path': '/dev/loop0', 'size': '219M', 'mountpoint': '/snap/gnome-3-34-1804/66', 'uuid': None, 'model': None}, {'path': '/dev/loop1', 'size': '55.5M', 'mountpoint': '/snap/core18/2074', 'uuid': None, 'model': None}, {'path': '/dev/loop2', 'size': '55.4M', 'mountpoint': '/snap/core18/2128', 'uuid': None, 'model': None}, {'path': '/dev/loop3', 'size': '219M', 'mountpoint': '/snap/gnome-3-34-1804/72', 'uuid': None, 'model': None}, {'path': '/dev/loop4', 'size': '64.8M', 'mountpoint': '/snap/gtk-common-themes/1514', 'uuid': None, 'model': None}, {'path': '/dev/loop5', 'size': '65.1M', 'mountpoint': '/snap/gtk-common-themes/1515', 'uuid': None, 'model': None}, {'path': '/dev/loop6', 'size': '182.8M', 'mountpoint': '/snap/microk8s/2346', 'uuid': None, 'model': None}, {'path': '/dev/loop7', 'size': '51M', 'mountpoint': '/snap/snap-store/518', 'uuid': None, 'model': None}, {'path': '/dev/loop8', 'size': '51M', 'mountpoint': '/snap/snap-store/547', 'uuid': None, 'model': None}, {'path': '/dev/loop9', 'size': '32.3M', 'mountpoint': '/snap/snapd/12704', 'uuid': None, 'model': None}, {'path': '/dev/loop10', 'size': '32.3M', 'mountpoint': '/snap/snapd/12883', 'uuid': None, 'model': None}, {'path': '/dev/sda', 'size': '119.2G', 'mountpoint': None, 'uuid': None, 'model': 'Teclast_128GB_A850'}, {'path': '/dev/sda1', 'size': '512M', 'mountpoint': '/boot/efi', 'uuid': '2E66-7F6A', 'model': None}, {'path': '/dev/sda2', 'size': '118.8G', 'mountpoint': '/', 'uuid': '602123de-d0fd-4238-abbb-2526abc3f678', 'model': None}, {'path': '/dev/sdb', 'size': '4.6T', 'mountpoint': None, 'uuid': 'bc77a4b1-9fd0-479f-aa4d-eb538bf1f00f', 'model': 'Expansion'}, {'path': '/dev/sdc', 'size': '4.6T', 'mountpoint': None, 'uuid': 'de548148-0ea0-4ce8-9969-a56118e23ff0', 'model': 'Expansion'}, {'path': '/dev/sdd', 'size': '4.6T', 'mountpoint': None, 'uuid': '379b5bc9-c95f-4b62-87e5-029be3474745', 'model': 'Expansion'}, {'path': '/dev/sde', 'size': '4.6T', 'mountpoint': None, 'uuid': '7d48164c-fdaa-4529-a732-93c14173ef3d', 'model': 'Elements_SE_2622'}, {'path': '/dev/sdf', 'size': '4.6T', 'mountpoint': None, 'uuid': '6ef6e756-2506-4d91-ae2d-1521def0f5f3', 'model': 'Elements_SE_2622'}]}\n",
      "[{'path': '/dev/loop0', 'size': '219M', 'mountpoint': '/snap/gnome-3-34-1804/66', 'uuid': None, 'model': None}, {'path': '/dev/loop1', 'size': '55.5M', 'mountpoint': '/snap/core18/2074', 'uuid': None, 'model': None}, {'path': '/dev/loop2', 'size': '55.4M', 'mountpoint': '/snap/core18/2128', 'uuid': None, 'model': None}, {'path': '/dev/loop3', 'size': '219M', 'mountpoint': '/snap/gnome-3-34-1804/72', 'uuid': None, 'model': None}, {'path': '/dev/loop4', 'size': '64.8M', 'mountpoint': '/snap/gtk-common-themes/1514', 'uuid': None, 'model': None}, {'path': '/dev/loop5', 'size': '65.1M', 'mountpoint': '/snap/gtk-common-themes/1515', 'uuid': None, 'model': None}, {'path': '/dev/loop6', 'size': '182.8M', 'mountpoint': '/snap/microk8s/2346', 'uuid': None, 'model': None}, {'path': '/dev/loop7', 'size': '51M', 'mountpoint': '/snap/snap-store/518', 'uuid': None, 'model': None}, {'path': '/dev/loop8', 'size': '51M', 'mountpoint': '/snap/snap-store/547', 'uuid': None, 'model': None}, {'path': '/dev/loop9', 'size': '32.3M', 'mountpoint': '/snap/snapd/12704', 'uuid': None, 'model': None}, {'path': '/dev/loop10', 'size': '32.3M', 'mountpoint': '/snap/snapd/12883', 'uuid': None, 'model': None}, {'path': '/dev/sda', 'size': '119.2G', 'mountpoint': None, 'uuid': None, 'model': 'Teclast_128GB_A850'}, {'path': '/dev/sda1', 'size': '512M', 'mountpoint': '/boot/efi', 'uuid': '2E66-7F6A', 'model': None}, {'path': '/dev/sda2', 'size': '118.8G', 'mountpoint': '/', 'uuid': '602123de-d0fd-4238-abbb-2526abc3f678', 'model': None}, {'path': '/dev/sdb', 'size': '4.6T', 'mountpoint': None, 'uuid': 'bc77a4b1-9fd0-479f-aa4d-eb538bf1f00f', 'model': 'Expansion'}, {'path': '/dev/sdc', 'size': '4.6T', 'mountpoint': None, 'uuid': 'de548148-0ea0-4ce8-9969-a56118e23ff0', 'model': 'Expansion'}, {'path': '/dev/sdd', 'size': '4.6T', 'mountpoint': None, 'uuid': '379b5bc9-c95f-4b62-87e5-029be3474745', 'model': 'Expansion'}, {'path': '/dev/sde', 'size': '4.6T', 'mountpoint': None, 'uuid': '7d48164c-fdaa-4529-a732-93c14173ef3d', 'model': 'Elements_SE_2622'}, {'path': '/dev/sdf', 'size': '4.6T', 'mountpoint': None, 'uuid': '6ef6e756-2506-4d91-ae2d-1521def0f5f3', 'model': 'Elements_SE_2622'}]\n",
      "{'path': '/dev/loop0', 'size': '219M', 'mountpoint': '/snap/gnome-3-34-1804/66', 'uuid': None, 'model': None}\n",
      "{'path': '/dev/loop1', 'size': '55.5M', 'mountpoint': '/snap/core18/2074', 'uuid': None, 'model': None}\n",
      "{'path': '/dev/loop2', 'size': '55.4M', 'mountpoint': '/snap/core18/2128', 'uuid': None, 'model': None}\n",
      "{'path': '/dev/loop3', 'size': '219M', 'mountpoint': '/snap/gnome-3-34-1804/72', 'uuid': None, 'model': None}\n",
      "{'path': '/dev/loop4', 'size': '64.8M', 'mountpoint': '/snap/gtk-common-themes/1514', 'uuid': None, 'model': None}\n",
      "{'path': '/dev/loop5', 'size': '65.1M', 'mountpoint': '/snap/gtk-common-themes/1515', 'uuid': None, 'model': None}\n",
      "{'path': '/dev/loop6', 'size': '182.8M', 'mountpoint': '/snap/microk8s/2346', 'uuid': None, 'model': None}\n",
      "{'path': '/dev/loop7', 'size': '51M', 'mountpoint': '/snap/snap-store/518', 'uuid': None, 'model': None}\n",
      "{'path': '/dev/loop8', 'size': '51M', 'mountpoint': '/snap/snap-store/547', 'uuid': None, 'model': None}\n",
      "{'path': '/dev/loop9', 'size': '32.3M', 'mountpoint': '/snap/snapd/12704', 'uuid': None, 'model': None}\n",
      "{'path': '/dev/loop10', 'size': '32.3M', 'mountpoint': '/snap/snapd/12883', 'uuid': None, 'model': None}\n",
      "{'path': '/dev/sda', 'size': '119.2G', 'mountpoint': None, 'uuid': None, 'model': 'Teclast_128GB_A850'}\n",
      "{'path': '/dev/sda1', 'size': '512M', 'mountpoint': '/boot/efi', 'uuid': '2E66-7F6A', 'model': None}\n",
      "{'path': '/dev/sda2', 'size': '118.8G', 'mountpoint': '/', 'uuid': '602123de-d0fd-4238-abbb-2526abc3f678', 'model': None}\n",
      "{'path': '/dev/sdb', 'size': '4.6T', 'mountpoint': None, 'uuid': 'bc77a4b1-9fd0-479f-aa4d-eb538bf1f00f', 'model': 'Expansion'}\n",
      "{'path': '/dev/sdc', 'size': '4.6T', 'mountpoint': None, 'uuid': 'de548148-0ea0-4ce8-9969-a56118e23ff0', 'model': 'Expansion'}\n",
      "{'path': '/dev/sdd', 'size': '4.6T', 'mountpoint': None, 'uuid': '379b5bc9-c95f-4b62-87e5-029be3474745', 'model': 'Expansion'}\n",
      "{'path': '/dev/sde', 'size': '4.6T', 'mountpoint': None, 'uuid': '7d48164c-fdaa-4529-a732-93c14173ef3d', 'model': 'Elements_SE_2622'}\n",
      "{'path': '/dev/sdf', 'size': '4.6T', 'mountpoint': None, 'uuid': '6ef6e756-2506-4d91-ae2d-1521def0f5f3', 'model': 'Elements_SE_2622'}\n"
     ]
    }
   ],
   "source": [
    "import json\n",
    "f = open('disk.json')\n",
    " \n",
    "# returns JSON object as\n",
    "# a dictionary\n",
    "data = json.load(f)\n",
    " \n",
    "# Iterating through the json\n",
    "# list\n",
    " \n",
    "# Closing file\n",
    "f.close()\n",
    "print(data)\n",
    "print(data['blockdevices'])\n",
    "for disk in data['blockdevices']:\n",
    "    print(disk)"
   ]
  },
  {
   "cell_type": "code",
   "execution_count": 39,
   "id": "ca23b63e",
   "metadata": {},
   "outputs": [],
   "source": [
    "diskv = filter(lambda item: item['mountpoint'] is None,data['blockdevices'])"
   ]
  },
  {
   "cell_type": "code",
   "execution_count": 40,
   "id": "6737be75",
   "metadata": {},
   "outputs": [
    {
     "name": "stdout",
     "output_type": "stream",
     "text": [
      "{'path': '/dev/sda', 'size': '119.2G', 'mountpoint': None, 'uuid': None, 'model': 'Teclast_128GB_A850'}\n",
      "UUID=None /mnt/hddx ext4 defaults \t0 \t0\n",
      "{'path': '/dev/sdb', 'size': '4.6T', 'mountpoint': None, 'uuid': 'bc77a4b1-9fd0-479f-aa4d-eb538bf1f00f', 'model': 'Expansion'}\n",
      "UUID=bc77a4b1-9fd0-479f-aa4d-eb538bf1f00f /mnt/hddx ext4 defaults \t0 \t0\n",
      "{'path': '/dev/sdc', 'size': '4.6T', 'mountpoint': None, 'uuid': 'de548148-0ea0-4ce8-9969-a56118e23ff0', 'model': 'Expansion'}\n",
      "UUID=de548148-0ea0-4ce8-9969-a56118e23ff0 /mnt/hddx ext4 defaults \t0 \t0\n",
      "{'path': '/dev/sdd', 'size': '4.6T', 'mountpoint': None, 'uuid': '379b5bc9-c95f-4b62-87e5-029be3474745', 'model': 'Expansion'}\n",
      "UUID=379b5bc9-c95f-4b62-87e5-029be3474745 /mnt/hddx ext4 defaults \t0 \t0\n",
      "{'path': '/dev/sde', 'size': '4.6T', 'mountpoint': None, 'uuid': '7d48164c-fdaa-4529-a732-93c14173ef3d', 'model': 'Elements_SE_2622'}\n",
      "UUID=7d48164c-fdaa-4529-a732-93c14173ef3d /mnt/hddx ext4 defaults \t0 \t0\n",
      "{'path': '/dev/sdf', 'size': '4.6T', 'mountpoint': None, 'uuid': '6ef6e756-2506-4d91-ae2d-1521def0f5f3', 'model': 'Elements_SE_2622'}\n",
      "UUID=6ef6e756-2506-4d91-ae2d-1521def0f5f3 /mnt/hddx ext4 defaults \t0 \t0\n"
     ]
    }
   ],
   "source": [
    "for disk in list(diskv):\n",
    "    print(disk)\n",
    "    print(\"UUID={0} /mnt/hddx ext4 defaults \t0 \t0\".format(disk['uuid']))"
   ]
  },
  {
   "cell_type": "code",
   "execution_count": 1,
   "id": "1b0ec675",
   "metadata": {},
   "outputs": [
    {
     "name": "stdout",
     "output_type": "stream",
     "text": [
      "{'blockdevices': [{'path': '/dev/loop0', 'size': '55.5M', 'mountpoint': '/snap/core18/2074', 'uuid': None, 'model': None}, {'path': '/dev/loop1', 'size': '219M', 'mountpoint': '/snap/gnome-3-34-1804/66', 'uuid': None, 'model': None}, {'path': '/dev/loop2', 'size': '55.4M', 'mountpoint': '/snap/core18/2128', 'uuid': None, 'model': None}, {'path': '/dev/loop3', 'size': '219M', 'mountpoint': '/snap/gnome-3-34-1804/72', 'uuid': None, 'model': None}, {'path': '/dev/loop4', 'size': '64.8M', 'mountpoint': '/snap/gtk-common-themes/1514', 'uuid': None, 'model': None}, {'path': '/dev/loop5', 'size': '65.1M', 'mountpoint': '/snap/gtk-common-themes/1515', 'uuid': None, 'model': None}, {'path': '/dev/loop6', 'size': '182.8M', 'mountpoint': '/snap/microk8s/2346', 'uuid': None, 'model': None}, {'path': '/dev/loop7', 'size': '51M', 'mountpoint': '/snap/snap-store/518', 'uuid': None, 'model': None}, {'path': '/dev/loop8', 'size': '51M', 'mountpoint': '/snap/snap-store/547', 'uuid': None, 'model': None}, {'path': '/dev/loop9', 'size': '32.3M', 'mountpoint': '/snap/snapd/12704', 'uuid': None, 'model': None}, {'path': '/dev/loop10', 'size': '32.3M', 'mountpoint': '/snap/snapd/12883', 'uuid': None, 'model': None}, {'path': '/dev/sda', 'size': '119.2G', 'mountpoint': None, 'uuid': None, 'model': 'Teclast_128GB_A850'}, {'path': '/dev/sda1', 'size': '512M', 'mountpoint': '/boot/efi', 'uuid': '2E66-7F6A', 'model': None}, {'path': '/dev/sda2', 'size': '118.8G', 'mountpoint': '/', 'uuid': '602123de-d0fd-4238-abbb-2526abc3f678', 'model': None}, {'path': '/dev/sdb', 'size': '4.6T', 'mountpoint': None, 'uuid': 'bc77a4b1-9fd0-479f-aa4d-eb538bf1f00f', 'model': 'Expansion'}, {'path': '/dev/sdc', 'size': '4.6T', 'mountpoint': None, 'uuid': 'de548148-0ea0-4ce8-9969-a56118e23ff0', 'model': 'Expansion'}, {'path': '/dev/sdd', 'size': '4.6T', 'mountpoint': None, 'uuid': '379b5bc9-c95f-4b62-87e5-029be3474745', 'model': 'Expansion'}, {'path': '/dev/sde', 'size': '4.6T', 'mountpoint': None, 'uuid': '9b935f35-d3f9-41b0-b1fc-ca877ffd13c2', 'model': 'BUP_Portable'}, {'path': '/dev/sdf', 'size': '4.6T', 'mountpoint': None, 'uuid': '791b50ed-3837-46cb-b74a-2a0f6245c983', 'model': 'My_Passport_2627'}, {'path': '/dev/sdg', 'size': '4.6T', 'mountpoint': None, 'uuid': 'bbfe6e8b-7998-4d51-82e9-f3544276ba7b', 'model': 'Elements_SE_2622'}, {'path': '/dev/sdh', 'size': '4.6T', 'mountpoint': None, 'uuid': '8df5a827-8cf2-44ba-b2ef-3effe5e9a8ee', 'model': 'Elements_2620'}, {'path': '/dev/sdi', 'size': '4.6T', 'mountpoint': None, 'uuid': 'dc659e28-8cda-4186-80c4-8448ac6a130b', 'model': 'My_Passport_2627'}, {'path': '/dev/sdj', 'size': '4.6T', 'mountpoint': None, 'uuid': '7d48164c-fdaa-4529-a732-93c14173ef3d', 'model': 'Elements_SE_2622'}, {'path': '/dev/sdk', 'size': '4.6T', 'mountpoint': None, 'uuid': '6ef6e756-2506-4d91-ae2d-1521def0f5f3', 'model': 'Elements_SE_2622'}]}\n",
      "[{'path': '/dev/loop0', 'size': '55.5M', 'mountpoint': '/snap/core18/2074', 'uuid': None, 'model': None}, {'path': '/dev/loop1', 'size': '219M', 'mountpoint': '/snap/gnome-3-34-1804/66', 'uuid': None, 'model': None}, {'path': '/dev/loop2', 'size': '55.4M', 'mountpoint': '/snap/core18/2128', 'uuid': None, 'model': None}, {'path': '/dev/loop3', 'size': '219M', 'mountpoint': '/snap/gnome-3-34-1804/72', 'uuid': None, 'model': None}, {'path': '/dev/loop4', 'size': '64.8M', 'mountpoint': '/snap/gtk-common-themes/1514', 'uuid': None, 'model': None}, {'path': '/dev/loop5', 'size': '65.1M', 'mountpoint': '/snap/gtk-common-themes/1515', 'uuid': None, 'model': None}, {'path': '/dev/loop6', 'size': '182.8M', 'mountpoint': '/snap/microk8s/2346', 'uuid': None, 'model': None}, {'path': '/dev/loop7', 'size': '51M', 'mountpoint': '/snap/snap-store/518', 'uuid': None, 'model': None}, {'path': '/dev/loop8', 'size': '51M', 'mountpoint': '/snap/snap-store/547', 'uuid': None, 'model': None}, {'path': '/dev/loop9', 'size': '32.3M', 'mountpoint': '/snap/snapd/12704', 'uuid': None, 'model': None}, {'path': '/dev/loop10', 'size': '32.3M', 'mountpoint': '/snap/snapd/12883', 'uuid': None, 'model': None}, {'path': '/dev/sda', 'size': '119.2G', 'mountpoint': None, 'uuid': None, 'model': 'Teclast_128GB_A850'}, {'path': '/dev/sda1', 'size': '512M', 'mountpoint': '/boot/efi', 'uuid': '2E66-7F6A', 'model': None}, {'path': '/dev/sda2', 'size': '118.8G', 'mountpoint': '/', 'uuid': '602123de-d0fd-4238-abbb-2526abc3f678', 'model': None}, {'path': '/dev/sdb', 'size': '4.6T', 'mountpoint': None, 'uuid': 'bc77a4b1-9fd0-479f-aa4d-eb538bf1f00f', 'model': 'Expansion'}, {'path': '/dev/sdc', 'size': '4.6T', 'mountpoint': None, 'uuid': 'de548148-0ea0-4ce8-9969-a56118e23ff0', 'model': 'Expansion'}, {'path': '/dev/sdd', 'size': '4.6T', 'mountpoint': None, 'uuid': '379b5bc9-c95f-4b62-87e5-029be3474745', 'model': 'Expansion'}, {'path': '/dev/sde', 'size': '4.6T', 'mountpoint': None, 'uuid': '9b935f35-d3f9-41b0-b1fc-ca877ffd13c2', 'model': 'BUP_Portable'}, {'path': '/dev/sdf', 'size': '4.6T', 'mountpoint': None, 'uuid': '791b50ed-3837-46cb-b74a-2a0f6245c983', 'model': 'My_Passport_2627'}, {'path': '/dev/sdg', 'size': '4.6T', 'mountpoint': None, 'uuid': 'bbfe6e8b-7998-4d51-82e9-f3544276ba7b', 'model': 'Elements_SE_2622'}, {'path': '/dev/sdh', 'size': '4.6T', 'mountpoint': None, 'uuid': '8df5a827-8cf2-44ba-b2ef-3effe5e9a8ee', 'model': 'Elements_2620'}, {'path': '/dev/sdi', 'size': '4.6T', 'mountpoint': None, 'uuid': 'dc659e28-8cda-4186-80c4-8448ac6a130b', 'model': 'My_Passport_2627'}, {'path': '/dev/sdj', 'size': '4.6T', 'mountpoint': None, 'uuid': '7d48164c-fdaa-4529-a732-93c14173ef3d', 'model': 'Elements_SE_2622'}, {'path': '/dev/sdk', 'size': '4.6T', 'mountpoint': None, 'uuid': '6ef6e756-2506-4d91-ae2d-1521def0f5f3', 'model': 'Elements_SE_2622'}]\n",
      "{'path': '/dev/loop0', 'size': '55.5M', 'mountpoint': '/snap/core18/2074', 'uuid': None, 'model': None}\n",
      "{'path': '/dev/loop1', 'size': '219M', 'mountpoint': '/snap/gnome-3-34-1804/66', 'uuid': None, 'model': None}\n",
      "{'path': '/dev/loop2', 'size': '55.4M', 'mountpoint': '/snap/core18/2128', 'uuid': None, 'model': None}\n",
      "{'path': '/dev/loop3', 'size': '219M', 'mountpoint': '/snap/gnome-3-34-1804/72', 'uuid': None, 'model': None}\n",
      "{'path': '/dev/loop4', 'size': '64.8M', 'mountpoint': '/snap/gtk-common-themes/1514', 'uuid': None, 'model': None}\n",
      "{'path': '/dev/loop5', 'size': '65.1M', 'mountpoint': '/snap/gtk-common-themes/1515', 'uuid': None, 'model': None}\n",
      "{'path': '/dev/loop6', 'size': '182.8M', 'mountpoint': '/snap/microk8s/2346', 'uuid': None, 'model': None}\n",
      "{'path': '/dev/loop7', 'size': '51M', 'mountpoint': '/snap/snap-store/518', 'uuid': None, 'model': None}\n",
      "{'path': '/dev/loop8', 'size': '51M', 'mountpoint': '/snap/snap-store/547', 'uuid': None, 'model': None}\n",
      "{'path': '/dev/loop9', 'size': '32.3M', 'mountpoint': '/snap/snapd/12704', 'uuid': None, 'model': None}\n",
      "{'path': '/dev/loop10', 'size': '32.3M', 'mountpoint': '/snap/snapd/12883', 'uuid': None, 'model': None}\n",
      "{'path': '/dev/sda', 'size': '119.2G', 'mountpoint': None, 'uuid': None, 'model': 'Teclast_128GB_A850'}\n",
      "{'path': '/dev/sda1', 'size': '512M', 'mountpoint': '/boot/efi', 'uuid': '2E66-7F6A', 'model': None}\n",
      "{'path': '/dev/sda2', 'size': '118.8G', 'mountpoint': '/', 'uuid': '602123de-d0fd-4238-abbb-2526abc3f678', 'model': None}\n",
      "{'path': '/dev/sdb', 'size': '4.6T', 'mountpoint': None, 'uuid': 'bc77a4b1-9fd0-479f-aa4d-eb538bf1f00f', 'model': 'Expansion'}\n",
      "{'path': '/dev/sdc', 'size': '4.6T', 'mountpoint': None, 'uuid': 'de548148-0ea0-4ce8-9969-a56118e23ff0', 'model': 'Expansion'}\n",
      "{'path': '/dev/sdd', 'size': '4.6T', 'mountpoint': None, 'uuid': '379b5bc9-c95f-4b62-87e5-029be3474745', 'model': 'Expansion'}\n",
      "{'path': '/dev/sde', 'size': '4.6T', 'mountpoint': None, 'uuid': '9b935f35-d3f9-41b0-b1fc-ca877ffd13c2', 'model': 'BUP_Portable'}\n",
      "{'path': '/dev/sdf', 'size': '4.6T', 'mountpoint': None, 'uuid': '791b50ed-3837-46cb-b74a-2a0f6245c983', 'model': 'My_Passport_2627'}\n",
      "{'path': '/dev/sdg', 'size': '4.6T', 'mountpoint': None, 'uuid': 'bbfe6e8b-7998-4d51-82e9-f3544276ba7b', 'model': 'Elements_SE_2622'}\n",
      "{'path': '/dev/sdh', 'size': '4.6T', 'mountpoint': None, 'uuid': '8df5a827-8cf2-44ba-b2ef-3effe5e9a8ee', 'model': 'Elements_2620'}\n",
      "{'path': '/dev/sdi', 'size': '4.6T', 'mountpoint': None, 'uuid': 'dc659e28-8cda-4186-80c4-8448ac6a130b', 'model': 'My_Passport_2627'}\n",
      "{'path': '/dev/sdj', 'size': '4.6T', 'mountpoint': None, 'uuid': '7d48164c-fdaa-4529-a732-93c14173ef3d', 'model': 'Elements_SE_2622'}\n",
      "{'path': '/dev/sdk', 'size': '4.6T', 'mountpoint': None, 'uuid': '6ef6e756-2506-4d91-ae2d-1521def0f5f3', 'model': 'Elements_SE_2622'}\n"
     ]
    }
   ],
   "source": [
    "import json\n",
    "f = open('disk.json')\n",
    " \n",
    "# returns JSON object as\n",
    "# a dictionary\n",
    "data = json.load(f)\n",
    " \n",
    "# Iterating through the json\n",
    "# list\n",
    " \n",
    "# Closing file\n",
    "f.close()\n",
    "print(data)\n",
    "print(data['blockdevices'])\n",
    "for disk in data['blockdevices']:\n",
    "    print(disk)"
   ]
  },
  {
   "cell_type": "code",
   "execution_count": 27,
   "id": "d6412d55",
   "metadata": {},
   "outputs": [],
   "source": [
    "diskv = filter(lambda item: item['mountpoint'] is None and item['uuid'] is not None ,data['blockdevices'])"
   ]
  },
  {
   "cell_type": "code",
   "execution_count": 28,
   "id": "7128b734",
   "metadata": {},
   "outputs": [
    {
     "name": "stdout",
     "output_type": "stream",
     "text": [
      "UUID=bc77a4b1-9fd0-479f-aa4d-eb538bf1f00f /mnt/hdda ext4 defaults \t0 \t0\n",
      "UUID=de548148-0ea0-4ce8-9969-a56118e23ff0 /mnt/hddb ext4 defaults \t0 \t0\n",
      "UUID=379b5bc9-c95f-4b62-87e5-029be3474745 /mnt/hddc ext4 defaults \t0 \t0\n",
      "UUID=9b935f35-d3f9-41b0-b1fc-ca877ffd13c2 /mnt/hddd ext4 defaults \t0 \t0\n",
      "UUID=791b50ed-3837-46cb-b74a-2a0f6245c983 /mnt/hdde ext4 defaults \t0 \t0\n",
      "UUID=bbfe6e8b-7998-4d51-82e9-f3544276ba7b /mnt/hddf ext4 defaults \t0 \t0\n",
      "UUID=8df5a827-8cf2-44ba-b2ef-3effe5e9a8ee /mnt/hddg ext4 defaults \t0 \t0\n",
      "UUID=dc659e28-8cda-4186-80c4-8448ac6a130b /mnt/hddh ext4 defaults \t0 \t0\n",
      "UUID=7d48164c-fdaa-4529-a732-93c14173ef3d /mnt/hddi ext4 defaults \t0 \t0\n",
      "UUID=6ef6e756-2506-4d91-ae2d-1521def0f5f3 /mnt/hddj ext4 defaults \t0 \t0\n"
     ]
    }
   ],
   "source": [
    "\n",
    "disknum = 0\n",
    "for disk in list(diskv):\n",
    "    mntname=\"/mnt/hdd{}\".format(chr(ord('a')+disknum))\n",
    "    disknum  = disknum + 1\n",
    "    print(\"UUID={0} {1} ext4 defaults \t0 \t0\".format(disk['uuid'],mntname))"
   ]
  },
  {
   "cell_type": "code",
   "execution_count": 13,
   "id": "70bebc30",
   "metadata": {},
   "outputs": [
    {
     "name": "stdout",
     "output_type": "stream",
     "text": [
      "/mnt/hddb\n"
     ]
    }
   ],
   "source": [
    "mntname=\"/mnt/hdd{}\".format(chr(ord('a')+1))\n",
    "print(mntname)"
   ]
  },
  {
   "cell_type": "code",
   "execution_count": 26,
   "id": "f57fd05e",
   "metadata": {},
   "outputs": [
    {
     "name": "stdout",
     "output_type": "stream",
     "text": [
      "mkdir /mnt/hdda\n",
      "mkdir /mnt/hddb\n",
      "mkdir /mnt/hddc\n",
      "mkdir /mnt/hddd\n",
      "mkdir /mnt/hdde\n",
      "mkdir /mnt/hddf\n",
      "mkdir /mnt/hddg\n",
      "mkdir /mnt/hddh\n",
      "mkdir /mnt/hddi\n",
      "mkdir /mnt/hddj\n"
     ]
    }
   ],
   "source": [
    "disknum = 0\n",
    "for disk in list(diskv):\n",
    "    mntname=\"/mnt/hdd{}\".format(chr(ord('a')+disknum))\n",
    "    disknum  = disknum + 1\n",
    "    print(\"mkdir {1}\".format(disk['uuid'],mntname))"
   ]
  },
  {
   "cell_type": "code",
   "execution_count": 1,
   "id": "3e9d88a3",
   "metadata": {},
   "outputs": [
    {
     "name": "stdout",
     "output_type": "stream",
     "text": [
      "{'blockdevices': [{'path': '/dev/loop0', 'size': '219M', 'mountpoint': '/snap/gnome-3-34-1804/66', 'uuid': None, 'model': None}, {'path': '/dev/loop1', 'size': '55.5M', 'mountpoint': '/snap/core18/2074', 'uuid': None, 'model': None}, {'path': '/dev/loop2', 'size': '219M', 'mountpoint': '/snap/gnome-3-34-1804/72', 'uuid': None, 'model': None}, {'path': '/dev/loop3', 'size': '64.8M', 'mountpoint': '/snap/gtk-common-themes/1514', 'uuid': None, 'model': None}, {'path': '/dev/loop4', 'size': '55.4M', 'mountpoint': '/snap/core18/2128', 'uuid': None, 'model': None}, {'path': '/dev/loop5', 'size': '32.3M', 'mountpoint': '/snap/snapd/12704', 'uuid': None, 'model': None}, {'path': '/dev/loop6', 'size': '51M', 'mountpoint': '/snap/snap-store/518', 'uuid': None, 'model': None}, {'path': '/dev/loop7', 'size': '51M', 'mountpoint': '/snap/snap-store/547', 'uuid': None, 'model': None}, {'path': '/dev/loop8', 'size': '182.8M', 'mountpoint': '/snap/microk8s/2346', 'uuid': None, 'model': None}, {'path': '/dev/loop9', 'size': '65.1M', 'mountpoint': '/snap/gtk-common-themes/1515', 'uuid': None, 'model': None}, {'path': '/dev/loop10', 'size': '32.3M', 'mountpoint': '/snap/snapd/12883', 'uuid': None, 'model': None}, {'path': '/dev/sda', 'size': '119.2G', 'mountpoint': None, 'uuid': None, 'model': 'Teclast_128GB_A850'}, {'path': '/dev/sda1', 'size': '512M', 'mountpoint': '/boot/efi', 'uuid': '2E66-7F6A', 'model': None}, {'path': '/dev/sda2', 'size': '118.8G', 'mountpoint': '/', 'uuid': '602123de-d0fd-4238-abbb-2526abc3f678', 'model': None}, {'path': '/dev/sdb', 'size': '4.6T', 'mountpoint': '/mnt/hdda', 'uuid': 'bc77a4b1-9fd0-479f-aa4d-eb538bf1f00f', 'model': 'Expansion'}, {'path': '/dev/sdc', 'size': '4.6T', 'mountpoint': '/mnt/hddb', 'uuid': 'de548148-0ea0-4ce8-9969-a56118e23ff0', 'model': 'Expansion'}, {'path': '/dev/sdd', 'size': '4.6T', 'mountpoint': '/mnt/hddc', 'uuid': '379b5bc9-c95f-4b62-87e5-029be3474745', 'model': 'Expansion'}, {'path': '/dev/sde', 'size': '4.6T', 'mountpoint': '/mnt/hddd', 'uuid': '9b935f35-d3f9-41b0-b1fc-ca877ffd13c2', 'model': 'BUP_Portable'}, {'path': '/dev/sdf', 'size': '4.6T', 'mountpoint': '/mnt/hddf', 'uuid': 'bbfe6e8b-7998-4d51-82e9-f3544276ba7b', 'model': 'Elements_SE_2622'}, {'path': '/dev/sdg', 'size': '4.6T', 'mountpoint': '/mnt/hddg', 'uuid': '8df5a827-8cf2-44ba-b2ef-3effe5e9a8ee', 'model': 'Elements_2620'}, {'path': '/dev/sdh', 'size': '4.6T', 'mountpoint': '/mnt/hdde', 'uuid': '791b50ed-3837-46cb-b74a-2a0f6245c983', 'model': 'My_Passport_2627'}, {'path': '/dev/sdi', 'size': '4.6T', 'mountpoint': '/mnt/hddh', 'uuid': 'dc659e28-8cda-4186-80c4-8448ac6a130b', 'model': 'My_Passport_2627'}, {'path': '/dev/sdj', 'size': '4.6T', 'mountpoint': '/mnt/hddi', 'uuid': '7d48164c-fdaa-4529-a732-93c14173ef3d', 'model': 'Elements_SE_2622'}, {'path': '/dev/sdk', 'size': '4.6T', 'mountpoint': '/mnt/hddj', 'uuid': '6ef6e756-2506-4d91-ae2d-1521def0f5f3', 'model': 'Elements_SE_2622'}]}\n",
      "[{'path': '/dev/loop0', 'size': '219M', 'mountpoint': '/snap/gnome-3-34-1804/66', 'uuid': None, 'model': None}, {'path': '/dev/loop1', 'size': '55.5M', 'mountpoint': '/snap/core18/2074', 'uuid': None, 'model': None}, {'path': '/dev/loop2', 'size': '219M', 'mountpoint': '/snap/gnome-3-34-1804/72', 'uuid': None, 'model': None}, {'path': '/dev/loop3', 'size': '64.8M', 'mountpoint': '/snap/gtk-common-themes/1514', 'uuid': None, 'model': None}, {'path': '/dev/loop4', 'size': '55.4M', 'mountpoint': '/snap/core18/2128', 'uuid': None, 'model': None}, {'path': '/dev/loop5', 'size': '32.3M', 'mountpoint': '/snap/snapd/12704', 'uuid': None, 'model': None}, {'path': '/dev/loop6', 'size': '51M', 'mountpoint': '/snap/snap-store/518', 'uuid': None, 'model': None}, {'path': '/dev/loop7', 'size': '51M', 'mountpoint': '/snap/snap-store/547', 'uuid': None, 'model': None}, {'path': '/dev/loop8', 'size': '182.8M', 'mountpoint': '/snap/microk8s/2346', 'uuid': None, 'model': None}, {'path': '/dev/loop9', 'size': '65.1M', 'mountpoint': '/snap/gtk-common-themes/1515', 'uuid': None, 'model': None}, {'path': '/dev/loop10', 'size': '32.3M', 'mountpoint': '/snap/snapd/12883', 'uuid': None, 'model': None}, {'path': '/dev/sda', 'size': '119.2G', 'mountpoint': None, 'uuid': None, 'model': 'Teclast_128GB_A850'}, {'path': '/dev/sda1', 'size': '512M', 'mountpoint': '/boot/efi', 'uuid': '2E66-7F6A', 'model': None}, {'path': '/dev/sda2', 'size': '118.8G', 'mountpoint': '/', 'uuid': '602123de-d0fd-4238-abbb-2526abc3f678', 'model': None}, {'path': '/dev/sdb', 'size': '4.6T', 'mountpoint': '/mnt/hdda', 'uuid': 'bc77a4b1-9fd0-479f-aa4d-eb538bf1f00f', 'model': 'Expansion'}, {'path': '/dev/sdc', 'size': '4.6T', 'mountpoint': '/mnt/hddb', 'uuid': 'de548148-0ea0-4ce8-9969-a56118e23ff0', 'model': 'Expansion'}, {'path': '/dev/sdd', 'size': '4.6T', 'mountpoint': '/mnt/hddc', 'uuid': '379b5bc9-c95f-4b62-87e5-029be3474745', 'model': 'Expansion'}, {'path': '/dev/sde', 'size': '4.6T', 'mountpoint': '/mnt/hddd', 'uuid': '9b935f35-d3f9-41b0-b1fc-ca877ffd13c2', 'model': 'BUP_Portable'}, {'path': '/dev/sdf', 'size': '4.6T', 'mountpoint': '/mnt/hddf', 'uuid': 'bbfe6e8b-7998-4d51-82e9-f3544276ba7b', 'model': 'Elements_SE_2622'}, {'path': '/dev/sdg', 'size': '4.6T', 'mountpoint': '/mnt/hddg', 'uuid': '8df5a827-8cf2-44ba-b2ef-3effe5e9a8ee', 'model': 'Elements_2620'}, {'path': '/dev/sdh', 'size': '4.6T', 'mountpoint': '/mnt/hdde', 'uuid': '791b50ed-3837-46cb-b74a-2a0f6245c983', 'model': 'My_Passport_2627'}, {'path': '/dev/sdi', 'size': '4.6T', 'mountpoint': '/mnt/hddh', 'uuid': 'dc659e28-8cda-4186-80c4-8448ac6a130b', 'model': 'My_Passport_2627'}, {'path': '/dev/sdj', 'size': '4.6T', 'mountpoint': '/mnt/hddi', 'uuid': '7d48164c-fdaa-4529-a732-93c14173ef3d', 'model': 'Elements_SE_2622'}, {'path': '/dev/sdk', 'size': '4.6T', 'mountpoint': '/mnt/hddj', 'uuid': '6ef6e756-2506-4d91-ae2d-1521def0f5f3', 'model': 'Elements_SE_2622'}]\n",
      "{'path': '/dev/loop0', 'size': '219M', 'mountpoint': '/snap/gnome-3-34-1804/66', 'uuid': None, 'model': None}\n",
      "{'path': '/dev/loop1', 'size': '55.5M', 'mountpoint': '/snap/core18/2074', 'uuid': None, 'model': None}\n",
      "{'path': '/dev/loop2', 'size': '219M', 'mountpoint': '/snap/gnome-3-34-1804/72', 'uuid': None, 'model': None}\n",
      "{'path': '/dev/loop3', 'size': '64.8M', 'mountpoint': '/snap/gtk-common-themes/1514', 'uuid': None, 'model': None}\n",
      "{'path': '/dev/loop4', 'size': '55.4M', 'mountpoint': '/snap/core18/2128', 'uuid': None, 'model': None}\n",
      "{'path': '/dev/loop5', 'size': '32.3M', 'mountpoint': '/snap/snapd/12704', 'uuid': None, 'model': None}\n",
      "{'path': '/dev/loop6', 'size': '51M', 'mountpoint': '/snap/snap-store/518', 'uuid': None, 'model': None}\n",
      "{'path': '/dev/loop7', 'size': '51M', 'mountpoint': '/snap/snap-store/547', 'uuid': None, 'model': None}\n",
      "{'path': '/dev/loop8', 'size': '182.8M', 'mountpoint': '/snap/microk8s/2346', 'uuid': None, 'model': None}\n",
      "{'path': '/dev/loop9', 'size': '65.1M', 'mountpoint': '/snap/gtk-common-themes/1515', 'uuid': None, 'model': None}\n",
      "{'path': '/dev/loop10', 'size': '32.3M', 'mountpoint': '/snap/snapd/12883', 'uuid': None, 'model': None}\n",
      "{'path': '/dev/sda', 'size': '119.2G', 'mountpoint': None, 'uuid': None, 'model': 'Teclast_128GB_A850'}\n",
      "{'path': '/dev/sda1', 'size': '512M', 'mountpoint': '/boot/efi', 'uuid': '2E66-7F6A', 'model': None}\n",
      "{'path': '/dev/sda2', 'size': '118.8G', 'mountpoint': '/', 'uuid': '602123de-d0fd-4238-abbb-2526abc3f678', 'model': None}\n",
      "{'path': '/dev/sdb', 'size': '4.6T', 'mountpoint': '/mnt/hdda', 'uuid': 'bc77a4b1-9fd0-479f-aa4d-eb538bf1f00f', 'model': 'Expansion'}\n",
      "{'path': '/dev/sdc', 'size': '4.6T', 'mountpoint': '/mnt/hddb', 'uuid': 'de548148-0ea0-4ce8-9969-a56118e23ff0', 'model': 'Expansion'}\n",
      "{'path': '/dev/sdd', 'size': '4.6T', 'mountpoint': '/mnt/hddc', 'uuid': '379b5bc9-c95f-4b62-87e5-029be3474745', 'model': 'Expansion'}\n",
      "{'path': '/dev/sde', 'size': '4.6T', 'mountpoint': '/mnt/hddd', 'uuid': '9b935f35-d3f9-41b0-b1fc-ca877ffd13c2', 'model': 'BUP_Portable'}\n",
      "{'path': '/dev/sdf', 'size': '4.6T', 'mountpoint': '/mnt/hddf', 'uuid': 'bbfe6e8b-7998-4d51-82e9-f3544276ba7b', 'model': 'Elements_SE_2622'}\n",
      "{'path': '/dev/sdg', 'size': '4.6T', 'mountpoint': '/mnt/hddg', 'uuid': '8df5a827-8cf2-44ba-b2ef-3effe5e9a8ee', 'model': 'Elements_2620'}\n",
      "{'path': '/dev/sdh', 'size': '4.6T', 'mountpoint': '/mnt/hdde', 'uuid': '791b50ed-3837-46cb-b74a-2a0f6245c983', 'model': 'My_Passport_2627'}\n",
      "{'path': '/dev/sdi', 'size': '4.6T', 'mountpoint': '/mnt/hddh', 'uuid': 'dc659e28-8cda-4186-80c4-8448ac6a130b', 'model': 'My_Passport_2627'}\n",
      "{'path': '/dev/sdj', 'size': '4.6T', 'mountpoint': '/mnt/hddi', 'uuid': '7d48164c-fdaa-4529-a732-93c14173ef3d', 'model': 'Elements_SE_2622'}\n",
      "{'path': '/dev/sdk', 'size': '4.6T', 'mountpoint': '/mnt/hddj', 'uuid': '6ef6e756-2506-4d91-ae2d-1521def0f5f3', 'model': 'Elements_SE_2622'}\n"
     ]
    }
   ],
   "source": [
    "import json\n",
    "f = open('diskm.json')\n",
    " \n",
    "# returns JSON object as\n",
    "# a dictionary\n",
    "data = json.load(f)\n",
    " \n",
    "# Iterating through the json\n",
    "# list\n",
    " \n",
    "# Closing file\n",
    "f.close()\n",
    "print(data)\n",
    "print(data['blockdevices'])\n",
    "for disk in data['blockdevices']:\n",
    "    print(disk)"
   ]
  },
  {
   "cell_type": "code",
   "execution_count": 18,
   "id": "954b4b81",
   "metadata": {},
   "outputs": [],
   "source": [
    "diskv = filter(lambda item: item['mountpoint'] is not None and  item['mountpoint'].startswith(\"/mnt\") and item['uuid'] is not None ,data['blockdevices'])"
   ]
  },
  {
   "cell_type": "code",
   "execution_count": 7,
   "id": "b27c86ac",
   "metadata": {},
   "outputs": [
    {
     "name": "stdout",
     "output_type": "stream",
     "text": [
      "{'path': '/dev/sdb', 'size': '4.6T', 'mountpoint': '/mnt/hdda', 'uuid': 'bc77a4b1-9fd0-479f-aa4d-eb538bf1f00f', 'model': 'Expansion'}\n",
      "{'path': '/dev/sdc', 'size': '4.6T', 'mountpoint': '/mnt/hddb', 'uuid': 'de548148-0ea0-4ce8-9969-a56118e23ff0', 'model': 'Expansion'}\n",
      "{'path': '/dev/sdd', 'size': '4.6T', 'mountpoint': '/mnt/hddc', 'uuid': '379b5bc9-c95f-4b62-87e5-029be3474745', 'model': 'Expansion'}\n",
      "{'path': '/dev/sde', 'size': '4.6T', 'mountpoint': '/mnt/hddd', 'uuid': '9b935f35-d3f9-41b0-b1fc-ca877ffd13c2', 'model': 'BUP_Portable'}\n",
      "{'path': '/dev/sdf', 'size': '4.6T', 'mountpoint': '/mnt/hddf', 'uuid': 'bbfe6e8b-7998-4d51-82e9-f3544276ba7b', 'model': 'Elements_SE_2622'}\n",
      "{'path': '/dev/sdg', 'size': '4.6T', 'mountpoint': '/mnt/hddg', 'uuid': '8df5a827-8cf2-44ba-b2ef-3effe5e9a8ee', 'model': 'Elements_2620'}\n",
      "{'path': '/dev/sdh', 'size': '4.6T', 'mountpoint': '/mnt/hdde', 'uuid': '791b50ed-3837-46cb-b74a-2a0f6245c983', 'model': 'My_Passport_2627'}\n",
      "{'path': '/dev/sdi', 'size': '4.6T', 'mountpoint': '/mnt/hddh', 'uuid': 'dc659e28-8cda-4186-80c4-8448ac6a130b', 'model': 'My_Passport_2627'}\n",
      "{'path': '/dev/sdj', 'size': '4.6T', 'mountpoint': '/mnt/hddi', 'uuid': '7d48164c-fdaa-4529-a732-93c14173ef3d', 'model': 'Elements_SE_2622'}\n",
      "{'path': '/dev/sdk', 'size': '4.6T', 'mountpoint': '/mnt/hddj', 'uuid': '6ef6e756-2506-4d91-ae2d-1521def0f5f3', 'model': 'Elements_SE_2622'}\n"
     ]
    }
   ],
   "source": [
    "for disk in list(diskv):\n",
    "    print(disk)"
   ]
  },
  {
   "cell_type": "code",
   "execution_count": 13,
   "id": "0457b77e",
   "metadata": {},
   "outputs": [],
   "source": [
    "import os\n",
    "def checkPlot(files):\n",
    "        for file in files:\n",
    "            if file.endswith(\"plot\"):\n",
    "                return True\n",
    "        return False\n",
    "def findPlotdir(mntdir):\n",
    "    plotdir=[]\n",
    "    for root, dirs, files in os.walk(mntdir):\n",
    "        print(root)\n",
    "        print(files)\n",
    "        if checkPlot(files):\n",
    "            print(\"find plot\",root)\n",
    "            plotdir.append(root)\n",
    "    return plotdir"
   ]
  },
  {
   "cell_type": "code",
   "execution_count": 14,
   "id": "bf1100a0",
   "metadata": {},
   "outputs": [
    {
     "name": "stdout",
     "output_type": "stream",
     "text": [
      "/mnt/hddj\n",
      "['nohup.out']\n",
      "/mnt/hddj/ptm010702\n",
      "['plot-k32-2021-07-02-23-31-e2f967614cd6e00d5ebcfa4ec31df54d7d79bd7427cac178cc03363bab21c2f8.plot', 'plot-k32-2021-07-03-09-47-84ef7e5dec021454179f368aa637060019c5704c6cf5c8082eb55dd1e95470a3.plot', 'plot-k32-2021-07-04-03-57-33e14cf4472bc11219a47798fd0df532ab9bc71b225170600745920dca1b5c72.plot', 'plot-k32-2021-07-03-04-15-0ca853b33f0c57c5f17548a9710439d1e04175bca7b1f8ec94cc4b325dfe2514.plot', 'plot-k32-2021-07-02-17-59-4cca9d3b5bfc45948d6e26ea16997fe80c4efb4a07f67c44832faffc6a15f5f7.plot', 'plot-k32-2021-07-03-20-04-892f70b02c3f483ae4e61fc41790915295800f77649329410aba9e8728977552.plot', 'plot-k32-2021-07-03-07-25-e735f8b4f453ab1aef218c208e3fa585205621f5d0281b8b58562d4d6e85dddd.plot', 'plot-k32-2021-07-03-01-53-0836234a9be7a96174ef2eddcddd58571a9c5a568a9b5ad4eca855df721bf547.plot', 'plot-k32-2021-07-03-02-40-84b2f1a70ba02a038e6c4066e6ce7d2696bd969a2f451500e27682707e9f724d.plot', 'plot-k32-2021-07-03-23-13-4b932e190cf791b269d5e357a73bc317ae042fec3b05bec72d92304a082ea1a7.plot', 'plot-k32-2021-07-03-05-02-070c15194a15e9e20b07ce2d7d33d906d891380d48582ed902c3c0b4f3d5a576.plot', 'plot-k32-2021-07-03-06-37-aa561a65923c3d40393b7b61357c81f8ff31ead45319b6fbd66ef93e508d8f94.plot', 'plot-k32-2021-07-03-11-22-28c6d99ecb51c23f70045be18646b9a14d6a14acfe3b33a7fde15892a94240de.plot', 'plot-k32-2021-07-03-22-26-ccaec1cf2ddeab39368b80914098e212b640cdee153876bbb8a2a5386f330212.plot', 'plot-k32-2021-07-04-00-48-a6b1efa02672a2497e8d98dbacf274812c99d9a9bab700bea15a00dcf8041317.plot', 'plot-k32-2021-07-03-08-12-4d9c450be6879683284457c51e642c93520df80d8f2bc23455c1ca729219a9bc.plot', 'plot-k32-2021-07-02-21-56-e0dd6a74e6dbe87d023e294da49f467b4a9ba30616671b517838e7b841bb93a6.plot', 'plot-k32-2021-07-03-13-44-e049a0852dc570ca01f8585bf9717f446dd59deab1dbed9a29b3e060d7db860c.plot', 'plot-k32-2021-07-04-01-35-0b3549586795eba537ede33bafe423d630e8a53791c48b3e227c9f18e51e4974.plot', 'plot-k32-2021-07-04-00-00-548d2d08c2c428648f9083e38d6fa2e7732f3d7ae8660d7d6b1830b3b87faf08.plot', 'plot-k32-2021-07-03-12-57-72307913c7a3aba6c0fb12bf4908851ecdb2a97c68d3013621d33536d328cdef.plot', 'plot-k32-2021-07-02-22-43-d7df67031ac1daa1088780f62f07bdd59fff910d84bd57febdd111a5283bb035.plot', 'plot-k32-2021-07-02-19-34-47fdbfcc26d33c3a1b308080a9bee67945227f285cbb1be412f0f17b98431aae.plot', 'plot-k32-2021-07-03-17-41-a2592a7bdbb2e72b67d634b6d84d9e00188b722a6de5b79ecbca57995e0bd3d5.plot', 'plot-k32-2021-07-04-04-44-b5ee3647e7b035762444c2262d58a9a45e2ca43325c0b14d715fd2b9b0aca535.plot', 'plot-k32-2021-07-04-02-22-7c7a7dcc368ac7498f585dca371ed0ae78ff868a79c611aef118dc5ae5a286e8.plot', 'plot-k32-2021-07-03-00-18-eb9db394749059d445ff439762bb5908a1bc09198c595db520e7fe0cb22f2aaa.plot', 'plot-k32-2021-07-04-03-10-0e12e1eb2231bf82b8ab28043ccb924b62ca7c3060b0d13d5a5958d275db3744.plot', 'plot-k32-2021-07-03-16-06-90a2185b00925bf072c3ce65be9837f41056da1a1c1e774c389323f443ae4e50.plot', 'plot-k32-2021-07-03-20-51-badd1bf31b8a21373e1a7512f08f1ccf527d5dd1b3146e22a4ec110f7b02e6e6.plot', 'plot-k32-2021-07-03-21-38-4817b996256e67c2de4be20bffa33734e92e5a1005845431e9dc8b1b4591ca8a.plot', 'plot-k32-2021-07-02-18-46-8c3c0da2e0e5e1ffde29c55a13076298a37a9543d5e9e8dfae65b3e74b3db947.plot', 'plot-k32-2021-07-03-08-59-dcc1dc56a5c80358f2d5b7f293a9ff5e23c1b698d39c1d0f25a2844a795db0e7.plot', 'plot-k32-2021-07-03-15-19-e0a1b93f8cd6819786a7f393ad401a2f48d17fa81485fefef330820b67c47e59.plot', 'plot-k32-2021-07-02-21-09-691abcf9332ba567266b5320b5f9961ea28899cd693411ffd22c2302f6430c6b.plot', 'plot-k32-2021-07-03-10-34-205618c0c7138e50943f7242fc01009cbfc82b03b103b555bbabfad24622eb58.plot', 'plot-k32-2021-07-03-01-06-15c8cf99654f75c238e927a670827c11a5efa4b39806bc038d5ec7b6d281fadd.plot', 'plot-k32-2021-07-03-14-31-aaae7d1501a2a68570d76be0d56994e0a277ccdadae0062cee05e4b37dc9c29a.plot', 'plot-k32-2021-07-03-03-28-d99b4eece75aefaafe57b4be3c95622c344d63d10bda7ded51f6d3e64cce176a.plot', 'plot-k32-2021-07-03-05-50-84436b5716875c036175e226889f34615bd80aa35bbf77ac62d66c70dea89d14.plot', 'plot-k32-2021-07-02-20-21-a234947acd58dcf010f6b0f47e1d74e475c3fdc09e606d545fc2012188279fa7.plot', 'plot-k32-2021-07-03-16-54-2f5c1dee21babf6a61b28b422239272e720ba7a8e66dc2d3e2a7733fb651384b.plot', 'plot-k32-2021-07-03-12-09-25ef48bd48305fc88ed95b0389230e2d3efefbb2a3fd5e67068009053ed8d792.plot', 'plot-k32-2021-07-03-18-29-94e6ecdb51b98fb9d3b25c3145a3ce456465dda063859436c75b2d2a7c710914.plot', 'plot-k32-2021-07-03-19-16-11fdcfc7d0dd1bee05eb102890da9d13b8763d2ef79c735af7833e50d7aa6b16.plot']\n",
      "find plot /mnt/hddj/ptm010702\n"
     ]
    },
    {
     "data": {
      "text/plain": [
       "['/mnt/hddj/ptm010702']"
      ]
     },
     "execution_count": 14,
     "metadata": {},
     "output_type": "execute_result"
    }
   ],
   "source": [
    "findPlotdir('/mnt/hddj')"
   ]
  },
  {
   "cell_type": "code",
   "execution_count": 19,
   "id": "64b7768d",
   "metadata": {},
   "outputs": [],
   "source": [
    "plotdirv=map(lambda item:findPlotdir(item['mountpoint']),diskv)"
   ]
  },
  {
   "cell_type": "code",
   "execution_count": 20,
   "id": "11cf7fdb",
   "metadata": {},
   "outputs": [
    {
     "name": "stdout",
     "output_type": "stream",
     "text": [
      "/mnt/hdda\n",
      "[]\n",
      "/mnt/hdda/ptm020625\n",
      "['plot-k32-2021-06-30-18-41-8d125d2016ba3ffe21cfb5383dcb6d9a382b7d7ce7d508d3c7626f1f02564b85.plot', 'plot-k32-2021-06-28-10-02-9640a99a3ac9bb2d418688ddf92b4e7e99dcb118f7b0f332cb3b5338db10b5db.plot', 'plot-k32-2021-06-28-01-03-971ce051ad4036c504e83ee81c09394439466136bb84ab7f10a63bfba8932cf6.plot', 'plot-k32-2021-06-25-09-37-622f8576ae6fcfadc63e3e73269e20fdea4567e5db91a0b1bf64bb0240d0b0f1.plot.tmp', 'plot-k32-2021-06-29-08-28-13d2aa2eaf27d778c53f60886a22f80087a6b94c0c41c4fabb69c30159d618c2.plot', 'plot-k32-2021-07-01-09-55-ed914f90199b0f75d1f25c339146957c119bd2dcfc3d5d105cd16b7cec9e79b3.plot', 'plot-k32-2021-07-02-09-37-8aff81642b5b69fef7c6be0d052d85320566ca0ca766318e5da74d23e8cac497.plot', 'plot-k32-2021-06-30-20-35-50b1b0bafb2557601135d18fa3c0537516ef0a6a761affb0ca59037e5d644709.plot', 'plot-k32-2021-06-30-07-12-56598141e8e258227ae370bbd2785bcd50f4f720ec45464a4475fba86b9659df.plot', 'plot-k32-2021-07-01-02-18-3f6a3e28ce98b44de1f99b07d1020a08daf81d9aa072f7c992ebcff334967f97.plot', 'plot-k32-2021-06-28-13-41-091a34c069f3f7b1dca9c15aca00c1ac905b49fff1852118e7b5c1129a6304b5.plot', 'plot-k32-2021-06-28-06-20-8516c3b36b38e02e78965090e790c2a37dff9b7f47366b4dceba0391597bd244.plot', 'plot-k32-2021-06-29-23-40-b22e2a6887e6f46c4b36d67fec8c6ed57eea37e4412cb4404d6a9583c8946903.plot', 'plot-k32-2021-06-30-05-17-22eb2ef19fedeb7d4548dd9f0aa396e46d4589278132989e190f95bf14e6086d.plot', 'plot-k32-2021-06-30-11-02-a73003ded7f8fc511c7cebe01dde0e4f105bb289bd21fe75959955cfda4cd5c6.plot', 'plot-k32-2021-06-28-19-20-e8f364e9258eac57971b203842a1e251142392b23e4983c38bcb4160dd19ae42.plot', 'plot-k32-2021-06-28-21-12-f981f154a1f2474e508c6b9d8b4de31741a6c800088cbefce0db4b449c0ec186.plot', 'plot-k32-2021-06-28-08-10-f39d70e6f748a401334d876d152018bc75dae29c80dafe3424d198ce1b2f3806.plot', 'plot-k32-2021-06-28-04-29-4697787c1d46392ffc5904336159cf3ed580fbe9baa63bce674ea0bfa6a16ffd.plot', 'plot-k32-2021-06-27-18-55-c765f722479340627c0d36098ff5ed0016e44dc88d5cb1efdfebd618111df099.plot', 'plot-k32-2021-07-02-11-29-851c7eb34845366ed93cfd5d9464ab380db2ee284957b2da7317b63db0bbefd2.plot', 'plot-k32-2021-06-30-03-24-e7745768289537ce4b8bcf3044103a81625785328e2053d84d2ada8dca97ec0f.plot', 'plot-k32-2021-06-30-12-57-fb70da0643cce28e14632a85114268e8eeb3993bad1ae16ff7e71f3a554be53d.plot', 'plot-k32-2021-06-30-09-06-1714d847cac6ac52401b96924b94737b095b032153c84e580d2c5b9e06ba47ae.plot', 'plot-k32-2021-07-01-04-11-831cf67eeb1a098459466441de6be50cdbdbc80f638fdaa105790758ef202dcf.plot', 'plot-k32-2021-07-01-00-24-0de90d5d788f05a4dec509a1421af133d085975d87d1848ed3e3d36e824e6625.plot', 'plot-k32-2021-07-01-06-05-0788052c3d16937b98a7c1b1a636c1952e962d0d28f66d2d8e90818d41415a5b.plot', 'plot-k32-2021-06-26-20-44-3d4b6075aaa11130612ba0774b5176b60656690e5f708dcd7a569d3a92b56ce6.plot.tmp', 'plot-k32-2021-06-28-11-52-65850227df2aaf9f251ccc3811483878a6b282c2c71daf0b8c3b413d8f9c1561.plot', 'plot-k32-2021-06-28-15-33-dabaf14028e2e5b00a619d5602bf15c9fea1009b093e248bb247d540c9523eb3.plot', 'plot-k32-2021-07-02-13-24-d942d12ef118390a7882be33bbebb94edcd9224addbc4bf1b1114bcd8bcdf2ed.plot', 'plot-k32-2021-06-29-06-34-5cb3838abe7ae6572a588f0f9b5b1f0d678b1fecaada04ad8e5a68e654546788.plot', 'plot-k32-2021-06-30-01-32-e53d7ad9ee268b5dfe13f1e5160b1abac22d2dff47fc2c3753c9798bc18e4655.plot', 'plot-k32-2021-06-29-21-52-d9f10ef5459dd0614ab01230a5bc4ca48a8dcea599f3ea2859070280ad91223b.plot', 'plot-k32-2021-07-01-08-01-d0b53b44400bd00b3d25fc9e9d2da1f081e9a85a5c9370c84aaa96fde97ab22e.plot', 'plot-k32-2021-06-29-00-57-af2bb0dbde3a48c79946fd3d76408ac7c31d94a2851ca1b1266de277138c2b12.plot', 'plot-k32-2021-06-30-16-47-d96060b4a865cf314934b3c651527fb372dd680fca252ba9edfa0fb47d213f40.plot', 'plot-k32-2021-06-28-02-43-f6bcf892e2563d24c723e01fffd57df35d27ee7df584504a1c1fdcc50979659a.plot', 'plot-k32-2021-06-30-22-31-62440929852fa4c28e03849e9fddb22176a6bc5dd5e9fb5c8dc026f3963f80e6.plot', 'plot-k32-2021-06-28-23-04-76a5222b5461338f3fdbe11aed4692b43fec87a8fde4b4e87aa6863f59d5cf76.plot', 'plot-k32-2021-06-27-22-43-3beba3bacdc040b335554288c99dfb1ce89ff84ae8bded2d65af8033124b1414.plot', 'plot-k32-2021-06-29-04-40-1033c7b4e2b7700300b9489b0ef072950ea9df206e6218fed4a1f0e221a8fc51.plot', 'plot-k32-2021-06-28-17-27-07119234ada9b30ab53439af86c8a779316938864c3fc1cdd4ff59c1abb407c9.plot', 'plot-k32-2021-06-29-02-48-60ea97e177ffeb719dbcc267ef117b733b99caabca3a7b1bfaf388bef6a870c7.plot', 'plot-k32-2021-06-30-14-51-0215a97b1ddff6348260dd7bc6d15b9c433bf7d129c9595e609d97ed863f2eb5.plot', 'plot-k32-2021-06-26-11-11-b28c96f45e586dda3d81c5a18d01e7e80ce633d68c44349a48da80816cda67a1.plot.tmp']\n",
      "find plot /mnt/hdda/ptm020625\n",
      "['/mnt/hdda/ptm020625']\n",
      "/mnt/hddb\n",
      "[]\n",
      "/mnt/hddb/backup\n",
      "['nohup.out']\n",
      "/mnt/hddb/ptm020620\n",
      "['plot-k32-2021-06-23-15-04-7e9307d4b755e0055a7ca509b5597ad2d8b5d2a2b98b0b50e7f65d33f0f83f97.plot', 'plot-k32-2021-06-23-16-22-3192988f36f4a490ad2f67a0d6c35623c1745da271d257f51eecc66412dc7ee0.plot', 'plot-k32-2021-06-24-01-21-ab1021420e73a3c3f90bc96cc7d9dc2e0f9b00f867df36f2e666d8fcdbf2dc38.plot', 'plot-k32-2021-06-22-05-41-f28e38ff63a966b0650191c859f753749572ebffac3371a9a2862893ae9ff60e.plot', 'plot-k32-2021-06-21-22-04-b6d9e61a2d38a32fe2b11488af4fe2530750e4b6a571a450e65c71ac30308aaa.plot', 'plot-k32-2021-06-22-20-09-27433c2aad6c7cb010f20e23713a5be8cd036906c0655fee97bd27f89201712d.plot', 'plot-k32-2021-06-24-06-36-554c44ff404c78c88ccc89b77c94a4f2510e1d962e6770a98cd882593f9ff040.plot', 'plot-k32-2021-06-23-17-39-4414f1a2f3a684984d97958680e95bd9556985f316515d76e55df5cf1efb9feb.plot', 'plot-k32-2021-06-22-07-08-1bd0405d75c9751a1ae25136bc881848375d71a3e3b849d298de79bbe2b006d2.plot', 'plot-k32-2021-06-23-20-14-30a9aabe1cdbf40a849d85c85df6d288fd8248874f9179e93e75625b0d10a8cb.plot', 'plot-k32-2021-06-22-14-30-8a4f52e67ee4f24585fd4bdb6ddd9e502bbb462400400ac71f7f3a0cb52b9296.plot', 'plot-k32-2021-06-24-00-05-04c75c6915c8ab0fbc268f52d59b1c845a8ffa253c393812ff523357bbc31cd1.plot', 'plot-k32-2021-06-22-02-38-a13cec9aba26253d773b946e17975c32c604bf83e524adf7e24aebdf818acff1.plot', 'plot-k32-2021-06-22-11-34-458f12401102510ac3ea976498154aca27c8f0f89d2a1e27b2ea4454b661264a.plot', 'plot-k32-2021-06-24-09-14-ea59dae7235bdd7c4c72c2c4e2a917578b7ae7cda32b741dcf314230c2f38213.plot', 'plot-k32-2021-06-24-19-51-93f37c30d60ecd28469cbd8c01333706293f95ea0a51bc73737cd0108297d247.plot', 'plot-k32-2021-06-22-17-22-dba4b83cb1cf87eb4062ee0e26b61cc2008998392f47034feb86c8e4526aaf19.plot', 'plot-k32-2021-06-23-22-48-1c420622be5816ed665edfdab8e2c5ae1de907e55c4b7ae9bac9fe0689f765fe.plot', 'plot-k32-2021-06-23-13-50-799ddb73d525e11a0a5504ff07fe2592ba6143fa2c5819a810d5733e1d227360.plot', 'plot-k32-2021-06-21-16-48-daf498e0f86d84b8a7191149a9c9ec0ff022c5895fc5764b4b915b48271e9cce.plot', 'plot-k32-2021-06-24-22-14-291a7ef9b9dd005dbb66991305833c17d6b7efebbf32da16ff3e069bbc7102eb.plot', 'plot-k32-2021-06-24-21-04-d7138466b507bcee53c353bf1baeb5eb38519715b53efb9597434a49fa7d8f78.plot', 'plot-k32-2021-06-22-04-11-e97ce19d21f81e3645d6c23236ce66e936dd0e41a98ee23767e2fbb3e43f058b.plot', 'plot-k32-2021-06-22-08-35-b78157a7289dd7f0fc40b82e8a0470b945caabaac30fe7aeb96e91dc042fbc41.plot', 'plot-k32-2021-06-21-20-34-b0b930bd0074d1e3ff8593a39700c410be716c635100e502dec887138323b0b5.plot', 'plot-k32-2021-06-22-21-33-b0f0b928d75efdf8092c1a14306e1e89ecc2f685b6d815fafbffbbcb6cbb8364.plot', 'plot-k32-2021-06-23-12-34-14e3cedb39ba8879bd0b181e4f09c945b52993400f61c2ab5ad19aaeb0921d9a.plot', 'plot-k32-2021-06-22-18-45-26924c0b15141e74d288a923516b3f75ac3cfe6042ba5d6fdf4236b5ed74ec8f.plot', 'plot-k32-2021-06-22-13-03-f4596ff1898e098ca4d66caa362e58f26d247b3d44e6f14ca529e7e12a46acf1.plot', 'plot-k32-2021-06-23-21-32-240fab4ca9d46e3582f02ae91f7248d1b7674811fcac5f5202ca8073b1973322.plot', 'plot-k32-2021-06-24-07-56-88572f0d70c1f797575653ef079189660d23d1a4bda9cc227e0eae6fa61d7c4f.plot', 'plot-k32-2021-06-24-11-52-1282df300a52106fb398d5ea8ec6fb3c6bfdb26056dfad909046c837a65e2de4.plot', 'plot-k32-2021-06-23-11-18-0f965b5848fd791941972f198ca4318790de1de4bc1a33bb20faa35fd9d877c3.plot', 'plot-k32-2021-06-24-10-34-95b74cf08ecef3507362f72dd5e4cbd804c00c5eaf1aaf828d7705da4c448bec.plot', 'plot-k32-2021-06-22-22-57-f7a7934a62021dbedfb9879de033182f982234c21afb8487f291fd8434aa6032.plot', 'plot-k32-2021-06-21-23-37-8b8ba6900ecbddcd948651e2b4bf94243380cfe8b30957a09899ba9330ca41d1.plot', 'plot-k32-2021-06-24-23-27-ef2e71a62d874aa27d3fe5bc8d0e75ec3974d3318e81aa1eee8aab033d2aec79.plot', 'plot-k32-2021-06-23-18-57-e4de49304b0080250c50ef5cf259dd09dca0270f91713319ab78cf742a654c36.plot', 'plot-k32-2021-06-24-02-39-6fc3e932c7fb520cb80096fc5ef18bf15835ec8fe3ed4fed773d1831d460124e.plot', 'plot-k32-2021-06-22-01-07-e155844ea45188ae48165269cf98b805f1f080300a079cec5ebf222877365f5e.plot', 'plot-k32-2021-06-22-10-02-8ebd5a7111ce432ed70540394b24c73ba3ec2a041e7b074f9816d3cf8467f972.plot', 'plot-k32-2021-06-24-05-18-30e798afc482a27147a8ba04af0b4853101c61ae0fd6bd06bc232d0c1562e54c.plot', 'plot-k32-2021-06-23-00-21-17b794b02e534d0758215bc27624cc2ed9b0830a15f7f629164a613654dfe01d.plot', 'plot-k32-2021-06-24-03-59-97497428cbb332f1b0070f8bcf2b3d7d40031d8455d61480ffa43eb3a600b609.plot', 'plot-k32-2021-06-22-15-55-bbb2da0bef17f12c1c2ceb59aea3dff0d1c6e533f06ecfce889b206cb7926789.plot']\n",
      "find plot /mnt/hddb/ptm020620\n",
      "['/mnt/hddb/ptm020620']\n",
      "/mnt/hddc\n",
      "[]\n",
      "/mnt/hddc/ptm0t10531\n",
      "['plot-k32-2021-05-31-10-09-55ee4dc7423dd10f095b114138b3bfdfa5efe8920a357e0aa351b446b114975f.plot', 'plot-k32-2021-05-31-15-11-d11c32483dfe9419e4c66bb00979df6c2ab15a894a4306e8ef52b39e088d6f91.plot']\n",
      "find plot /mnt/hddc/ptm0t10531\n",
      "/mnt/hddc/pt\n",
      "['plot-k32-2021-05-21-10-37-e81810955a56abc53dfec2690b6d6d0fb2c1e66405bc46e4958eeb93a7fcaf7f.plot', 'plot-k32-2021-05-27-22-54-f4d294a794d5059f9b07f1012f8c764320b6d8837e2253492420b5d05ace51f2.plot', 'plot-k32-2021-05-25-20-06-3b9fde5d07e9b1f0b8e7190fcf1bf2e94c4a81cd898154d1812f145265b95cca.plot', 'plot-k32-2021-05-20-17-10-18565c3dc7e71bccf8e44c10d04eeed19bb6db342f5daddf3d16f67efe28b165.plot', 'plot-k32-2021-05-31-00-06-322890839d67aafe01ea7786a39914a01744f6ae66e819d688dfd9030acc6e63.plot', 'plot-k32-2021-05-20-07-33-b21fbc9abdeac1e5d8fbea620b698f0630db0672dfcf531345cb0cbde0fbca27.plot', 'plot-k32-2021-05-25-15-56-137713ce482bd7599c2b94c0a5a87dcac96aea23d5f0d346c365194d5cd99638.plot', 'plot-k32-2021-05-21-14-48-a6c1f5d2f06d4ba8703e4d37c52e36337dc98c2bd19ebaf7ec1816b1ce4003ee.plot', 'plot-k32-2021-05-26-00-18-cd5748f2088f9d5551209b3deac7c044874a967c9000428e8564cff15a1bda74.plot', 'plot-k32-2021-05-20-10-33-e2042f3c957660c259a23b0d8d6d015e89b8dc027b76629c5ff98e12d248c585.plot', 'plot-k32-2021-05-31-15-01-1c9cfc128eebfaa97a798d01e9f1074e4631b9b9cd179e2d030fcbaed393cea9.plot', 'plot-k32-2021-05-21-18-59-09b5f24dd8b0aa1bb5ba3fa2f5d8f651aa3ecac9aae8c4e787576069e44f7bff.plot', 'plot-k32-2021-05-20-03-23-f2aef5ac82724c6b49acc3985dfc4aac3b8b8f5d03cda07ee8e9d896aef529de.plot', 'plot-k32-2021-05-27-18-30-327cbf3f374c084efb997f3f18de718ea178a26a1cdd858f11c5b944b8284051.plot', 'plot-k32-2021-05-19-18-36-1e92ec85dc716f74e86a7a87d72142aa61b3cd446f71d0a40968ea268668863b.plot', 'plot-k32-2021-06-01-00-14-c19200d03cf2c4805a6fa0a3fb262b95fd1a0cf3d0b9001a566e537c804803d2.plot', 'plot-k32-2021-05-19-08-45-168e654c2322199c60ff4524c833bf46d354f7cea6a4974dd7c950582d8e03a2.plot', 'plot-k32-2021-05-20-21-24-ef52a8105320c186e1f7b9ff4f6e376a6906e8e89138e403aa6028ac559a8662.plot', 'plot-k32-2021-05-31-19-45-a7ad61d818b02341b9b9cacc0c7873d67ef23f0b69148f1369e1a51acbc16fa8.plot', 'plot-k32-2021-05-19-22-47-7dda7ef9499585b6bbc47bfabbf4b1cafa0d1b769001dc6b1df61d0821152b0d.plot', 'plot-k32-2021-05-27-09-35-a08f94b4fe2bb267657440efd88d982e04951761bfa4706d98a72e11b91166f5.plot', 'plot-k32-2021-05-21-01-37-0c18dc07223aeb94d9d32240b3a6fd48295333c62f1976ed0e29ac8c32de5885.plot', 'plot-k32-2021-05-30-10-24-c5b355b0763c933019d19e7102b1fff4055dbc915a66f3a6b80a0def3c7e9d31.plot', 'plot-k32-2021-05-30-15-08-0f36677931ad60fcdd533003d1fc373db5cab611bcb3b36345947625df235c82.plot', 'plot-k32-2021-05-27-13-58-f97cfe18a544d69321e5f347faa800b452e023d31e741fabc50a0c46758675d7.plot', 'plot-k32-2021-05-20-11-48-ba07dc547fa920405ab318e431040f41be02a38513f41a2b191da39acdc712d8.plot', 'plot-k32-2021-05-22-04-16-194b1d54a84b0461ea2aca544e0b880a25349d01a20d9e1df9d9c0c9d27b5606.plot', 'plot-k32-2021-05-21-06-26-72269f14b40a805a1448249d1e28f1df3ae23fc52b1d39994eb57a070dbbb21b.plot', 'plot-k32-2021-05-30-19-37-fbb325452a2d294b9fb9773a3deb2d3d841e58117d5f511c9f83f5c28b30aeaa.plot', 'plot-k32-2021-05-31-10-09-03b0c79debca039ed2849891feee69f9d3c073c026e4fe3d618828569530dafa.plot']\n",
      "find plot /mnt/hddc/pt\n",
      "/mnt/hddc/ptm0t00528\n",
      "['plot-k32-2021-05-28-17-44-9ddb7cac6f2b8142dbdd4fa6d36ca18fedae089e91f1fc9b9f8083a50038ec56.plot', 'plot-k32-2021-05-28-22-06-ec4a1f354e1854133367a3f0e7e9e2a8a382b778d8dc18e91ad374e33167e5ce.plot', 'plot-k32-2021-05-29-13-57-8e8677f0a4883f90a541a72b122feff5d169a2c4458ef8cab0b2ea90e8170d69.plot', 'plot-k32-2021-05-29-09-02-3eb6ceb5782220609db70ccdbedc18d05f19490d6333c12813f1990360043b25.plot', 'plot-k32-2021-05-29-18-23-014a1f57076068eb19bc2091d36eff8b647d8ba953033be13e71a2e57a09ebf4.plot', 'plot-k32-2021-05-29-22-57-9da8b0883e2d83b3394e83c49417d2fe29fa60b8e87f6c327747b512a2215479.plot', 'plot-k32-2021-05-30-03-37-51cf07f8e763da78fd9ac0240c5c11742c5f9a3cf4c11e11bbfe7a14ff96a140.plot', 'plot-k32-2021-05-28-13-20-05535f16a430f1a62cec25affbc730a54706bcbfc958bb55d52bf21568e4b7b4.plot', 'plot-k32-2021-05-29-02-29-380155e40d4eb6ab4403898b983eb26e58de9f547fd1cccd6fbf6d811b154108.plot', 'plot-k32-2021-05-28-08-56-d7b5664bb8953fe6dedb74e038b6bacc641c9fee972cb93b5c8d299277a399e6.plot']\n",
      "find plot /mnt/hddc/ptm0t00528\n",
      "/mnt/hddc/ptm0t10528\n",
      "['plot-k32-2021-05-29-21-16-bb94fd152cfcc4f8cd0c177af5a84ee3454f7aef5790e364ace158f8920c33b0.plot', 'plot-k32-2021-05-30-10-24-2f248d9893fe987b33b8f2a93d112616d7ea7260d527f62266e3f7a9e0fc33e3.plot', 'plot-k32-2021-05-29-09-03-6e8985ca9ce8ded0e9ef6d429cdedb996de7945f58bee270a2b6bde8e3a8abac.plot']\n",
      "find plot /mnt/hddc/ptm0t10528\n",
      "['/mnt/hddc/ptm0t10531', '/mnt/hddc/pt', '/mnt/hddc/ptm0t00528', '/mnt/hddc/ptm0t10528']\n",
      "/mnt/hddd\n",
      "[]\n",
      "/mnt/hddd/ptm10527\n",
      "['plot-k32-2021-05-29-21-09-d0419f0daab95356c9dcf91620c072c2657448bcedcee71064c5fbcddf270216.plot', 'plot-k32-2021-05-30-09-26-416a2388af9b7141db8904414dbe7f4dc623b8bac8c99fdad6c0a4f2c2c5c5db.plot', 'plot-k32-2021-05-31-06-10-857d17f927b242cdf603a42ea192c545ce9c379f53fb6984d20d7a2f7961e556.plot', 'plot-k32-2021-05-30-19-26-57d22f27635fedfaeb4fe17af1dfe8e34c87cd5acfda9807e9b5123f60371a63.plot', 'plot-k32-2021-05-29-03-49-3262e578fa25928341f7c6339dbffa9204c9332af593ce63783ce27ff0e08a8d.plot', 'plot-k32-2021-05-28-16-54-340dca0be4acb05b82206574c3076f4a83f7fa0a7013e117ad48a6717b406140.plot', 'plot-k32-2021-05-30-03-43-68e08ae7982814947af37216d7a20089d9c47abdbb350019ea8645e76fcac003.plot', 'plot-k32-2021-05-28-01-40-5736dd90c25e63c590c1c3062548b27d7c2060c33dd13d505bbbc686498b9061.plot', 'plot-k32-2021-05-28-07-18-3f767d11f49217704d094654f20292bf91410c2b6b46eeee4daa1d5640f3e46c.plot']\n",
      "find plot /mnt/hddd/ptm10527\n",
      "/mnt/hddd/ptm1t10528\n",
      "['plot-k32-2021-05-31-07-47-41540ec8b415c32350b5cb08c77fd32d239eb92f34405274df027768cfd60382.plot', 'plot-k32-2021-05-31-17-50-bdda7456e32f8a09f78cf33745b5d39faf19645ecd5791c8d52307d37b73f173.plot', 'plot-k32-2021-05-31-23-47-31a73429465757147b8a5ff6f460cdce762fa58ac162a5a77d556667d9eb0246.plot', 'plot-k32-2021-05-29-07-02-33c51e95cbc8984a990ca1bf430fd894312ec40d8bad67631b896270b44fbc4d.plot', 'plot-k32-2021-05-30-10-30-8333e1c440ff3d494d0422a084ad8e58eb5845a9c7764e42b505c79f9155cb98.plot', 'plot-k32-2021-05-28-20-04-f7795834667f5ceeda65a67c9d961781388e44e2aaab39d0afee8f08b6976c05.plot', 'plot-k32-2021-05-29-16-24-399afa6c1f0bbc99190c5301780b30c8b428fe22b1200d3083a6828a6edae125.plot', 'plot-k32-2021-05-28-09-08-fde5aa8aeea4552665db320d17ae9ec19d56a1805c55d20388cac779fb015280.plot', 'plot-k32-2021-05-30-21-07-81560db636cdebbf3197b6cdcba7f8b7ac010a9c85a526a25611057410baf34f.plot']\n",
      "find plot /mnt/hddd/ptm1t10528\n",
      "/mnt/hddd/pt01\n",
      "['plot-k32-2021-06-19-11-59-6b1d0ab0acda3cdb0f6cc5f79b83b8e2c2fac3f5f6936411d3dffe8f73cb2f16.plot', 'plot-k32-2021-06-18-22-52-6113c1d387959ef181c048c25158d5d067dee805ee6bf451c65ab015a11667ff.plot', 'plot-k32-2021-06-20-04-03-c3963bc28c1bd2817ecc2c984ce81ca2caeda9b3386e23315a778c61df21a2ab.plot', 'plot-k32-2021-06-18-18-29-e55687611c70706fa89fcf329a2df28a0ee23635837c7fc781c563f6ead96006.plot', 'plot-k32-2021-06-19-21-02-20b70e46733159dc3db3196d88d482d4f29ed96093330b4719bac15153ed5d2a.plot', 'plot-k32-2021-06-18-20-38-c06be8bed3306e1248ffc2c4577da6517db75f08301b94d1cae3424afbfd7a4e.plot', 'plot-k32-2021-06-20-01-38-2f229c7883b2c25547a51738a637951087fc82948033e71c8bbdea23678af8be.plot', 'plot-k32-2021-06-18-23-59-c5a3bbbc832a20b56ff4359db30607050f3fef3907cbc95027b5f1e98256d74a.plot', 'plot-k32-2021-06-20-07-56-0dbec39e8e501804b423a547cbb984539cbd9508f9e58f334ecdb2b01af50c20.plot', 'plot-k32-2021-06-18-17-32-ad84df4fd27115d5e5eae8a73b0424c62727f56c2b9e79264cdc476625ddabef.plot', 'plot-k32-2021-06-18-19-33-69b0a74ecc8b8907775d3370063d6b918cbffeef0e9ff08e92a1237beee85547.plot', 'plot-k32-2021-06-19-23-20-497b0b29e2b87c7d85abeecc3b0f2af0c5c09ae76315ca048bff28c7f7a04de5.plot', 'plot-k32-2021-06-20-00-29-51a39b1cdb8a3e9ee321f4cc44fcb309e3ee0769edef8e39372aefdb999ec0dc.plot', 'plot-k32-2021-06-20-02-49-ce65611e67789d62fb2bfab04c184b5eab3c2f8ca4b516b33a0def2fbe7512f8.plot', 'plot-k32-2021-06-19-17-39-a9abfa6a8a43d1a2611a3e0f4054dc5be6583bb8df1b8fbb172cf79b19a834df.plot', 'plot-k32-2021-06-18-21-45-8b8c87e3f44eb4d5b714cc7fab2788c7a4e543daa87218da6151fccad562a4c5.plot', 'plot-k32-2021-06-19-14-16-179c5ef0e0541e8bb1d22ad94ed05b92c1470040225921bb289f0c96f754660e.plot', 'plot-k32-2021-06-19-22-11-d08c6d0fe01c8ca7d86549b9c22b4a9dc4752bf88dd96393aa56cf84ff536910.plot', 'plot-k32-2021-06-19-13-07-2fdaafddc756d9f9583169a7758ee77d7460afeb3e312f0f9159c00bb55c4d4f.plot', 'plot-k32-2021-06-20-06-36-bfe814e85acde6ac123d149486f12eb3bfb000c3c4cf07fa4c71ff6324260707.plot', 'plot-k32-2021-06-19-19-55-c4b01a4ba3179db1fbb1ce30a1b1a90bd0e1fc66e17508b6fe860f29eb87b423.plot', 'plot-k32-2021-06-20-05-17-2fb7fca6ea6ce91875dbf85d7b9c274e43eb0b2a1a27fc59fe5c70e0b1d177b4.plot', 'plot-k32-2021-06-19-10-52-db376a1619dd88875921587fb8e152ca0c15dcd0c507ef461c044f68d4ea4b19.plot', 'plot-k32-2021-06-19-16-31-b80ba5a3ddd0f284fdaa657f1d24b58b7f6e89e100d836d52c727f4282e60eb2.plot', 'plot-k32-2021-06-19-18-47-f0fc443485d728fb20f79b154b6333e232c9a25fdf4288a1ff23122bcf202d2c.plot', 'plot-k32-2021-06-19-15-23-f586449b1fa22ea32731572aeb963e7396c54b34e661b08f6800c88d6c5a080f.plot', 'plot-k32-2021-06-19-01-08-09dd692f2aee5b3e4b3127d80526658a310b97c0ba4f1057b27a45a942b02d6a.plot']\n",
      "find plot /mnt/hddd/pt01\n",
      "['/mnt/hddd/ptm10527', '/mnt/hddd/ptm1t10528', '/mnt/hddd/pt01']\n",
      "/mnt/hddf\n",
      "[]\n",
      "/mnt/hddf/ptm030624\n",
      "['plot-k32-2021-06-25-05-42-8580b48f3baecf807f9939b6f58754b2fb5a86d4daa631975f494987ee4bafd9.plot', 'plot-k32-2021-06-27-04-28-d831f5621415b53f3ecf9b8992641eb885adcb55a980e1597873ba469314646b.plot', 'plot-k32-2021-06-26-15-32-72d1a66bde8f64d0b2d4ab1a703770d46063acf254e33519d65b0120fb652cd9.plot', 'plot-k32-2021-06-27-22-56-0107a3572a60d04cb1f4af6e0b83159f5faa39575c63a794fda9cee903d7ba96.plot', 'plot-k32-2021-06-25-03-37-e44b3ac7ecdf02f25197e4deb4acfa44b1680c1bdc26d9eb2b3012690c6dde4d.plot', 'plot-k32-2021-06-26-17-23-70a5f2fb4c80689782eb640db832b67d71b51f1522cf9f87ff120af32770153d.plot', 'plot-k32-2021-06-27-10-02-c94a69aa6cd9f061eba4b63a6cb76eed445e05d0bdff25e153fb83d9ad551b4d.plot', 'plot-k32-2021-06-25-19-53-98f95e936cfcc7c925b7f4d77e32d97c32fce9d00306350a8db1833df0c5a335.plot', 'plot-k32-2021-06-28-01-45-b8b48af45d7c83b34edcafd7e83ee7c218c2ee658449375a03013e935af0e94b.plot', 'plot-k32-2021-06-26-03-58-fce8ed8762f79e7e6951d0c48219296c4aa14f06ed374cae00963552d1da4668.plot', 'plot-k32-2021-06-28-09-54-54e2ab542f3622c3bd1f97cf4deaf1f327639e967244a5146b4a87899b03da3b.plot', 'plot-k32-2021-06-26-07-52-4928a54ab4a7229fec51afce62df976fa7e585badafa03fe695419c05633b7b4.plot', 'plot-k32-2021-06-27-02-36-58d7b5f4d7808530873a00045b8d9951124c736bde251832306d21e064cb567f.plot', 'plot-k32-2021-06-28-03-04-7d3bfde70b0b8e11817fec99ae5992112aecd0fca282978e33a0b8445d374a42.plot', 'plot-k32-2021-06-28-04-27-0c94adc8028c2ce46647bb0adcd7d6563940343d036791c935e7866556666daf.plot', 'plot-k32-2021-06-26-01-55-e7ffe0462bb68f2b7d0f1c90118dd5b214cd543b3220f9b8c7cfba886aba2230.plot', 'plot-k32-2021-06-27-11-52-d7443ab096bb5d0f94e9c3ff919c23d4544bc5bd39c11b8f7d402346c18b8b34.plot', 'plot-k32-2021-06-26-13-40-4993eaa8adb89f7f540b69dd73b89b5540e719fb390019a73851ab7bdff40d53.plot', 'plot-k32-2021-06-28-14-02-a386627baf4003ebb90d16115585a01e29d749fda12316d17f553bedf1ab2526.plot', 'plot-k32-2021-06-25-07-48-559c7155f3e2322626ac7a0222d14f0ad7fee56b487ff8cfaaf9d04b2680fc66.plot', 'plot-k32-2021-06-26-05-55-b23d693de91edfeba575dd05a21cd6538f09bf20b518bbc352dc7ae4e30deabf.plot', 'plot-k32-2021-06-25-23-55-69987cee11c7360d73a278ad295ec341ad35e421a5d5494552f60e4a0bda4746.plot', 'plot-k32-2021-06-28-08-32-4a1fc2c010cfe012b3d3a97cd92be0dfa1c3f5ca5cb352317d2e508fa5e08aac.plot', 'plot-k32-2021-06-28-07-12-f9cf9c42d00d348c9070d094fb888b0465917c84613c235a4530349d105fe462.plot', 'plot-k32-2021-06-27-00-46-f763dfd6cffda46c34d5d521932412739cc8729d12ab1a020a1374b803b4c4ba.plot', 'plot-k32-2021-06-28-00-23-03b0a660a379870acc028a7f50d18486d4535788bf0f9c0ec21ac1f76ad39d4d.plot', 'plot-k32-2021-06-25-21-54-4aca9e82f53d87a68149f32f322f447e34ed52a06afbc959c3dbea09a6c7464c.plot', 'plot-k32-2021-06-28-05-48-65f71ae9da87448a524734f0a4ace935e396c62f47841da2f8e540e1a5b8f8af.plot', 'plot-k32-2021-06-27-06-18-253d056880b068406b7c563b7d163e396b1aa84151b06b5e45da93ce8fab80ef.plot', 'plot-k32-2021-06-27-17-24-cbc410db1f86fd165e5f6093af0a160af139c66729299a4d483604a51ccbee07.plot', 'plot-k32-2021-06-24-23-21-f554783db115d202b65075ba1bd2dcf0293547e4db2f70069e823bea18a08813.plot', 'plot-k32-2021-06-26-21-05-10180893684e9a827d48d6bf26ea6700f7596e329d49f96c9dc4b765afd22c09.plot', 'plot-k32-2021-06-27-21-05-9236bf4cfd294763ad094e4e9cf9924ba7ac0dc6bd2c502b40dc6e4053dae79c.plot', 'plot-k32-2021-06-26-19-15-7d83b69a37af2dcbe2f25f6b891bff0cf98deefaaf1d8d877380beec6012321a.plot', 'plot-k32-2021-06-27-13-43-3495014b50cc6e68d4ba7efe47a94bb90d8094cbd20232aee8c9dee3b685acb5.plot', 'plot-k32-2021-06-26-11-44-da10c1ddb88611018b99cb6d032799f21626e61431af4538c4c9283b9d7396d1.plot', 'plot-k32-2021-06-28-11-17-6bae8d6f49c47d939d6a716c8c1486d0cecbc257f58f9c438b77bc5d6b994167.plot', 'plot-k32-2021-06-25-01-29-5d96e54f8855ea86746df651a13b69d9fe9e9f7db1ec0fd3d2355d72b8c9d6e8.plot', 'plot-k32-2021-06-26-09-47-fa4143abacaa079ed3f689082a429ee2ead527c37b01a5c7410fa5ce1b3e813b.plot', 'plot-k32-2021-06-28-15-24-b2975894667753327ec94008c530f7806fb3a37de30985a6b30ff02862a7cdc0.plot', 'plot-k32-2021-06-27-19-16-8fe0ac86f22ca5d6561cd5bc351e8ed06fa373b1edfeed6f8166689f35e21f0d.plot', 'plot-k32-2021-06-28-12-37-a1bfac942557c9f42c982362c6b2b1500769ca684f1b5b36a20e08e2dbc66d93.plot', 'plot-k32-2021-06-27-08-10-b87c5404b8884e404ffdaba834c511407e081bb5092adaf7fa8694be6e92d2e5.plot', 'plot-k32-2021-06-27-15-33-62b565f8bb52b2d8c5e8a04f285983b46f28d6e37fd936058838a4bc1347441e.plot', 'plot-k32-2021-06-26-22-54-d1fbb794c750fda55edec585b3669971aca04c54edd7d8252bdd05f08c3d36ed.plot', 'plot-k32-2021-06-28-16-47-2f522897390a16c638d931f28df896b08fdf3070fd67a5616d217b0610cce782.plot.tmp']\n",
      "find plot /mnt/hddf/ptm030624\n",
      "['/mnt/hddf/ptm030624']\n",
      "/mnt/hddg\n",
      "[]\n",
      "/mnt/hddg/ptm030629\n",
      "['plot-k32-2021-07-01-16-03-b354b5013227d562dbf42f507a0194eae284688e7e50f2453415bbf06d331a58.plot', 'plot-k32-2021-07-01-21-23-ed8593a43aee5af15c54de33cf418b3b01affe460203c307823b68060001129d.plot', 'plot-k32-2021-06-30-06-30-528b863bbd4b8a61bf1bd204c4d242709f434aaf5a8f22c2160d6abd84f96284.plot', 'plot-k32-2021-06-30-15-20-e5875102cb6e4eb518bec795c6e541739c35968719d1c34c9d52e86faef6f11e.plot', 'plot-k32-2021-06-30-08-16-481840f8b689c4a30f3e71a5ac2b13ee8849a0e0234d5e8ac0244cf1c790e434.plot', 'plot-k32-2021-06-29-15-17-1d9b82e103fedd75b69b084779efa366682237ef61a8d64129fb506e57114fdb.plot', 'plot-k32-2021-07-01-08-57-fbb7de8c9b53df7cdf6e69c1f9ec618bf1f4ac64e35990bea86a8e731e2e262f.plot', 'plot-k32-2021-06-29-11-56-a63470e9bf7ec6703213cc3e67287f0e43cf37d41c95a99db6b79c0cc66a8a39.plot', 'plot-k32-2021-06-29-22-03-fd235b28445bc11dd6162ea3cbe3c43607d2024e35eb8137ee2048efb928a482.plot', 'plot-k32-2021-06-29-18-40-e530e13b2f750e2059eaea348a552ef7bd4d4decf5b93eaf85b8496b5371ad99.plot', 'plot-k32-2021-07-01-03-39-d559cc3fa3987bc6e7b208887b37e1e5df9a53e7f8f3399e2292ae719e1ed14d.plot', 'plot-k32-2021-06-29-13-36-157699be38ffece9805ac98ba0f1799d3646f3a48a50dd249fe60e2777dee37e.plot', 'plot-k32-2021-07-02-00-52-e3aa062616144b3a3411cbabd99f1980f81befed755c22847b8e587e301c1ec0.plot', 'plot-k32-2021-07-01-01-53-29c1c5181b87bf7b51fa6f7f90f409ae43a772873710a5df297c388116f90c96.plot', 'plot-k32-2021-07-02-02-36-a4d5277e387281dfcfa2b5ae1db3c023d85cfc3b56e93e40a444c0915ad236c4.plot', 'plot-k32-2021-06-30-20-33-95484ecc4779121b4b76747a77c6851f335593538122ac49c4b949c6bdd8d0d5.plot', 'plot-k32-2021-07-01-17-51-6528bdaba8aac7544c4c6920484dc96094a3861fa597d8bcdbc68df64d8e65b0.plot', 'plot-k32-2021-07-02-07-49-aba119e50e1f640e20eac61bf6b92af8bd269822c71ea545ac39784254d4b044.plot', 'plot-k32-2021-06-30-13-35-e31baabb93ee049557dd1e091ab06d799309a1e6da878b12e164f24ce029c346.plot', 'plot-k32-2021-07-01-10-44-da508cc011ce333119bdc18b0effe92ba9d5f58fce8808cc39472cad36ec6b68.plot', 'plot-k32-2021-07-01-14-16-3413dcbd8a341528a72193cb0865ff296ea08adf2e4c6e091e85d50ee7de4fdc.plot', 'plot-k32-2021-07-02-04-21-94642aa705c55d7cdfeebe6c89ea5252e5cf4478f49dbf1c17d53a4dd5539cbc.plot', 'plot-k32-2021-06-29-20-20-f856f2a8d6ad7f763696d2eb1189f6d685502879315e440ef11ca0a261360017.plot', 'plot-k32-2021-07-03-12-44-3fe812531416d87c5b6727f6d5b561860687ed4b93f45da80e0c05f6980b0375.plot', 'plot-k32-2021-06-30-22-20-99a6bc282a21dda4b82a37513d0ce235c3e21196887fc1968ffa131296e49f8a.plot', 'plot-k32-2021-07-01-07-10-fa7fb24626214fbdbc383a1ee67a1c37e8c5bd03d32e33232c679af8b358dbcd.plot', 'plot-k32-2021-06-30-11-51-5d9cf4c54b4df706976f35382826a94d7ef7213c56608b793d042fe06b1e8673.plot', 'plot-k32-2021-06-30-03-08-fd4a469541b453805f1a79917e69a39208a1a678a8342d38f49705b9061a03c2.plot', 'plot-k32-2021-06-29-16-58-fa38c84aed7b82319c1a68973480cacaa269ae4c3f0e3a2652b11de97aca5877.plot', 'plot-k32-2021-06-29-10-14-2e044687d4d85e679e7f2319fb390c768afe92eaab991b01e8908ed38a845872.plot', 'plot-k32-2021-07-01-00-08-b9ee3cd532d89a762fbd9dc4e9a8d15d8ab59c79bd70896f380399a3071fbeb1.plot', 'plot-k32-2021-06-29-23-45-53323c62f1fa99af548fd185c6ecea4b032be0c51d20a8c6a47950ba703b3fc3.plot', 'plot-k32-2021-07-02-09-34-8f8f931e9ce8a5a1357f4f433ee0086ef63b6110dbdc93e647bf757f9d2e614b.plot', 'plot-k32-2021-07-01-05-23-ae49f0b739223032d3267a4c2a7a1d53f74b3a480d51b49dbb1a0d1c8a659eea.plot', 'plot-k32-2021-07-02-06-05-aafc69b94712ca71835a068b10a49b808533a2efcfcfc67a97f32cbcd2b47dcc.plot', 'plot-k32-2021-07-01-19-38-20bae4bdb0886f79112b62174f52ef3bb6eea5d2e8ad2174fc745ed31df79856.plot', 'plot-k32-2021-06-30-04-49-3a9fcb5feb73bfefd07b8c4e9425eebc9d0a9ae0e71d753eebff293c53b0cfb0.plot', 'plot-k32-2021-06-30-17-05-3b9b59d9332f41b5a3d25778b326ccd887403bbdf03c3a691abdf6bbc59e27ad.plot', 'plot-k32-2021-06-30-01-26-6efb378e6ddfd5a4b69b877c3de9f1e4b165ec68de50f779a8bc482d1afef227.plot', 'plot-k32-2021-07-03-11-01-880888fdc5037def938383b4b94cc8f5dc372c8f43fee20f4184d1202875f5c2.plot', 'plot-k32-2021-07-03-14-25-94e14ffc0f3b5b48563a0a862daaf3ec2e3e15f9b00777e91a0222bcb4590bd6.plot', 'plot-k32-2021-06-30-18-49-2c5e20b7c0bda8b619dd20fb86285ba5821a925fb189982350833d26531450d0.plot', 'plot-k32-2021-06-30-10-03-3a01f3607e9237c3c38c7f868931a9271ad80053e6c846be51dd210cf07aa10b.plot', 'plot-k32-2021-07-01-23-08-983fe14cab6cb76ba20a42f9b0e60977b2e207bda5d94e8094a85104bd66b77d.plot', 'plot-k32-2021-07-01-12-27-f14ac7c15aba8d991bb395029f0f52b33a6683bce61bf0c555c60ab4f4410549.plot']\n",
      "find plot /mnt/hddg/ptm030629\n",
      "['/mnt/hddg/ptm030629']\n",
      "/mnt/hdde\n",
      "[]\n",
      "/mnt/hdde/ptm2t10528\n",
      "['plot-k32-2021-05-30-15-34-ac268fe77a836214465b0a70b62fc30d1856c2ea5b9d33c24b6260428bbc5375.plot', 'plot-k32-2021-05-30-07-02-ca2567463a848b1ccb524c104050fec0cbc5ad134a459f216d20ddaa000c6f84.plot', 'plot-k32-2021-05-31-02-17-3474d1c60f7cd393f7f77d5de398c05582834a83d7a9dc27490d1a520528d4b9.plot', 'plot-k32-2021-05-30-20-55-85c01141aef85b64cfa3bfbdf12d449f7eb834c9b03c4b43b9361af7390b5425.plot', 'plot-k32-2021-05-29-21-23-12d00e7ccd6812afe409643a6e5016f55f7513cfdb199109483f1233f490e276.plot']\n",
      "find plot /mnt/hdde/ptm2t10528\n",
      "/mnt/hdde/pt01\n",
      "['plot-k32-2021-06-18-03-23-3342a76f5e0a6d5b4e90cbef853fc736e21a697b7490de0e00b384b11574e289.plot', 'plot-k32-2021-06-17-09-58-6b7353c51c7d5fc27c775d6e0c10a18753dd9478d5ac08d5657cdb2942bfde37.plot', 'plot-k32-2021-06-17-13-46-158f8b271acf5189ea83a6994c5ed1268c8e9dab5b6b9a7fb75c55932e28979e.plot', 'plot-k32-2021-06-17-22-47-f400a9686f7cbbaa0a8ecc8a1c276382d69077b1552a21673c91078445ac9d74.plot', 'plot-k32-2021-06-18-01-10-f3fef79d6844c6d684c24f00314cc2ab06e52423425bcd52532cf6a96492e32f.plot', 'plot-k32-2021-06-17-20-46-2837e4f2702617de40993f9d2e3159b8005e89a5b1b2db510f3fca8ecf7bdf7d.plot', 'plot-k32-2021-06-17-11-43-c353cfa18030365a13fccad49523db9cf8c95cda7cf06698ab89ac2c06f690f7.plot', 'plot-k32-2021-06-17-18-17-231a49e1dca0874b1ef844b2096ad79811992f31d94485422984441c26efa2e5.plot', 'plot-k32-2021-06-17-16-03-646ecdf52e86f160cf6b1f83ecde00b94e2795782e5fdcdfa5f4c6d5d717a810.plot']\n",
      "find plot /mnt/hdde/pt01\n",
      "/mnt/hdde/ptm2t00528\n",
      "['plot-k32-2021-05-29-19-57-ce51a33dcb4cbb7bed7f7266fe3e407e81ac1d7090575d006a1b9c03656527b4.plot', 'plot-k32-2021-05-29-09-25-c69cfa65e1783501c8d80c3029a439cf594bc0d1c2987b741997feaf5749ea1c.plot', 'plot-k32-2021-05-30-04-36-13f25a600243022aa818f9be276b97351dcc60dedc2c28d7dabdf5500753bc6e.plot', 'plot-k32-2021-05-28-20-37-6b4d9c223e3174cb051e188661b7fe583e20ead8489e4134c61e80701e82cdac.plot', 'plot-k32-2021-05-29-14-42-441a09229ab7346f8b778e138eb7690dcebbfb08c8b342e24c3c277697bba65d.plot']\n",
      "find plot /mnt/hdde/ptm2t00528\n",
      "/mnt/hdde/ptm205310608\n",
      "['plot-k32-2021-06-03-10-57-fd7e19cec1cf5493dd6cd2093c8c5771507f6171d4d6864f182493a1a7b76ab8.plot', 'plot-k32-2021-06-04-10-44-e5929652428ed0201617e89b696fe6eb01253550613301019bdd72a0ebac18bc.plot', 'plot-k32-2021-06-03-23-29-eeb5e008f1a7e25b937a6683f5b3bdfa14b3342944572bf914a0a3ee36dfad8b.plot', 'plot-k32-2021-06-01-10-03-6bc675d801b5e5f978e2560670c97b8bc072c4880d49e53d329b1f1748b58184.plot', 'plot-k32-2021-06-04-23-45-e4ad426d3625b8297f8a1bc1ec50c06820569e55eb9139572c789483b69b5c65.plot', 'plot-k32-2021-06-01-23-20-47d487251d005795d5a8faf86bb0ddc451b39c526f43a27f9af4c15ed3178e2c.plot', 'plot-k32-2021-06-03-22-31-f647222a2f28a51ab21356a593cf5f8b63a12e91336840f96969a8a78b139199.plot', 'plot-k32-2021-06-01-13-38-200171232b8ebf667452e13f20345daaa23d32401a10adc024fa397e5465ed7d.plot', 'plot-k32-2021-06-05-23-42-e9efc519579b50f7511446e626967a789b8291c2eb6fcc5d0f2a3d2d20da7185.plot', 'plot-k32-2021-06-01-22-50-a0d5c25a2d73be30c144b334dfb7505cb7139e84357d5f5bd06bb9efea91bd58.plot', 'plot-k32-2021-06-02-22-09-cdae7df849979c0972d1899b10eb38756cdf4afc659dbf667b8aea0246f38dc6.plot', 'plot-k32-2021-05-31-17-31-ff79985bc8bfb22a6d61d9f370f430a1c8dcf4ff28aea598fedff5e19ad4f7d3.plot', 'plot-k32-2021-06-07-10-57-1f8b1f0e7fe2d87602114a8072bb5797312f51874d0ee4b9c6f05e57405462b8.plot', 'plot-k32-2021-06-06-08-15-16968f61b7fe4285b1d418a6411706f103d57c125144569590ec2565b65cdaa7.plot', 'plot-k32-2021-06-04-22-47-c5d757c4abdce0e6c1a3a63ccb58df33b5fbd453a0c8be5db8e523f71f9c00e9.plot', 'plot-k32-2021-06-05-22-35-2878804dc4a42590f6de269d08da1edc667563c78560b56d3e768249e10dbd51.plot', 'plot-k32-2021-06-08-13-22-ccb080eb4464f923ddf46d0cab6df91d9ddf1ee8e3eeac4b59803e0013497968.plot', 'plot-k32-2021-06-03-10-05-52ccfc19b69d730929f7574841d6750f593ced26f90692dda44b8a96f23925d1.plot', 'plot-k32-2021-06-05-11-41-d38a80bed27287d91ea37f357c8b0890f6b67cebd6109a71b648dd4000a3428e.plot', 'plot-k32-2021-06-05-10-44-b1e987ef77daf19bf521ec33a5892c826255582e99f05b15936130c320263b5c.plot', 'plot-k32-2021-06-08-11-49-68c0160bef526281021979d86f80dfb0119c1730cd993df55968e61712367e56.plot', 'plot-k32-2021-06-02-21-39-2d21478e34046eee1f1404ea42226271e8cdc4cb6fdfe058eeb76d9f210f9320.plot', 'plot-k32-2021-06-07-09-57-6041439d4d69c5286fb40492e6b5935a8a71ed015f4dcd16bd6d0a7dd38f35b2.plot', 'plot-k32-2021-06-04-11-37-425a5cf7a895a25ab766ca7620a6240f1b0c58c06765f24595b180a4774036e9.plot', 'plot-k32-2021-06-07-10-27-2f6560b6f287aaf7dbeb8c202c6e610c32e1e6a6776c9b6a6ef9cd4b54951d55.plot', 'plot-k32-2021-05-31-18-01-60c7de60f5ce7b4e8cf2add4c4312e006ad9eb0b0e7ca09a5c7b898d35d8c1dd.plot']\n",
      "find plot /mnt/hdde/ptm205310608\n",
      "['/mnt/hdde/ptm2t10528', '/mnt/hdde/pt01', '/mnt/hdde/ptm2t00528', '/mnt/hdde/ptm205310608']\n",
      "/mnt/hddh\n",
      "[]\n",
      "/mnt/hddh/pt01\n",
      "['plot-k32-2021-06-21-18-54-635cd5786b79ef909d9f6e64d7099ab76bc4f8cb5f40fdaeceabda85311b8eca.plot', 'plot-k32-2021-06-19-21-14-63b80fb90997984cce93609ab5fdd84baf810b6ad6b4af0fa6a4ec62c628d172.plot', 'plot-k32-2021-06-19-10-41-8101011338be05bd352ec404aec08e32b48ce9b548336b9983186bbc3d9bc0ff.plot', 'plot-k32-2021-06-20-10-26-db04050653c0a47ae41c4d0c1af35c6f68c167b5457e6ce8dc3e4a84d0975bcf.plot', 'plot-k32-2021-06-21-23-23-d19c5ab7cf5bdad635abf8f82eb8e812ccdcc7716daee8e8776697bdbcfb35f6.plot', 'plot-k32-2021-06-22-20-33-6ee6140851bcf60d4c11291401703f3471f7911e66285274ec52ffb6dabe4cd0.plot', 'plot-k32-2021-06-21-11-49-3c705b01d0fb10c55531f5f0b56425227545118a56d8c868406368a298e81c16.plot', 'plot-k32-2021-06-21-17-23-9af339d9d3225d0300565111faf5c6eb04a02ec936ec2d38b7673c92ca2dab2e.plot', 'plot-k32-2021-06-21-14-28-a935a5523f0b248e5012fcf6b8dfd420a6ccad4bf5cb03831672ec09ed280c1a.plot', 'plot-k32-2021-06-20-17-36-5fc282286cf06132eedbf984dc8400cbc3b8fce9fb665219cd8c5aa64e91e385.plot', 'plot-k32-2021-06-18-16-26-6d5fbb54ac9237ee2240aea7c17d87631b1597344ea1df19f8478fe0af9ee1ac.plot', 'plot-k32-2021-06-22-09-48-2cea246c9b098edacdde0bb23c428ca6cedfca8c571abb61430b6db8d6afd664.plot', 'plot-k32-2021-06-21-15-58-9a2ea70421164a325b57521c9fbc4d1afea09425ac33b6459f57986ce8530a7b.plot', 'plot-k32-2021-06-21-20-20-1e2e3e51b8505f4007c5360d33aabf6dfbe54e4991deafe330d5d997ba9012cc.plot', 'plot-k32-2021-06-19-17-02-19baa573861402689b52dcad83cb010a704ca28e59e752e5125d510a09497126.plot', 'plot-k32-2021-06-20-13-15-be76ba1e7eacaa732c5b44e559ae2cf39642306a3565885bfab9b9f6f3c5db13.plot', 'plot-k32-2021-06-22-15-09-bf945bd035e80b57d1aa63c544d8ae85b3ba6ae3757b9b661b352937a22f629f.plot', 'plot-k32-2021-06-19-15-39-90a26efef8aa7f758776f5f5a6a1500ddecd7d6317b912feb008ff4bf70649d3.plot', 'plot-k32-2021-06-21-10-44-7fd87596d92fc8589584dae9d2f82c2cbaeaf4b73a36c9b56fb2fd1611f5b9b1.plot', 'plot-k32-2021-06-22-11-36-222d59286b0e9804115918da988537d70526b20280edb59f8dd6252e8f4e5de6.plot', 'plot-k32-2021-06-22-17-02-13985af02b98e74e18f4e696f88bc55ee6ce83103b9f942e10d411aeb31a22b7.plot', 'plot-k32-2021-06-20-22-00-62c310a1e855cf4cc38e6df3381cbbef89a60689da956c77a10e926f0b30fe02.plot', 'plot-k32-2021-06-19-11-47-0e5cb1be72eb891e814a8fc7d71f02dc09c5dbab2176a8885a63d7ce7d6d1154.plot', 'plot-k32-2021-06-22-06-13-f0d7df5430e5c5f6e5b1070a48610de70df5ebc65c48ac57b1bab75d5e2665f8.plot', 'plot-k32-2021-06-19-19-52-4b35b065dd5d984eb163b3b563ddffc069955f9ed995ee13d00befe054c042ba.plot', 'plot-k32-2021-06-21-21-52-cf6ab8ab42dcd6fe49b9de1b40713f098a908561cc54f7b16783b4e394359151.plot', 'plot-k32-2021-06-22-02-37-e31a436e1544a77148cb9f663a7d9531d9d05b3f3fae31f6a2208c641312b18a.plot', 'plot-k32-2021-06-22-13-19-7aac08e15b42c80e8a8745bdfe77b659a6f190c803c45720efcae73cafea58ca.plot', 'plot-k32-2021-06-19-14-15-fa6e35bdb87a5ac4b5d8cbe5ccee940c7a017838d3a34b4e55c790cb5bec525b.plot', 'plot-k32-2021-06-23-04-34-0f68c4205f6c877870970994b0ddc7a5f9a65c6076f9ac53d309e19fa3df5c00.plot.tmp', 'plot-k32-2021-06-19-18-26-d764754ee690bffc3bc0d84ee2b53a8c70870d56d120249670d45c7c32a0bef6.plot', 'plot-k32-2021-06-21-13-05-b05a11d0ecc43eb78d55ca9f120747b33d598496ea7fbcfc6214c39cc21fac2c.plot', 'plot-k32-2021-06-19-01-43-475c6c06a858d7dbb388c182b7838eeae5370fb82ef36e5b96302dd8faeba4a2.plot', 'plot-k32-2021-06-18-20-23-dec17c722d18b8f319b3e0374f15208eb4fde7ca8dbf9c7ce4e09c1735553c1c.plot', 'plot-k32-2021-06-22-08-03-aac4ce4f10aa2d019077a83018b90f08c99ec1fac2a130159bd9bc40c88ef67d.plot', 'plot-k32-2021-06-20-11-49-59f0f0e3f514c59609433f9d418f4ab82cbe26e08966cd99957e3238c3f0950f.plot', 'plot-k32-2021-06-22-04-28-3451bd78c1cbc7b7172a078f4f0f7669cd982fdaed648ea6bf57171812588f74.plot', 'plot-k32-2021-06-22-00-56-35d2a59360450e4cca083a4a965384ae3341cac5f9d0a83c70dc508ee3daebed.plot', 'plot-k32-2021-06-20-14-41-2651375f962329de5561f219a19daf73a846eb71d6c13a0e14fa51a781d3ebca.plot', 'plot-k32-2021-06-22-22-33-454661b328fe1009e793a6340276ececa033a1a9a222de93d54fddcf2b0eeb32.plot', 'plot-k32-2021-06-20-19-02-c3d2de0f491db1f42f82689b19533cd9ce82c491459c30c3eca0fd9fa273c72c.plot', 'plot-k32-2021-06-23-02-35-b6903385c062196b7c8231a422f877867c0f421b0814c45d33cd3e23efe9f561.plot', 'plot-k32-2021-06-20-16-07-b7c3db78bece56cee7c0b59cc426e1fcbb22162fece75288e566b430fcaabce7.plot', 'plot-k32-2021-06-19-12-58-18dc8bf27badffdfd7500a4e4d0288616441cbe433cfff5d59c92a5919f61017.plot', 'plot-k32-2021-06-23-00-37-373eccd82987b8026748a50d2b8a2fb3c097a0afd9c67ed0a534cf8055904301.plot', 'plot-k32-2021-06-20-20-32-a0185167f278c4d85a158e28b8f28c60d803a5f30ed79052a3ab18cb03f006fc.plot']\n",
      "find plot /mnt/hddh/pt01\n",
      "['/mnt/hddh/pt01']\n",
      "/mnt/hddi\n",
      "[]\n",
      "/mnt/hddi/ptm010704\n",
      "['plot-k32-2021-07-05-10-26-18b0db6a90940c93d5ad7124243db43d60ba177e30a03df79e11a88616ad7f54.plot', 'plot-k32-2021-07-04-18-36-c9f8dfa6bda59b8d0c040c5ac45ce199f24825acb960f02a58fbdd973a4741de.plot', 'plot-k32-2021-07-05-04-06-2b3886cc9577b4db04d33d1b7091fb90f74f1525a30cbd3f0dc2f9ff9f7b2310.plot', 'plot-k32-2021-07-05-03-19-1b704d8eaf394a7d6077a3e7b2932d213f34a8994be7ed29af5f25ad24f08d68.plot', 'plot-k32-2021-07-05-00-56-0a89afc66a67e8496ee1cb0c270c648c5863b58f351aa5d939bf07e6081f1105.plot', 'plot-k32-2021-07-05-15-10-555e7db73152cbfb6384d9a2ce071584678e05f42c2dff866b9a30579c9eb837.plot', 'plot-k32-2021-07-04-13-51-3f3f31fb6db4315fea8df194c16fb4b9dd52bd0813f9cd1588af346effe50045.plot', 'plot-k32-2021-07-05-16-45-7c6e0051a4687f8cf1b2b7fbd4c586084de714c267df3392e949b565f5474dab.plot', 'plot-k32-2021-07-04-13-03-f7d1e51295a3571f78262cde14b2580f2230085acd1cf3bf6b72a7a5a60bde51.plot', 'plot-k32-2021-07-05-18-20-6dfc068b521c3d4de69652cf3c1af697049faf860b2787f6c15e21cdbbbdb830.plot', 'plot-k32-2021-07-05-19-55-e7f0065891037e8bd15893d06453ca80e55c42b89f4e1c8da186b102ef5dd3a7.plot', 'plot-k32-2021-07-04-19-23-972149776dd6ec6e14920f9b97b944e4bc629ae5e29cac0155770cee735ed52c.plot', 'plot-k32-2021-07-04-17-48-2a3b85d842a7b87b2759bc11bedc10906120d1f4974d820db799af1631810e55.plot', 'plot-k32-2021-07-05-12-01-17ca17b64b9a2ce326915ab8b2f96d5643987fd4d5ad9ba5e16f610dd9451e4d.plot', 'plot-k32-2021-07-04-16-13-9806d28f947d01ccb86c4bf1d196c4dc045583aa174a89b4fd9fad1bf6eda9ca.plot', 'plot-k32-2021-07-04-11-29-572570274f9a9e7f7ba09a375330f402933d30f6811fd4d69929fe6b19f69979.plot', 'plot-k32-2021-07-05-15-58-3ec59719c39e9788db27a22532f9d5143cb2001a5b957ad33f6133322b45161d.plot', 'plot-k32-2021-07-05-08-04-c71cfcd75ffacdac55c13146452af0772d1b1e4de9d5f6e86593d5da5b4b3c45.plot', 'plot-k32-2021-07-04-17-01-643a5317a1394eb6a75398886faf5f72210f40b78c02ffcdb11a71ce5f6ee901.plot', 'plot-k32-2021-07-05-09-39-c64024b131ec9fc4bac82fabec43a83897f8d48fc1402bb129ac7877bbc558ff.plot', 'plot-k32-2021-07-05-17-32-01dfa09e835b307cd90e4d7337cf95b29c14304e336a758bb22251bcbfc3259e.plot', 'plot-k32-2021-07-05-12-49-affdf0ce60d45e62d2b72552e0a714bfedbc80eb3a10ef998073ae633ca4944d.plot', 'plot-k32-2021-07-05-02-31-43b167f988238f1a90255041d57a5dbd9c998f527fe4a487a7dd1a9b28df04b6.plot', 'plot-k32-2021-07-04-20-11-04ba0d92eb8fcb9cef6efed4d8eaab0983d2d052b182cede79fc2dab8e077cdc.plot', 'plot-k32-2021-07-04-05-32-fd8686a256db3ab5065f4691b4958c722088837ed8c919c2e704d5f7cadb8f59.plot', 'plot-k32-2021-07-04-12-16-83031e4fc607d37a9413f6776d290b1b165e06b90a166628cae476e04c640f05.plot', 'plot-k32-2021-07-05-08-51-407309daaeff11722959ff03f61d17592c9260c9f3ca8a18b2578e1c8f5d66ba.plot', 'plot-k32-2021-07-05-05-41-996b7fbbba50818bafa9eadc5e6f8f3af8218014202d602ed0c4be98afc31b40.plot', 'plot-k32-2021-07-05-14-23-069379367b54a8f0e7e6b42b53adcc501fa38d3d332d0f089ce916d0d13abbfc.plot', 'plot-k32-2021-07-04-14-38-7165c2582958641a1f9dce7265b8600cdee03d4d422d9a207a551bf97480edaa.plot', 'plot-k32-2021-07-05-04-53-ebad7fa52a0ade9740c9bca69a2ed65febaf65c599231975cc9e86d3f113dc2f.plot', 'plot-k32-2021-07-04-20-58-7e1a95918ed9ea276bbe220fd810142d11ca840f2aef3565e4e06334039d107c.plot', 'plot-k32-2021-07-05-13-36-34573c8ade317ee8759d816c04212e9b7cc9d632ec3b1c2e4ad5498f1a8fddc5.plot', 'plot-k32-2021-07-04-21-46-13deb2e133458f835547a76e7dc6bcd5d5a93d0b588c592c3e74528f47ca9126.plot', 'plot-k32-2021-07-04-22-33-5a692e532884a61238309b876c54390f94f0b6053cbaae933ed268e37365f569.plot', 'plot-k32-2021-07-04-23-21-a2bdac20fd323c21107e58b5c4ef4877ffc639a00b172868cbb2bb7c4da05bb0.plot', 'plot-k32-2021-07-04-06-19-b1e8d36829e9b4062f6871cc5664ca371e9b108f101ccd1722531c0dbf5e046f.plot', 'plot-k32-2021-07-05-00-09-66c221a1e843f2a21e384cca934b49c6318ccf1355d463f377c28c47dd02a33d.plot', 'plot-k32-2021-07-05-20-42-246f2e7e1218a5d727ef18693a475a38477e0df16d7c2d7710e4f2182a4c046f.plot', 'plot-k32-2021-07-05-07-16-bdd73203c70f490d98f31ebc339f5875a4f9b60438233399103d9ca4f008194b.plot', 'plot-k32-2021-07-04-15-26-9da45e1e349b6ecd835065cf38a730c439a73163c2e429bcf64d5576606b692c.plot', 'plot-k32-2021-07-05-19-07-07633e59e9e0fb270a5ad74740b9c444673f6061d000e7141ba6a10309d6cc25.plot', 'plot-k32-2021-07-05-11-14-9b19e5bac19bf6eee3efda5728291c63571dbbd7431298bf0beb87ceada0ce32.plot', 'plot-k32-2021-07-05-01-44-32e2cc6db1c65fe690d7b48884a94cc7042ea858487b1593c98218b0f93b185e.plot', 'plot-k32-2021-07-05-06-29-c4908810f8492880e131d67e9fb3c710cdba232dcc71fc632b9d0a76755a3bef.plot']\n",
      "find plot /mnt/hddi/ptm010704\n",
      "['/mnt/hddi/ptm010704']\n",
      "/mnt/hddj\n",
      "['nohup.out']\n",
      "/mnt/hddj/ptm010702\n",
      "['plot-k32-2021-07-02-23-31-e2f967614cd6e00d5ebcfa4ec31df54d7d79bd7427cac178cc03363bab21c2f8.plot', 'plot-k32-2021-07-03-09-47-84ef7e5dec021454179f368aa637060019c5704c6cf5c8082eb55dd1e95470a3.plot', 'plot-k32-2021-07-04-03-57-33e14cf4472bc11219a47798fd0df532ab9bc71b225170600745920dca1b5c72.plot', 'plot-k32-2021-07-03-04-15-0ca853b33f0c57c5f17548a9710439d1e04175bca7b1f8ec94cc4b325dfe2514.plot', 'plot-k32-2021-07-02-17-59-4cca9d3b5bfc45948d6e26ea16997fe80c4efb4a07f67c44832faffc6a15f5f7.plot', 'plot-k32-2021-07-03-20-04-892f70b02c3f483ae4e61fc41790915295800f77649329410aba9e8728977552.plot', 'plot-k32-2021-07-03-07-25-e735f8b4f453ab1aef218c208e3fa585205621f5d0281b8b58562d4d6e85dddd.plot', 'plot-k32-2021-07-03-01-53-0836234a9be7a96174ef2eddcddd58571a9c5a568a9b5ad4eca855df721bf547.plot', 'plot-k32-2021-07-03-02-40-84b2f1a70ba02a038e6c4066e6ce7d2696bd969a2f451500e27682707e9f724d.plot', 'plot-k32-2021-07-03-23-13-4b932e190cf791b269d5e357a73bc317ae042fec3b05bec72d92304a082ea1a7.plot', 'plot-k32-2021-07-03-05-02-070c15194a15e9e20b07ce2d7d33d906d891380d48582ed902c3c0b4f3d5a576.plot', 'plot-k32-2021-07-03-06-37-aa561a65923c3d40393b7b61357c81f8ff31ead45319b6fbd66ef93e508d8f94.plot', 'plot-k32-2021-07-03-11-22-28c6d99ecb51c23f70045be18646b9a14d6a14acfe3b33a7fde15892a94240de.plot', 'plot-k32-2021-07-03-22-26-ccaec1cf2ddeab39368b80914098e212b640cdee153876bbb8a2a5386f330212.plot', 'plot-k32-2021-07-04-00-48-a6b1efa02672a2497e8d98dbacf274812c99d9a9bab700bea15a00dcf8041317.plot', 'plot-k32-2021-07-03-08-12-4d9c450be6879683284457c51e642c93520df80d8f2bc23455c1ca729219a9bc.plot', 'plot-k32-2021-07-02-21-56-e0dd6a74e6dbe87d023e294da49f467b4a9ba30616671b517838e7b841bb93a6.plot', 'plot-k32-2021-07-03-13-44-e049a0852dc570ca01f8585bf9717f446dd59deab1dbed9a29b3e060d7db860c.plot', 'plot-k32-2021-07-04-01-35-0b3549586795eba537ede33bafe423d630e8a53791c48b3e227c9f18e51e4974.plot', 'plot-k32-2021-07-04-00-00-548d2d08c2c428648f9083e38d6fa2e7732f3d7ae8660d7d6b1830b3b87faf08.plot', 'plot-k32-2021-07-03-12-57-72307913c7a3aba6c0fb12bf4908851ecdb2a97c68d3013621d33536d328cdef.plot', 'plot-k32-2021-07-02-22-43-d7df67031ac1daa1088780f62f07bdd59fff910d84bd57febdd111a5283bb035.plot', 'plot-k32-2021-07-02-19-34-47fdbfcc26d33c3a1b308080a9bee67945227f285cbb1be412f0f17b98431aae.plot', 'plot-k32-2021-07-03-17-41-a2592a7bdbb2e72b67d634b6d84d9e00188b722a6de5b79ecbca57995e0bd3d5.plot', 'plot-k32-2021-07-04-04-44-b5ee3647e7b035762444c2262d58a9a45e2ca43325c0b14d715fd2b9b0aca535.plot', 'plot-k32-2021-07-04-02-22-7c7a7dcc368ac7498f585dca371ed0ae78ff868a79c611aef118dc5ae5a286e8.plot', 'plot-k32-2021-07-03-00-18-eb9db394749059d445ff439762bb5908a1bc09198c595db520e7fe0cb22f2aaa.plot', 'plot-k32-2021-07-04-03-10-0e12e1eb2231bf82b8ab28043ccb924b62ca7c3060b0d13d5a5958d275db3744.plot', 'plot-k32-2021-07-03-16-06-90a2185b00925bf072c3ce65be9837f41056da1a1c1e774c389323f443ae4e50.plot', 'plot-k32-2021-07-03-20-51-badd1bf31b8a21373e1a7512f08f1ccf527d5dd1b3146e22a4ec110f7b02e6e6.plot', 'plot-k32-2021-07-03-21-38-4817b996256e67c2de4be20bffa33734e92e5a1005845431e9dc8b1b4591ca8a.plot', 'plot-k32-2021-07-02-18-46-8c3c0da2e0e5e1ffde29c55a13076298a37a9543d5e9e8dfae65b3e74b3db947.plot', 'plot-k32-2021-07-03-08-59-dcc1dc56a5c80358f2d5b7f293a9ff5e23c1b698d39c1d0f25a2844a795db0e7.plot', 'plot-k32-2021-07-03-15-19-e0a1b93f8cd6819786a7f393ad401a2f48d17fa81485fefef330820b67c47e59.plot', 'plot-k32-2021-07-02-21-09-691abcf9332ba567266b5320b5f9961ea28899cd693411ffd22c2302f6430c6b.plot', 'plot-k32-2021-07-03-10-34-205618c0c7138e50943f7242fc01009cbfc82b03b103b555bbabfad24622eb58.plot', 'plot-k32-2021-07-03-01-06-15c8cf99654f75c238e927a670827c11a5efa4b39806bc038d5ec7b6d281fadd.plot', 'plot-k32-2021-07-03-14-31-aaae7d1501a2a68570d76be0d56994e0a277ccdadae0062cee05e4b37dc9c29a.plot', 'plot-k32-2021-07-03-03-28-d99b4eece75aefaafe57b4be3c95622c344d63d10bda7ded51f6d3e64cce176a.plot', 'plot-k32-2021-07-03-05-50-84436b5716875c036175e226889f34615bd80aa35bbf77ac62d66c70dea89d14.plot', 'plot-k32-2021-07-02-20-21-a234947acd58dcf010f6b0f47e1d74e475c3fdc09e606d545fc2012188279fa7.plot', 'plot-k32-2021-07-03-16-54-2f5c1dee21babf6a61b28b422239272e720ba7a8e66dc2d3e2a7733fb651384b.plot', 'plot-k32-2021-07-03-12-09-25ef48bd48305fc88ed95b0389230e2d3efefbb2a3fd5e67068009053ed8d792.plot', 'plot-k32-2021-07-03-18-29-94e6ecdb51b98fb9d3b25c3145a3ce456465dda063859436c75b2d2a7c710914.plot', 'plot-k32-2021-07-03-19-16-11fdcfc7d0dd1bee05eb102890da9d13b8763d2ef79c735af7833e50d7aa6b16.plot']\n",
      "find plot /mnt/hddj/ptm010702\n",
      "['/mnt/hddj/ptm010702']\n"
     ]
    }
   ],
   "source": [
    "plotv=[]\n",
    "for plot in plotdirv:\n",
    "    print(plot)\n",
    "    for item in plot:\n",
    "        plotv.append(item)"
   ]
  },
  {
   "cell_type": "code",
   "execution_count": 36,
   "id": "5f2598d1",
   "metadata": {},
   "outputs": [
    {
     "name": "stdout",
     "output_type": "stream",
     "text": [
      "['/mnt/hdda/ptm020625', '/mnt/hddb/ptm020620', '/mnt/hddc/ptm0t10531', '/mnt/hddc/pt', '/mnt/hddc/ptm0t00528', '/mnt/hddc/ptm0t10528', '/mnt/hddd/ptm10527', '/mnt/hddd/ptm1t10528', '/mnt/hddd/pt01', '/mnt/hddf/ptm030624', '/mnt/hddg/ptm030629', '/mnt/hdde/ptm2t10528', '/mnt/hdde/pt01', '/mnt/hdde/ptm2t00528', '/mnt/hdde/ptm205310608', '/mnt/hddh/pt01', '/mnt/hddi/ptm010704', '/mnt/hddj/ptm010702']\n"
     ]
    }
   ],
   "source": [
    "print(plotv)"
   ]
  },
  {
   "cell_type": "code",
   "execution_count": 23,
   "id": "b65ec746",
   "metadata": {},
   "outputs": [
    {
     "name": "stdout",
     "output_type": "stream",
     "text": [
      "Requirement already satisfied: pyyaml in /usr/lib/python3/dist-packages (5.3.1)\r\n"
     ]
    }
   ],
   "source": [
    "!pip install pyyaml"
   ]
  },
  {
   "cell_type": "code",
   "execution_count": 25,
   "id": "0d4489b0",
   "metadata": {},
   "outputs": [
    {
     "ename": "ModuleNotFoundError",
     "evalue": "No module named 'pyaml'",
     "output_type": "error",
     "traceback": [
      "\u001b[0;31m---------------------------------------------------------------------------\u001b[0m",
      "\u001b[0;31mModuleNotFoundError\u001b[0m                       Traceback (most recent call last)",
      "Input \u001b[0;32mIn [25]\u001b[0m, in \u001b[0;36m<module>\u001b[0;34m\u001b[0m\n\u001b[0;32m----> 1\u001b[0m \u001b[38;5;28;01mimport\u001b[39;00m \u001b[38;5;21;01mpyaml\u001b[39;00m\n",
      "\u001b[0;31mModuleNotFoundError\u001b[0m: No module named 'pyaml'"
     ]
    }
   ],
   "source": [
    "import pyaml"
   ]
  },
  {
   "cell_type": "code",
   "execution_count": 26,
   "id": "f9978667",
   "metadata": {},
   "outputs": [],
   "source": [
    "from yaml import load, dump"
   ]
  },
  {
   "cell_type": "code",
   "execution_count": 28,
   "id": "b764d65e",
   "metadata": {},
   "outputs": [
    {
     "ename": "ModuleNotFoundError",
     "evalue": "No module named 'file'",
     "output_type": "error",
     "traceback": [
      "\u001b[0;31m---------------------------------------------------------------------------\u001b[0m",
      "\u001b[0;31mModuleNotFoundError\u001b[0m                       Traceback (most recent call last)",
      "Input \u001b[0;32mIn [28]\u001b[0m, in \u001b[0;36m<module>\u001b[0;34m\u001b[0m\n\u001b[0;32m----> 1\u001b[0m \u001b[38;5;28;01mimport\u001b[39;00m \u001b[38;5;21;01mfile\u001b[39;00m\n\u001b[1;32m      2\u001b[0m stream \u001b[38;5;241m=\u001b[39m file(\u001b[38;5;124m'\u001b[39m\u001b[38;5;124mdocument.yaml\u001b[39m\u001b[38;5;124m'\u001b[39m, \u001b[38;5;124m'\u001b[39m\u001b[38;5;124mw\u001b[39m\u001b[38;5;124m'\u001b[39m)\n",
      "\u001b[0;31mModuleNotFoundError\u001b[0m: No module named 'file'"
     ]
    }
   ],
   "source": [
    "import file\n",
    "stream = file('document.yaml', 'w')"
   ]
  },
  {
   "cell_type": "code",
   "execution_count": 30,
   "id": "b0366802",
   "metadata": {},
   "outputs": [],
   "source": [
    "import yaml\n",
    "with open(\"/home/aadebuger/linux/config.yaml\", 'r') as stream:\n",
    "    data_loaded = yaml.safe_load(stream)"
   ]
  },
  {
   "cell_type": "code",
   "execution_count": 31,
   "id": "441fe59c",
   "metadata": {},
   "outputs": [
    {
     "name": "stdout",
     "output_type": "stream",
     "text": [
      "{'token': '', 'path': ['/mnt/hdd/pt01', '/mnt/hddd/pt01', '/mnt/hdd/pt00', '/mnt/hddc/pt0', '/mnt/hddc/ptm506010607', '/mnt/hddb/ptm050705', '/mnt/hddg/ptm050709', '/mnt/hddh/ptm050714', '/mnt/hddi/ptm050720', '/mnt/hddj/ptm050723', '/mnt/hddk/ptm050729', '/mnt/hddl/ptm050802', '/mnt/hddm/ptm050807', '/mnt/hddn/ptm050809', '/mnt/hddo/ptm050813', '/mnt/hddp/ptm050816', '/mnt/hddr/ptm050826', '/mnt/hddq/ptm050830', '/mnt/hdds/ptm050905', '/mnt/hddt/ptm050908'], 'minerName': 'M5', 'apiKey': '8b9ad87c-4253-4188-845f-38643839f84d', 'cachePath': '', 'deviceId': '', 'extraParams': {}, 'log': {'lv': 'info', 'path': './log/', 'name': 'miner.log'}, 'url': {'info': '', 'submit': '', 'line': '', 'ws': '', 'proxy': ''}, 'scanPath': False, 'scanMinute': 60, 'debug': '', 'language': 'cn', 'line': 'cn', 'multithreadingLoad': False}\n"
     ]
    }
   ],
   "source": [
    "print(data_loaded)"
   ]
  },
  {
   "cell_type": "code",
   "execution_count": 37,
   "id": "541cde3c",
   "metadata": {},
   "outputs": [],
   "source": [
    "data_loaded['path']=plotv"
   ]
  },
  {
   "cell_type": "code",
   "execution_count": 38,
   "id": "4860e51e",
   "metadata": {},
   "outputs": [],
   "source": [
    "import io\n",
    "with io.open('myconfig.yaml', 'w', encoding='utf8') as outfile:\n",
    "    yaml.dump(data_loaded, outfile, default_flow_style=False, allow_unicode=True)"
   ]
  },
  {
   "cell_type": "code",
   "execution_count": 39,
   "id": "4e5085a7",
   "metadata": {},
   "outputs": [
    {
     "name": "stdout",
     "output_type": "stream",
     "text": [
      "apiKey: 8b9ad87c-4253-4188-845f-38643839f84d\r\n",
      "cachePath: ''\r\n",
      "debug: ''\r\n",
      "deviceId: ''\r\n",
      "extraParams: {}\r\n",
      "language: cn\r\n",
      "line: cn\r\n",
      "log:\r\n",
      "  lv: info\r\n",
      "  name: miner.log\r\n",
      "  path: ./log/\r\n",
      "minerName: M5\r\n",
      "multithreadingLoad: false\r\n",
      "path:\r\n",
      "- /mnt/hdda/ptm020625\r\n",
      "- /mnt/hddb/ptm020620\r\n",
      "- /mnt/hddc/ptm0t10531\r\n",
      "- /mnt/hddc/pt\r\n",
      "- /mnt/hddc/ptm0t00528\r\n",
      "- /mnt/hddc/ptm0t10528\r\n",
      "- /mnt/hddd/ptm10527\r\n",
      "- /mnt/hddd/ptm1t10528\r\n",
      "- /mnt/hddd/pt01\r\n",
      "- /mnt/hddf/ptm030624\r\n",
      "- /mnt/hddg/ptm030629\r\n",
      "- /mnt/hdde/ptm2t10528\r\n",
      "- /mnt/hdde/pt01\r\n",
      "- /mnt/hdde/ptm2t00528\r\n",
      "- /mnt/hdde/ptm205310608\r\n",
      "- /mnt/hddh/pt01\r\n",
      "- /mnt/hddi/ptm010704\r\n",
      "- /mnt/hddj/ptm010702\r\n",
      "scanMinute: 60\r\n",
      "scanPath: false\r\n",
      "token: ''\r\n",
      "url:\r\n",
      "  info: ''\r\n",
      "  line: ''\r\n",
      "  proxy: ''\r\n",
      "  submit: ''\r\n",
      "  ws: ''\r\n"
     ]
    }
   ],
   "source": [
    "!cat myconfig.yaml\n"
   ]
  },
  {
   "cell_type": "code",
   "execution_count": null,
   "id": "8c1cdf2a",
   "metadata": {},
   "outputs": [],
   "source": []
  }
 ],
 "metadata": {
  "kernelspec": {
   "display_name": "Python 3 (ipykernel)",
   "language": "python",
   "name": "python3"
  },
  "language_info": {
   "codemirror_mode": {
    "name": "ipython",
    "version": 3
   },
   "file_extension": ".py",
   "mimetype": "text/x-python",
   "name": "python",
   "nbconvert_exporter": "python",
   "pygments_lexer": "ipython3",
   "version": "3.8.10"
  }
 },
 "nbformat": 4,
 "nbformat_minor": 5
}
